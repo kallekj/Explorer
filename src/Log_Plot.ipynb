{
 "cells": [
  {
   "cell_type": "code",
   "execution_count": 1,
   "metadata": {},
   "outputs": [],
   "source": [
    "%config Completer.use_jedi = False"
   ]
  },
  {
   "cell_type": "code",
   "execution_count": 119,
   "metadata": {},
   "outputs": [],
   "source": [
    "import matplotlib.pyplot as plt\n",
    "import glob\n",
    "import pandas as pd\n",
    "import numpy as np\n",
    "import csv\n",
    "from ast import literal_eval\n",
    "\n",
    "\n",
    " \n",
    "def set_table_indexes(algorithm_logs):\n",
    "    names = list(filter(lambda x: \"Final\" in x,algorithm_logs.keys()))\n",
    "    indexes={0:\"Total distance (km)\", 1:\"Total load (kg)\", 2:\"Total Estimated Fuel Consumption (L) (Hao et al.)\",\n",
    "      3:\"Avg Estimated Fuel Conspumtion (L/100km) (Hao et al.)\",4:\"Total Estimated Fuel Consumption (L) (Rakha et al.)\",\n",
    "      5:\"Avg Estimated Fuel Conspumtion (L/100km) (Rakha et al.)\",\n",
    "      6:\"Avg Speed (km/h)\",7:\"Computation Time (s)\"}\n",
    "\n",
    "    for name in names:\n",
    "        algorithm_logs[name].rename(index=indexes,inplace=True)\n",
    "    return algorithm_logs\n",
    "\n",
    "\n",
    "\n",
    "def load_logs(folder_path,filetype=\"csv\"):\n",
    "    logdir = \"../logs/\"\n",
    "    logFiles = {}\n",
    "    if not folder_path.startswith(logdir):\n",
    "        folder_path = logdir + folder_path\n",
    "    if not folder_path[-1] == \"/\":\n",
    "        folder_path = folder_path + \"/\"\n",
    "    \n",
    "    for logfile in glob.glob(\"{}*.{}\".format(folder_path,filetype)):\n",
    "        filename = logfile.split(\"/\")[-1]\n",
    "        \n",
    "\n",
    "        file = pd.read_csv(logfile)\n",
    "        \n",
    "        logFiles[filename[:-4]] = file\n",
    "        \n",
    "    return logFiles\n",
    "\n",
    "data_50_best_fuel_max_end_set = load_logs(\"2021-02-11/JMetal-50-Nodes-Best-Selector/Total_Fuel_Max_Endpoints_set\")\n",
    "data_50_best_fuel_max = load_logs(\"2021-02-11/JMetal-50-Nodes-Best-Selector/Total_Fuel_Max_Endpoints_Not_set\")\n",
    "data_50_best_fuel_end_set = load_logs(\"2021-02-11/JMetal-50-Nodes-Best-Selector/Total_Fuel_Endpoints_set\")\n",
    "data_50_best_fuel = load_logs(\"2021-02-11/JMetal-50-Nodes-Best-Selector/Total_Fuel_Endpoints_Not_set\")\n",
    "\n",
    "data_50_random_fuel_max_end_set = load_logs(\"2021-02-11/JMetal-50-Nodes-Random-Selector/Total_Fuel_Max_Endpoints_set\")\n",
    "data_50_random_fuel_max = load_logs(\"2021-02-11/JMetal-50-Nodes-Random-Selector/Total_Fuel_Max_Endpoints_Not_set\")\n",
    "data_50_random_fuel_end_set = load_logs(\"2021-02-11/JMetal-50-Nodes-Random-Selector/Total_Fuel_Endpoints_set\")\n",
    "data_50_random_fuel = load_logs(\"2021-02-11/JMetal-50-Nodes-Random-Selector/Total_Fuel_Endpoints_Not_set\")\n",
    "\n",
    "data_10_fuel_max_end_set = load_logs(\"2021-02-11/JMetal-10-Nodes/Total_Fuel_Max_Endpoints_set\")\n",
    "data_10_fuel_max = load_logs(\"2021-02-11/JMetal-10-Nodes/Total_Fuel_Max_Endpoints_Not_set\")\n",
    "data_10_fuel_end_set = load_logs(\"2021-02-11/JMetal-10-Nodes/Total_Fuel_Endpoints_set\")\n",
    "data_10_fuel = load_logs(\"2021-02-11/JMetal-10-Nodes/Total_Fuel_Endpoints_Not_set\")\n",
    "\n",
    "google_10_nodes = load_logs(\"2021-02-11/OR-Tools-10-Nodes\")\n",
    "google_50_nodes = load_logs(\"2021-02-11/OR-Tools-50-Nodes\")\n"
   ]
  },
  {
   "cell_type": "code",
   "execution_count": 120,
   "metadata": {},
   "outputs": [],
   "source": [
    "dataFrames = [data_50_best_fuel,data_50_best_fuel_max,data_50_best_fuel_end_set,data_50_best_fuel_max_end_set,\n",
    " data_50_random_fuel,data_50_random_fuel_max,data_50_random_fuel_end_set,data_50_random_fuel_max_end_set,\n",
    " data_10_fuel_max_end_set,data_10_fuel_max,data_10_fuel_end_set,data_10_fuel,google_10_nodes,google_50_nodes]\n",
    "for dataFrame in dataFrames:\n",
    "    set_table_indexes(dataFrame)"
   ]
  },
  {
   "cell_type": "code",
   "execution_count": 121,
   "metadata": {},
   "outputs": [],
   "source": [
    "import mplcursors\n",
    "%matplotlib widget\n",
    "#pylab\n",
    "def plot_same_algorithm(algorithm_logs: dict,field:str,take_mean:False,plot_title:str,ylabel:str,nameDict:dict,xlabel=\"Iterations\",ax=None):\n",
    "    names = algorithm_logs.keys()\n",
    "    ax = ax or plt.gca()\n",
    "    bestVal = 10e10\n",
    "    bestAlg = \"\"\n",
    "    for name in names:\n",
    "        plotData = algorithm_logs[name]\n",
    "        \n",
    "        if take_mean:\n",
    "            plotData = plotData.to_numpy()\n",
    "            plotData = np.array([literal_eval(plotData[i]) for i in range(len(plotData))])\n",
    "            plotData = list(np.mean(plotData,axis = 0))\n",
    "            ax.plot(plotData,label=\"{}: {}\".format(name,round(plotData[-1],2)),linewidth=2)\n",
    "            if plotData[-1] < bestVal:\n",
    "                bestAlg = name\n",
    "                bestVal = plotData[-1]\n",
    "            \n",
    "        else:\n",
    "            ax.plot(plotData,label=name)\n",
    "        ax.legend(prop={'size': 12})\n",
    "    if take_mean:\n",
    "        plot_title = plot_title + \"\\n{}: {}\".format(bestAlg,round(bestVal,2))\n",
    "        \n",
    "    ax.set_xlabel(xlabel,fontsize=16)\n",
    "    ax.set_ylabel(ylabel,fontsize=16)\n",
    "    ax.tick_params(labelsize=12)\n",
    "    ax.set_title(plot_title,fontsize=16)\n",
    "    mplcursors.cursor(ax)\n",
    "    \n",
    "def plot_algorithms(algorithm_logs: dict,field:str,take_mean:False,plot_title:str,ylabel:str,nameDict:dict,xlabel=\"Iterations\",ax=None):\n",
    "    names = list(filter(lambda x: \"Observer\" in x,algorithm_logs.keys()))\n",
    "    ax = ax or plt.gca()\n",
    "    bestVal = 10e10\n",
    "    bestAlg = \"\"\n",
    "    for name in names:\n",
    "        plotData = algorithm_logs[name][field]\n",
    "        \n",
    "        if take_mean:\n",
    "            plotData = plotData.to_numpy()\n",
    "            plotData = np.array([literal_eval(plotData[i]) for i in range(len(plotData))])\n",
    "            plotData = list(np.mean(plotData,axis = 0))\n",
    "            ax.plot(plotData,label=\"{}: {}\".format(nameDict[name],round(plotData[-1],2)),linewidth=2)\n",
    "            if plotData[-1] < bestVal:\n",
    "                bestAlg = nameDict[name]\n",
    "                bestVal = plotData[-1]\n",
    "            \n",
    "        else:\n",
    "            ax.plot(plotData,label=nameDict[name])\n",
    "        ax.legend(prop={'size': 12})\n",
    "    if take_mean:\n",
    "        plot_title = plot_title + \"\\n{}: {}\".format(bestAlg,round(bestVal,2))\n",
    "    ax.set_xlabel(xlabel,fontsize=16)\n",
    "    ax.set_ylabel(ylabel,fontsize=16)\n",
    "    ax.tick_params(labelsize=12)\n",
    "    ax.set_title(plot_title,fontsize=16)\n",
    "    mplcursors.cursor(ax)\n",
    "def extract_algorithm_data(dataDicts:list,fieldName:str,algorithmName:str,newColumnNames:list):\n",
    "    dataFields = {}\n",
    "    for columnName,dataDict in zip(newColumnNames,dataDicts):\n",
    "        dataFields[columnName]=(dataDict[algorithmName][fieldName])\n",
    "    return pd.DataFrame(dataFields)"
   ]
  },
  {
   "cell_type": "markdown",
   "metadata": {},
   "source": [
    "# Plot JMetal Comparisons between Algorithms for 10 Nodes"
   ]
  },
  {
   "cell_type": "code",
   "execution_count": 124,
   "metadata": {},
   "outputs": [
    {
     "data": {
      "application/vnd.jupyter.widget-view+json": {
       "model_id": "52642d6daaed4e79a69a106db4f1a12f",
       "version_major": 2,
       "version_minor": 0
      },
      "text/plain": [
       "Canvas(toolbar=Toolbar(toolitems=[('Home', 'Reset original view', 'home', 'home'), ('Back', 'Back to previous …"
      ]
     },
     "metadata": {},
     "output_type": "display_data"
    }
   ],
   "source": [
    "\n",
    "    \n",
    "fig,axs = plt.subplots(2,2,figsize=(15,15))\n",
    "plt.style.use('seaborn')\n",
    "\n",
    "nameDict = {\"Observer_SA\":\"SA\",\"Observer_LS\":\"LS\",\"Observer_NSGAIII\":\"NSGAIII\",\"Observer_NSGAII\":\"NSGAII\",\"Observer_GA\":\"GA\"}\n",
    "\n",
    "plot_algorithms(data_10_fuel_max_end_set,'fitness',True,\"Fitness\",\"Fitness\",nameDict,ax=axs[0][0])\n",
    "plot_algorithms(data_10_fuel_max_end_set,'fuel_consumption',True,\"Fuel Consumption\",\"Fuel Consumption\",nameDict,ax=axs[0][1])\n",
    "plot_algorithms(data_10_fuel_max_end_set,'computation_time',False,\"Computation Time\",\"Computation Time\",nameDict,ax=axs[1][0])\n",
    "plot_algorithms(data_10_fuel_max_end_set,'driveTimeDifferences',True,\"Drive Times\",\"Vehicle Road Time\",nameDict,ax=axs[1][1])\n",
    "axs[0][0].set_ylim(140,250)\n",
    "axs[0][1].set_ylim(60,80)\n",
    "plt.show()\n",
    "#not looking for difference in drivetime, better to plot the highest drive time\n"
   ]
  },
  {
   "cell_type": "markdown",
   "metadata": {},
   "source": [
    "# Plot JMetal comparison between algorithms 50 Nodes with random selection for generation algorithms"
   ]
  },
  {
   "cell_type": "code",
   "execution_count": 26,
   "metadata": {},
   "outputs": [
    {
     "data": {
      "application/vnd.jupyter.widget-view+json": {
       "model_id": "2c6d78a312db4376b71c4846e1d06281",
       "version_major": 2,
       "version_minor": 0
      },
      "text/plain": [
       "Canvas(toolbar=Toolbar(toolitems=[('Home', 'Reset original view', 'home', 'home'), ('Back', 'Back to previous …"
      ]
     },
     "metadata": {},
     "output_type": "display_data"
    }
   ],
   "source": [
    "\n",
    "    \n",
    "fig,axs = plt.subplots(2,2,figsize=(15,15))\n",
    "plt.style.use('seaborn')\n",
    "\n",
    "nameDict = {\"Observer_SA\":\"SA\",\"Observer_LS\":\"LS\",\"Observer_NSGAIII\":\"NSGAIII\",\"Observer_NSGAII\":\"NSGAII\",\"Observer_GA\":\"GA\"}\n",
    "\n",
    "plot_algorithms(data_50_random_fuel_max_end_set,'fitness',True,\"Fitness\",\"Fitness\",nameDict,ax=axs[0][0])\n",
    "plot_algorithms(data_50_random_fuel_max_end_set,'fuel_consumption',True,\"Fuel Consumption\",\"Fuel Consumption\",nameDict,ax=axs[0][1])\n",
    "plot_algorithms(data_50_random_fuel_max_end_set,'computation_time',False,\"Computation Time\",\"Computation Time\",nameDict,ax=axs[1][0])\n",
    "plot_algorithms(data_50_random_fuel_max_end_set,'driveTimeDifferences',True,\"Drive Times\",\"Vehicle Road Time\",nameDict,ax=axs[1][1])\n",
    "axs[0][0].set_ylim(180,600)\n",
    "plt.show()"
   ]
  },
  {
   "cell_type": "markdown",
   "metadata": {},
   "source": [
    "# Plot JMetal comparison between algorithms 50 Nodes with best selection for generation algorithms"
   ]
  },
  {
   "cell_type": "code",
   "execution_count": 30,
   "metadata": {
    "jupyter": {
     "source_hidden": true
    }
   },
   "outputs": [
    {
     "data": {
      "application/vnd.jupyter.widget-view+json": {
       "model_id": "efc763bdec494ce88fa31a92f22586e0",
       "version_major": 2,
       "version_minor": 0
      },
      "text/plain": [
       "Canvas(toolbar=Toolbar(toolitems=[('Home', 'Reset original view', 'home', 'home'), ('Back', 'Back to previous …"
      ]
     },
     "metadata": {},
     "output_type": "display_data"
    }
   ],
   "source": [
    "fig,axs = plt.subplots(2,2,figsize=(15,15))\n",
    "plt.style.use('seaborn')\n",
    "\n",
    "nameDict = {\"Observer_SA\":\"SA\",\"Observer_LS\":\"LS\",\"Observer_NSGAIII\":\"NSGAIII\",\"Observer_NSGAII\":\"NSGAII\",\"Observer_GA\":\"GA\"}\n",
    "\n",
    "plot_algorithms(data_50_best_fuel_max_end_set,'fitness',True,\"Fitness\",\"Fitness\",nameDict,ax=axs[0][0])\n",
    "plot_algorithms(data_50_best_fuel_max_end_set,'fuel_consumption',True,\"Fuel Consumption\",\"Fuel Consumption\",nameDict,ax=axs[0][1])\n",
    "plot_algorithms(data_50_best_fuel_max_end_set,'computation_time',False,\"Computation Time\",\"Computation Time\",nameDict,ax=axs[1][0])\n",
    "plot_algorithms(data_50_best_fuel_max_end_set,'driveTimeDifferences',True,\"Drive Times\",\"Vehicle Road Time\",nameDict,ax=axs[1][1])\n",
    "axs[0][0].set_ylim(180,400)\n",
    "plt.show()"
   ]
  },
  {
   "cell_type": "markdown",
   "metadata": {},
   "source": [
    "# Compare  algorithm versions for 50 nodes"
   ]
  },
  {
   "cell_type": "code",
   "execution_count": 31,
   "metadata": {
    "jupyter": {
     "source_hidden": true
    }
   },
   "outputs": [
    {
     "data": {
      "application/vnd.jupyter.widget-view+json": {
       "model_id": "3f5117f3a791427db0fe511f8223ee20",
       "version_major": 2,
       "version_minor": 0
      },
      "text/plain": [
       "Canvas(toolbar=Toolbar(toolitems=[('Home', 'Reset original view', 'home', 'home'), ('Back', 'Back to previous …"
      ]
     },
     "metadata": {},
     "output_type": "display_data"
    }
   ],
   "source": [
    "fig,axs = plt.subplots(2,2,figsize=(15,15))\n",
    "plt.style.use('seaborn')\n",
    "\n",
    "SA_data = [data_50_best_fuel,data_50_best_fuel_max,data_50_best_fuel_end_set,data_50_best_fuel_max_end_set]\n",
    "SA_50_comparison_fitness = extract_algorithm_data(SA_data,\n",
    "                                          \"fitness\",\"Observer_SA\",[\"Total Fuel\",\"Total and Max Fuel\",\"Total Fuel End Set\",\"Total and Max Fuel End Set\"])\n",
    "\n",
    "SA_50_comparison_fuel = extract_algorithm_data(SA_data,\n",
    "                                          \"fuel_consumption\",\"Observer_SA\",[\"Total Fuel\",\"Total and Max Fuel\",\"Total Fuel End Set\",\"Total and Max Fuel End Set\"])\n",
    "\n",
    "SA_50_comparison_computation_time = extract_algorithm_data(SA_data,\n",
    "                                          \"computation_time\",\"Observer_SA\",[\"Total Fuel\",\"Total and Max Fuel\",\"Total Fuel End Set\",\"Total and Max Fuel End Set\"])\n",
    "\n",
    "SA_50_comparison_drive_time = extract_algorithm_data(SA_data,\n",
    "                                          \"meanDriveTimes\",\"Observer_SA\",[\"Total Fuel\",\"Total and Max Fuel\",\"Total Fuel End Set\",\"Total and Max Fuel End Set\"])\n",
    "\n",
    "plot_same_algorithm(SA_50_comparison_fitness,'fitness',True,\"Fitness\",\"Fitness\",nameDict,ax=axs[0][0])\n",
    "plot_same_algorithm(SA_50_comparison_fuel,'fuel_consumption',True,\"Fuel Consumption\",\"Fuel Consumption\",nameDict,ax=axs[0][1])\n",
    "plot_same_algorithm(SA_50_comparison_computation_time,'computation_time',False,\"Computation Time\",\"Computation Time\",nameDict,ax=axs[1][0])\n",
    "plot_same_algorithm(SA_50_comparison_drive_time,'driveTimeDifferences',True,\"Drive Times\",\"Vehicle Road Time\",nameDict,ax=axs[1][1])\n",
    "plt.suptitle(\"Simulated Annealing 50 Nodes\",fontsize=20)\n",
    "axs[0][0].set_ylim(120,400)\n",
    "plt.show()"
   ]
  },
  {
   "cell_type": "code",
   "execution_count": 32,
   "metadata": {
    "jupyter": {
     "source_hidden": true
    }
   },
   "outputs": [
    {
     "data": {
      "application/vnd.jupyter.widget-view+json": {
       "model_id": "bbf7060212bf49a08fc7169eaae66260",
       "version_major": 2,
       "version_minor": 0
      },
      "text/plain": [
       "Canvas(toolbar=Toolbar(toolitems=[('Home', 'Reset original view', 'home', 'home'), ('Back', 'Back to previous …"
      ]
     },
     "metadata": {},
     "output_type": "display_data"
    }
   ],
   "source": [
    "fig,axs = plt.subplots(2,2,figsize=(15,15))\n",
    "plt.style.use('seaborn')\n",
    "\n",
    "\n",
    "Data_50_nodes = [data_50_best_fuel,data_50_best_fuel_max,data_50_best_fuel_end_set,data_50_best_fuel_max_end_set]\n",
    "\n",
    "LS_50_comparison_fitness = extract_algorithm_data(Data_50_nodes,\n",
    "                                          \"fitness\",\"Observer_LS\",[\"Total Fuel\",\"Total and Max Fuel\",\"Total Fuel End Set\",\"Total and Max Fuel End Set\"])\n",
    "\n",
    "LS_50_comparison_fuel = extract_algorithm_data(Data_50_nodes,\n",
    "                                          \"fuel_consumption\",\"Observer_LS\",[\"Total Fuel\",\"Total and Max Fuel\",\"Total Fuel End Set\",\"Total and Max Fuel End Set\"])\n",
    "\n",
    "LS_50_comparison_computation_time = extract_algorithm_data(Data_50_nodes,\n",
    "                                          \"computation_time\",\"Observer_LS\",[\"Total Fuel\",\"Total and Max Fuel\",\"Total Fuel End Set\",\"Total and Max Fuel End Set\"])\n",
    "\n",
    "LS_50_comparison_drive_time = extract_algorithm_data(Data_50_nodes,\n",
    "                                          \"meanDriveTimes\",\"Observer_LS\",[\"Total Fuel\",\"Total and Max Fuel\",\"Total Fuel End Set\",\"Total and Max Fuel End Set\"])\n",
    "\n",
    "\n",
    "\n",
    "plot_same_algorithm(LS_50_comparison_fitness,'fitness',True,\"Fitness\",\"Fitness\",nameDict,ax=axs[0][0])\n",
    "plot_same_algorithm(LS_50_comparison_fuel,'fuel_consumption',True,\"Fuel Consumption\",\"Fuel Consumption\",nameDict,ax=axs[0][1])\n",
    "plot_same_algorithm(LS_50_comparison_computation_time,'computation_time',False,\"Computation Time\",\"Computation Time\",nameDict,ax=axs[1][0])\n",
    "plot_same_algorithm(LS_50_comparison_drive_time,'driveTimeDifferences',True,\"Drive Times\",\"Vehicle Road Time\",nameDict,ax=axs[1][1])\n",
    "axs[0][0].set_ylim(120,400)\n",
    "plt.suptitle(\"Local Search 50 Nodes\",fontsize=20)\n",
    "plt.show()"
   ]
  },
  {
   "cell_type": "code",
   "execution_count": 33,
   "metadata": {
    "jupyter": {
     "source_hidden": true
    }
   },
   "outputs": [
    {
     "data": {
      "application/vnd.jupyter.widget-view+json": {
       "model_id": "d28f424dd79542a8a1b5f22580158e10",
       "version_major": 2,
       "version_minor": 0
      },
      "text/plain": [
       "Canvas(toolbar=Toolbar(toolitems=[('Home', 'Reset original view', 'home', 'home'), ('Back', 'Back to previous …"
      ]
     },
     "metadata": {},
     "output_type": "display_data"
    }
   ],
   "source": [
    "fig,axs = plt.subplots(2,2,figsize=(15,15))\n",
    "plt.style.use('seaborn')\n",
    "\n",
    "\n",
    "Data_50_nodes = [data_50_best_fuel,data_50_best_fuel_max,data_50_best_fuel_end_set,data_50_best_fuel_max_end_set,\n",
    "                     data_50_random_fuel,data_50_random_fuel_max,data_50_random_fuel_end_set,data_50_random_fuel_max_end_set]\n",
    "\n",
    "columnNames = [\"Best:Total Fuel\",\"Best:Total and Max Fuel\",\"Best:Total Fuel End Set\",\"Best:Total and Max Fuel End Set\",\n",
    "               \"Random:Total Fuel\",\"Random:Total and Max Fuel\",\"Random:Total Fuel End Set\",\"Random:Total and Max Fuel End Set\"]\n",
    "\n",
    "NSGAIII_50_comparison_fitness = extract_algorithm_data(Data_50_nodes,\n",
    "                                          \"fitness\",\"Observer_NSGAIII\",columnNames)\n",
    "\n",
    "NSGAIII_50_comparison_fuel = extract_algorithm_data(Data_50_nodes,\n",
    "                                          \"fuel_consumption\",\"Observer_NSGAIII\",columnNames)\n",
    "\n",
    "NSGAIII_50_comparison_computation_time = extract_algorithm_data(Data_50_nodes,\n",
    "                                          \"computation_time\",\"Observer_NSGAIII\",columnNames)\n",
    "\n",
    "NSGAIII_50_comparison_drive_time = extract_algorithm_data(Data_50_nodes,\n",
    "                                          \"meanDriveTimes\",\"Observer_NSGAIII\",columnNames)\n",
    "\n",
    "\n",
    "\n",
    "plot_same_algorithm(NSGAIII_50_comparison_fitness,'fitness',True,\"Fitness\",\"Fitness\",nameDict,ax=axs[0][0])\n",
    "plot_same_algorithm(NSGAIII_50_comparison_fuel,'fuel_consumption',True,\"Fuel Consumption\",\"Fuel Consumption\",nameDict,ax=axs[0][1])\n",
    "plot_same_algorithm(NSGAIII_50_comparison_computation_time,'computation_time',False,\"Computation Time\",\"Computation Time\",nameDict,ax=axs[1][0])\n",
    "plot_same_algorithm(NSGAIII_50_comparison_drive_time,'driveTimeDifferences',True,\"Drive Times\",\"Vehicle Road Time\",nameDict,ax=axs[1][1])\n",
    "axs[0][0].set_ylim(120,400)\n",
    "plt.suptitle(\"NSGAIII 50 Nodes\",fontsize=20)\n",
    "plt.show()"
   ]
  },
  {
   "cell_type": "code",
   "execution_count": 34,
   "metadata": {
    "jupyter": {
     "source_hidden": true
    }
   },
   "outputs": [
    {
     "data": {
      "application/vnd.jupyter.widget-view+json": {
       "model_id": "c6c21f792bec4d50ab94e6c788150537",
       "version_major": 2,
       "version_minor": 0
      },
      "text/plain": [
       "Canvas(toolbar=Toolbar(toolitems=[('Home', 'Reset original view', 'home', 'home'), ('Back', 'Back to previous …"
      ]
     },
     "metadata": {},
     "output_type": "display_data"
    }
   ],
   "source": [
    "fig,axs = plt.subplots(2,2,figsize=(15,15))\n",
    "plt.style.use('seaborn')\n",
    "\n",
    "\n",
    "Data_50_nodes = [data_50_best_fuel,data_50_best_fuel_max,data_50_best_fuel_end_set,data_50_best_fuel_max_end_set,\n",
    "                     data_50_random_fuel,data_50_random_fuel_max,data_50_random_fuel_end_set,data_50_random_fuel_max_end_set]\n",
    "\n",
    "columnNames = [\"Best:Total Fuel\",\"Best:Total and Max Fuel\",\"Best:Total Fuel End Set\",\"Best:Total and Max Fuel End Set\",\n",
    "               \"Random:Total Fuel\",\"Random:Total and Max Fuel\",\"Random:Total Fuel End Set\",\"Random:Total and Max Fuel End Set\"]\n",
    "\n",
    "NSGAII_50_comparison_fitness = extract_algorithm_data(Data_50_nodes,\n",
    "                                          \"fitness\",\"Observer_NSGAII\",columnNames)\n",
    "\n",
    "NSGAII_50_comparison_fuel = extract_algorithm_data(Data_50_nodes,\n",
    "                                          \"fuel_consumption\",\"Observer_NSGAII\",columnNames)\n",
    "\n",
    "NSGAII_50_comparison_computation_time = extract_algorithm_data(Data_50_nodes,\n",
    "                                          \"computation_time\",\"Observer_NSGAII\",columnNames)\n",
    "\n",
    "NSGAII_50_comparison_drive_time = extract_algorithm_data(Data_50_nodes,\n",
    "                                          \"meanDriveTimes\",\"Observer_NSGAII\",columnNames)\n",
    "\n",
    "\n",
    "\n",
    "plot_same_algorithm(NSGAII_50_comparison_fitness,'fitness',True,\"Fitness\",\"Fitness\",nameDict,ax=axs[0][0])\n",
    "plot_same_algorithm(NSGAII_50_comparison_fuel,'fuel_consumption',True,\"Fuel Consumption\",\"Fuel Consumption\",nameDict,ax=axs[0][1])\n",
    "plot_same_algorithm(NSGAII_50_comparison_computation_time,'computation_time',False,\"Computation Time\",\"Computation Time\",nameDict,ax=axs[1][0])\n",
    "plot_same_algorithm(NSGAII_50_comparison_drive_time,'driveTimeDifferences',True,\"Drive Times\",\"Vehicle Road Time\",nameDict,ax=axs[1][1])\n",
    "axs[0][0].set_ylim(120,400)\n",
    "plt.suptitle(\"NSGAII 50 Nodes\",fontsize=20)\n",
    "plt.show()"
   ]
  },
  {
   "cell_type": "code",
   "execution_count": 35,
   "metadata": {},
   "outputs": [
    {
     "data": {
      "application/vnd.jupyter.widget-view+json": {
       "model_id": "5f3d9882fbd441dbb403a01e6c725748",
       "version_major": 2,
       "version_minor": 0
      },
      "text/plain": [
       "Canvas(toolbar=Toolbar(toolitems=[('Home', 'Reset original view', 'home', 'home'), ('Back', 'Back to previous …"
      ]
     },
     "metadata": {},
     "output_type": "display_data"
    }
   ],
   "source": [
    "fig,axs = plt.subplots(2,2,figsize=(15,15))\n",
    "plt.style.use('seaborn')\n",
    "\n",
    "\n",
    "Data_50_nodes = [data_50_best_fuel,data_50_best_fuel_max,data_50_best_fuel_end_set,data_50_best_fuel_max_end_set,\n",
    "                     data_50_random_fuel,data_50_random_fuel_max,data_50_random_fuel_end_set,data_50_random_fuel_max_end_set]\n",
    "\n",
    "columnNames = [\"Best:Total Fuel\",\"Best:Total and Max Fuel\",\"Best:Total Fuel End Set\",\"Best:Total and Max Fuel End Set\",\n",
    "               \"Random:Total Fuel\",\"Random:Total and Max Fuel\",\"Random:Total Fuel End Set\",\"Random:Total and Max Fuel End Set\"]\n",
    "\n",
    "GA_50_comparison_fitness = extract_algorithm_data(Data_50_nodes,\n",
    "                                          \"fitness\",\"Observer_GA\",columnNames)\n",
    "\n",
    "GA_50_comparison_fuel = extract_algorithm_data(Data_50_nodes,\n",
    "                                          \"fuel_consumption\",\"Observer_GA\",columnNames)\n",
    "\n",
    "GA_50_comparison_computation_time = extract_algorithm_data(Data_50_nodes,\n",
    "                                          \"computation_time\",\"Observer_GA\",columnNames)\n",
    "\n",
    "GA_50_comparison_drive_time = extract_algorithm_data(Data_50_nodes,\n",
    "                                          \"meanDriveTimes\",\"Observer_GA\",columnNames)\n",
    "\n",
    "\n",
    "\n",
    "plot_same_algorithm(GA_50_comparison_fitness,'fitness',True,\"Fitness\",\"Fitness\",nameDict,ax=axs[0][0])\n",
    "plot_same_algorithm(GA_50_comparison_fuel,'fuel_consumption',True,\"Fuel Consumption\",\"Fuel Consumption\",nameDict,ax=axs[0][1])\n",
    "plot_same_algorithm(GA_50_comparison_computation_time,'computation_time',False,\"Computation Time\",\"Computation Time\",nameDict,ax=axs[1][0])\n",
    "plot_same_algorithm(GA_50_comparison_drive_time,'driveTimeDifferences',True,\"Drive Times\",\"Vehicle Road Time\",nameDict,ax=axs[1][1])\n",
    "axs[0][0].set_ylim(120,400)\n",
    "plt.suptitle(\"GA 50 Nodes\",fontsize=20)\n",
    "plt.show()"
   ]
  },
  {
   "cell_type": "markdown",
   "metadata": {},
   "source": [
    "# Show final tables"
   ]
  },
  {
   "cell_type": "markdown",
   "metadata": {},
   "source": [
    "# Comparison between Google and JMetal, 10 Nodes"
   ]
  },
  {
   "cell_type": "code",
   "execution_count": 113,
   "metadata": {
    "jupyter": {
     "source_hidden": true
    }
   },
   "outputs": [
    {
     "name": "stdout",
     "output_type": "stream",
     "text": [
      "================================================Google SA=========================================================================JMETAL Total fuel SA==================================================JMETAL Total fuel and end set SA=======\n"
     ]
    },
    {
     "data": {
      "application/vnd.jupyter.widget-view+json": {
       "model_id": "be23181415dc4e8d99c76644b4156eed",
       "version_major": 2,
       "version_minor": 0
      },
      "text/plain": [
       "HBox(children=(Output(), Output(), Output()), layout=Layout(display='flex', flex_flow='row', justify_content='…"
      ]
     },
     "metadata": {},
     "output_type": "display_data"
    }
   ],
   "source": [
    "from ipywidgets import widgets, Layout\n",
    "from IPython import display\n",
    "import pandas as pd\n",
    "import numpy as np\n",
    "\n",
    "# create output widgets\n",
    "widget1 = widgets.Output()\n",
    "widget2 = widgets.Output()\n",
    "widget3 = widgets.Output()\n",
    "\n",
    "# render in output widgets\n",
    "with widget1:\n",
    "    display.display(google_10_nodes['Final_SA'])\n",
    "with widget2:\n",
    "    display.display(data_10_fuel['Final_SA'])\n",
    "with widget3:\n",
    "    display.display(data_10_fuel_end_set['Final_SA'])\n",
    "\n",
    "\n",
    "# add some CSS styles to distribute free space\n",
    "box_layout = Layout(display='flex',\n",
    "                    flex_flow='row',\n",
    "                    justify_content='space-around',\n",
    "                    width='auto'\n",
    "                   )\n",
    "    \n",
    "# create Horisontal Box container\n",
    "hbox = widgets.HBox([widget1, widget2,widget3], layout=box_layout)\n",
    "print(\"================================================Google SA=========================================================================JMETAL Total fuel SA==================================================JMETAL Total fuel and end set SA=======\")\n",
    "# render hbox\n",
    "hbox"
   ]
  },
  {
   "cell_type": "markdown",
   "metadata": {},
   "source": [
    "# Comparison between Google and JMetal, 50 Nodes"
   ]
  },
  {
   "cell_type": "code",
   "execution_count": 114,
   "metadata": {
    "jupyter": {
     "source_hidden": true
    }
   },
   "outputs": [
    {
     "name": "stdout",
     "output_type": "stream",
     "text": [
      "================================================Google SA=========================================================================JMETAL Total fuel SA==================================================JMETAL Total fuel and end set SA=======\n"
     ]
    },
    {
     "data": {
      "application/vnd.jupyter.widget-view+json": {
       "model_id": "c3cef8d3394b4d0899897e66de6eb917",
       "version_major": 2,
       "version_minor": 0
      },
      "text/plain": [
       "HBox(children=(Output(), Output(), Output()), layout=Layout(display='flex', flex_flow='row', justify_content='…"
      ]
     },
     "metadata": {},
     "output_type": "display_data"
    }
   ],
   "source": [
    "from ipywidgets import widgets, Layout\n",
    "from IPython import display\n",
    "import pandas as pd\n",
    "import numpy as np\n",
    "\n",
    "# create output widgets\n",
    "widget1 = widgets.Output()\n",
    "widget2 = widgets.Output()\n",
    "widget3 = widgets.Output()\n",
    "\n",
    "# render in output widgets\n",
    "with widget1:\n",
    "    display.display(google_50_nodes['Final_SA'])\n",
    "with widget2:\n",
    "    display.display(data_50_best_fuel['Final_SA'])\n",
    "with widget3:\n",
    "    display.display(data_50_best_fuel_end_set['Final_SA'])\n",
    "\n",
    "\n",
    "# add some CSS styles to distribute free space\n",
    "box_layout = Layout(display='flex',\n",
    "                    flex_flow='row',\n",
    "                    justify_content='space-around',\n",
    "                    width='auto'\n",
    "                   )\n",
    "    \n",
    "# create Horisontal Box container\n",
    "hbox = widgets.HBox([widget1, widget2,widget3], layout=box_layout)\n",
    "print(\"================================================Google SA=========================================================================JMETAL Total fuel SA==================================================JMETAL Total fuel and end set SA=======\")\n",
    "# render hbox\n",
    "hbox"
   ]
  },
  {
   "cell_type": "markdown",
   "metadata": {},
   "source": [
    "# Comparison between Google GLS and JMetal LS, 50 Nodes"
   ]
  },
  {
   "cell_type": "code",
   "execution_count": 118,
   "metadata": {
    "jupyter": {
     "source_hidden": true
    }
   },
   "outputs": [
    {
     "name": "stdout",
     "output_type": "stream",
     "text": [
      "================================================Google GLS=========================================================================JMETAL Total fuel LS===================================================JMETAL Total fuel and end set LS======\n"
     ]
    },
    {
     "data": {
      "application/vnd.jupyter.widget-view+json": {
       "model_id": "a133d919e8a14817903795cb96e9dd5f",
       "version_major": 2,
       "version_minor": 0
      },
      "text/plain": [
       "HBox(children=(Output(), Output(), Output()), layout=Layout(display='flex', flex_flow='row', justify_content='…"
      ]
     },
     "metadata": {},
     "output_type": "display_data"
    }
   ],
   "source": [
    "from ipywidgets import widgets, Layout\n",
    "from IPython import display\n",
    "import pandas as pd\n",
    "import numpy as np\n",
    "\n",
    "# create output widgets\n",
    "widget1 = widgets.Output()\n",
    "widget2 = widgets.Output()\n",
    "widget3 = widgets.Output()\n",
    "\n",
    "# render in output widgets\n",
    "with widget1:\n",
    "    display.display(google_50_nodes['Final_GLS'])\n",
    "with widget2:\n",
    "    display.display(data_50_best_fuel['Final_LS'])\n",
    "with widget3:\n",
    "    display.display(data_50_best_fuel_end_set['Final_LS'])\n",
    "\n",
    "\n",
    "# add some CSS styles to distribute free space\n",
    "box_layout = Layout(display='flex',\n",
    "                    flex_flow='row',\n",
    "                    justify_content='space-around',\n",
    "                    width='auto'\n",
    "                   )\n",
    "    \n",
    "# create Horisontal Box container\n",
    "hbox = widgets.HBox([widget1, widget2,widget3], layout=box_layout)\n",
    "print(\"================================================Google GLS=========================================================================JMETAL Total fuel LS===================================================JMETAL Total fuel and end set LS======\")\n",
    "# render hbox\n",
    "hbox"
   ]
  },
  {
   "cell_type": "markdown",
   "metadata": {},
   "source": [
    "# Comparison between different Google algorithms, 50 Nodes"
   ]
  },
  {
   "cell_type": "code",
   "execution_count": 116,
   "metadata": {
    "jupyter": {
     "source_hidden": true
    }
   },
   "outputs": [
    {
     "name": "stdout",
     "output_type": "stream",
     "text": [
      "================================================Google SA=========================================================================Google TABU===================================================================Google GLS=======\n"
     ]
    },
    {
     "data": {
      "application/vnd.jupyter.widget-view+json": {
       "model_id": "bd14cf0b3aaf44a3811f6b64c2584c5c",
       "version_major": 2,
       "version_minor": 0
      },
      "text/plain": [
       "HBox(children=(Output(), Output(), Output()), layout=Layout(display='flex', flex_flow='row', justify_content='…"
      ]
     },
     "metadata": {},
     "output_type": "display_data"
    }
   ],
   "source": [
    "from ipywidgets import widgets, Layout\n",
    "from IPython import display\n",
    "import pandas as pd\n",
    "import numpy as np\n",
    "\n",
    "# create output widgets\n",
    "widget1 = widgets.Output()\n",
    "widget2 = widgets.Output()\n",
    "widget3 = widgets.Output()\n",
    "\n",
    "# render in output widgets\n",
    "with widget1:\n",
    "    display.display(google_50_nodes['Final_SA'])\n",
    "with widget2:\n",
    "    display.display(google_50_nodes['Final_TABU'])\n",
    "with widget3:\n",
    "    display.display(google_50_nodes['Final_GLS'])\n",
    "\n",
    "\n",
    "# add some CSS styles to distribute free space\n",
    "box_layout = Layout(display='flex',\n",
    "                    flex_flow='row',\n",
    "                    justify_content='space-around',\n",
    "                    width='auto'\n",
    "                   )\n",
    "    \n",
    "# create Horisontal Box container\n",
    "hbox = widgets.HBox([widget1, widget2,widget3], layout=box_layout)\n",
    "print(\"================================================Google SA=========================================================================Google TABU===================================================================Google GLS=======\")\n",
    "# render hbox\n",
    "hbox"
   ]
  },
  {
   "cell_type": "code",
   "execution_count": null,
   "metadata": {},
   "outputs": [],
   "source": []
  }
 ],
 "metadata": {
  "kernelspec": {
   "display_name": "Python 3",
   "language": "python",
   "name": "python3"
  },
  "language_info": {
   "codemirror_mode": {
    "name": "ipython",
    "version": 3
   },
   "file_extension": ".py",
   "mimetype": "text/x-python",
   "name": "python",
   "nbconvert_exporter": "python",
   "pygments_lexer": "ipython3",
   "version": "3.9.1"
  }
 },
 "nbformat": 4,
 "nbformat_minor": 4
}
