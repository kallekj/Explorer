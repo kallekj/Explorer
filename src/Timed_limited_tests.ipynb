{
 "cells": [
  {
   "cell_type": "code",
   "execution_count": 1,
   "metadata": {},
   "outputs": [],
   "source": [
    "%config Completer.use_jedi = False"
   ]
  },
  {
   "cell_type": "code",
   "execution_count": 101,
   "metadata": {},
   "outputs": [],
   "source": [
    "import numpy as np\n",
    "import pandas as pd\n",
    "from datetime import datetime\n",
    "import matplotlib.pyplot as plt\n",
    "# import geoplot as gplt\n",
    "# import geopandas as gpd\n",
    "import os\n",
    "import copy\n",
    "from copy import deepcopy\n",
    "from shapely.geometry import Point, Polygon\n",
    "from jmetal.util.constraint_handling import overall_constraint_violation_degree\n",
    "from scipy.spatial.distance import squareform \n",
    "from scipy.spatial.distance import pdist\n",
    "from jmetal.util.observer import ProgressBarObserver\n",
    "\n",
    "from jmetal.util.constraint_handling import *\n",
    "from Problem.JMetalPy_modified import *\n",
    "from Problem.ConstraintEvaluation import *\n",
    "from Problem.PerformanceObserver import *\n",
    "from Problem.InitialSolution import *\n",
    "from Problem.FitnessEvaluation import *\n",
    "from Problem.PlotFunctions import *\n",
    "from Problem.RoutingContext import *\n",
    "from Problem.VehicleFunctions import *\n",
    "from Problem.VRP import *\n",
    "from Problem.utils import *\n",
    "from Problem.LogDataHandling import *\n",
    "\n",
    "# https://stackoverflow.com/questions/40536560/ipython-and-jupyter-autocomplete-not-working#40544668\n",
    "api = \"Tfmt6Sxyn-nfinSHUyUo3xmVDWdtwAUyh6C8Y3HTZhU\"\n",
    "# 25_2, 25_4, 25_8, 50_1, 50_2, 50_4, 75_1, 75_3, 75_6\n",
    "dataset = \"UK75_6\"\n",
    "meta_data, distance_data, station_data = parse_UK_Data(\"../datasets/{}/{}.txt\".format(dataset[:-2],dataset))\n",
    "\n",
    "station_coordinates = pd.read_csv('../datasets/{}/{}_coordinates.csv'.format(dataset[:-2],dataset), encoding='utf-8')\n",
    "points_coordinate = station_coordinates[[\"lat\", \"lng\"]].to_numpy()\n",
    "#dbf = gpd.GeoDataFrame.from_file(u\"../datasets/united_kingdom_european_regions/european_region_region.dbf\")\n",
    "#dbf = dbf.to_crs(\"EPSG:4326\")\n",
    "meta_data[\"F-C Empty (l/100km)\"] = 12.5\n",
    "meta_data[\"F-C Full (l/100km)\"] = 15\n",
    "meta_data[\"Vehicle Weight\"] = 3000\n",
    "\n",
    "distance_matrix_here,time_matrix_here = load_saved_here_data(\"../datasets/{}/\".format(dataset[:-2]),dataset)\n",
    "\n",
    "distance_matrix_here = distance_matrix_here.to_numpy()\n",
    "time_matrix_here = time_matrix_here.to_numpy()\n",
    "\n",
    "routingContext = RoutingContext(distance_matrix=distance_matrix_here,time_matrix=time_matrix_here,station_coordinates=station_coordinates,station_data=station_data,meta_data=meta_data)\n",
    "startNodes = {\"UK20_1\":[0,6,10,15],\"UK25\":[0,6,10,15],\"UK50\":[0,6,10,15,21,35,40],\"UK75\":[0,6,10,15,21,35,40,60,31,68]}\n",
    "endNodes = {\"UK20_1\":[4,20,2,5],\"UK25\":[4,20,2,5,22],\"UK50\":[4,20,2,5,32,45,1],\"UK75\":[4,20,2,5,32,45,1]}\n",
    "\n",
    "evaluation_amount = {\"UK25\":3000,\"UK50\":5000,\"UK75\":10000}"
   ]
  },
  {
   "cell_type": "code",
   "execution_count": 102,
   "metadata": {},
   "outputs": [
    {
     "name": "stdout",
     "output_type": "stream",
     "text": [
      "[Errno 17] File exists: 'time_limited_test_data/UK75_6'\n"
     ]
    }
   ],
   "source": [
    "startNodeIndeces = startNodes[dataset[:-2]]\n",
    "endNodeIndeces = endNodes[dataset[:-2]]\n",
    "locationNodeIndeces = list((set(range(len(points_coordinate))) - set(startNodeIndeces)) - set(endNodeIndeces))\n",
    "\n",
    "vehicleData = {\"emptyWeights\":[3000,5500],\"maxLoads\":[3650,8500],\"fuelEmpty\":[12,22.5],\"fuelFull\":[15,27.5]}\n",
    "\n",
    "\n",
    "vehicles = initializeVehicles(startIndices=startNodeIndeces,vehicleData=vehicleData,heterogeneousFleet=True)\n",
    "\n",
    "customer_demands = station_data.T.loc[\"Demand(kg)\"].astype(int).to_numpy()\n",
    "customer_demands[startNodeIndeces+endNodeIndeces] = 0\n",
    "station_data[\"Demand(kg)\"] = customer_demands\n",
    "\n",
    "translate_dict = {}\n",
    "for i,x in enumerate(endNodeIndeces):\n",
    "    translate_dict[x] = 100+i\n",
    "initial_solution = cheapest_insertion_dict(locationNodeIndeces,vehicles,endNodeIndeces,routingContext)\n",
    "\n",
    "\n",
    "\n",
    "cost_function_dict = {\"distance_matrix\":distance_matrix_here,\"time_matrix\":time_matrix_here,\n",
    "                              \"demands\":customer_demands,\"vehicle_weight\":3000,\"start_positions\":startNodeIndeces,\"meta_data\":meta_data}\n",
    "\n",
    "\n",
    "min_allowed_drivetime_hours = 0\n",
    "\n",
    "\n",
    "data_model_input_multi_objective = {'routing_context':routingContext,'vehicles':vehicles,'end_points':endNodeIndeces,'pickup_points':locationNodeIndeces,\n",
    "                                    'initial_solution':initial_solution,\n",
    "                                    'objective_amount':2,'objective_labels':['Total Fuel','Total Drive Time'],\n",
    "                                    'constraint_amount':6,'number_of_cities':routingContext.distance_matrix.shape[0],\n",
    "                                    'min_drivetime':min_allowed_drivetime_hours}\n",
    "\n",
    "data_model_input_single_objective = {'routing_context':routingContext,'vehicles':vehicles,'end_points':endNodeIndeces,'pickup_points':locationNodeIndeces,\n",
    "                                    'initial_solution':initial_solution,\n",
    "                                    'objective_amount':1,'objective_labels':['Total Fuel'],\n",
    "                                    'constraint_amount':6,'number_of_cities':routingContext.distance_matrix.shape[0],\n",
    "                                    'min_drivetime':min_allowed_drivetime_hours}\n",
    "\n",
    "problem = VRP(data_model_input_multi_objective)\n",
    "\n",
    "plot_data_storage_base = {'fitness':[], 'route_distance':[],'fuel_consumption':[],'vehicle_loads':[],'computation_times':[],'vehicle_route_time':[],'violation':[],'paths':[],'distance_to_origin':[]}\n",
    "\n",
    "\n",
    "amount_of_runs = 30\n",
    "amount_of_evaluations = 3000\n",
    "max_evaluation_time = 5\n",
    "observer_update_interval = 60\n",
    "\n",
    "logpath = \"time_limited_test_data/{}\".format(dataset)\n",
    "try: \n",
    "    os.mkdir(logpath) \n",
    "except OSError as error: \n",
    "    print(error) \n",
    "\n",
    "mutation_arange = np.arange(0.1,1,0.2)\n",
    "crossover_arange = np.arange(0.25,0.8,0.25)\n",
    "population_size_arange = np.arange(10,40,10)\n",
    "\n",
    "genetic_algorithms_parameters = []\n",
    "\n",
    "for x in mutation_arange:\n",
    "    for y in crossover_arange:\n",
    "        for z in population_size_arange:\n",
    "            genetic_algorithms_parameters.append({\"mutation\":np.round(x,2),\"crossover\":np.round(y,2),\"population_size\":np.round(z,2)})\n",
    "\n",
    "            \n",
    "optimal_parameters = {\"SA\":{\"mutation\":0.9}, \"GA\":{\"mutation\":0.9,\"crossover\":0.25,\"population_size\":30},\n",
    "                     \"NSGAII\":{\"mutation\":0.9,\"crossover\":0.50,\"population_size\":30},\n",
    "                     \"NSGAIII\":{\"mutation\":0.9,\"crossover\":0.50,\"population_size\":20},\n",
    "                     \"UNSGAIII\":{\"mutation\":0.9,\"crossover\":0.25,\"population_size\":20},\n",
    "                     \"IBEA\":{\"mutation\":0.9,\"crossover\":0.75,\"population_size\":20}}\n",
    "            \n"
   ]
  },
  {
   "cell_type": "code",
   "execution_count": 103,
   "metadata": {},
   "outputs": [
    {
     "data": {
      "text/plain": [
       "'time_limited_test_data/UK75_6'"
      ]
     },
     "execution_count": 103,
     "metadata": {},
     "output_type": "execute_result"
    }
   ],
   "source": [
    "logpath"
   ]
  },
  {
   "cell_type": "code",
   "execution_count": 104,
   "metadata": {},
   "outputs": [],
   "source": [
    "def plot_vehicle_drivetimes(dataframe,parameter_group):\n",
    "    plt.style.use(\"../src/style/custom-seaborn-2dplot.mplstyle\")\n",
    "    fig, ax = plt.subplots(1,1)\n",
    "    \n",
    "    dataframe_parameter_group = dataframe.where(dataframe[\"Parameter Group\"] == parameter_group).dropna()\n",
    "    \n",
    "    if type(dataframe_parameter_group.vehicle_route_time.iloc[0]) == str:\n",
    "        dataframe_parameter_group.vehicle_route_time = dataframe_parameter_group.vehicle_route_time.apply(literal_eval)\n",
    "        \n",
    "    dataframe_parameter_group[\"vehicle_amount\"] = dataframe_parameter_group.vehicle_route_time.apply(lambda x: len(x))\n",
    "    \n",
    "    vehicle_amounts = sorted(dataframe_parameter_group.vehicle_amount.unique())\n",
    "    num_bars = len(vehicle_amounts)\n",
    "    offsets = np.linspace(-num_bars/12, num_bars/12, num_bars)\n",
    "    \n",
    "    for vehicle_amount,offset in zip(vehicle_amounts,offsets):\n",
    "        vehicle_amount_df = dataframe_parameter_group.where(dataframe_parameter_group.vehicle_amount == vehicle_amount).dropna()\n",
    "        \n",
    "        vehicle_amount_route_times = np.stack(vehicle_amount_df.vehicle_route_time.apply(lambda x: np.sort(x)[::-1]/60).to_numpy())\n",
    "        vehicle_route_times_mean = np.mean(vehicle_amount_route_times,axis=0)\n",
    "        plt.bar(np.arange(vehicle_amount) + offset,vehicle_route_times_mean,width=0.2,alpha=0.5,label=r\"$\\bf{%s}\\ Vehicles$\" % (vehicle_amount))\n",
    "    \n",
    "    plt.ylabel(\"Drivetime (minutes)\")\n",
    "    plt.xlabel(\"Vehicles\")\n",
    "    \n",
    "    plt.legend(bbox_to_anchor=(1,1))\n",
    "        \n",
    "    \n",
    "    "
   ]
  },
  {
   "cell_type": "markdown",
   "metadata": {},
   "source": [
    "# SA"
   ]
  },
  {
   "cell_type": "code",
   "execution_count": 141,
   "metadata": {},
   "outputs": [
    {
     "name": "stdout",
     "output_type": "stream",
     "text": [
      "Epoch:30 of 30\n",
      "Evaluations: 3660/3000\n",
      "Params: {'mutation': 0.9}\n",
      "IGD:2847.5738813416315\n",
      "Best fitness: 1353.0857                          \n",
      "Best total fuel consumption:383.15 \n",
      "Best total drive time:2663.52                          \n",
      "Computing time: 4.99s\n",
      "Average computing speed: 733.0it/s                          \n",
      "Current Route:[['V14', 59, 14, 64, 8, 32], ['V8', 69, 11, 2], ['V11', 47, 7, 20], ['V4', 58, 9, 55, 48, 53, 45], ['V1', 30, 56, 61, 3, 71, 74, 16, 62, 52, 4], ['V6', 72, 29, 38, 19, 39, 45], ['V9', 37, 25, 32], ['V0', 34, 54, 43, 46, 5], ['V15', 28, 50, 13, 5], ['V10', 51, 44, 24, 20], ['V12', 22, 23, 75, 4], ['V16', 18, 42, 65, 17, 36, 41, 49, 5], ['V18', 33, 57, 70, 26, 63, 67, 73, 66, 2], ['V19', 12, 27, 45]]\n",
      "Flags: ['overload']\n",
      "Violation:-624.0\n",
      "Vehicle Amount:14\n"
     ]
    }
   ],
   "source": [
    "from jmetal.algorithm.singleobjective import SimulatedAnnealing\n",
    "from jmetal.operator.mutation import PermutationSwapMutation,ScrambleMutation,SimpleRandomMutation\n",
    "from jmetal.util.termination_criterion import StoppingByTime\n",
    "from jmetal.util.comparator import DominanceComparator\n",
    "from datetime import datetime\n",
    "\n",
    "parameters_SA = optimal_parameters[\"SA\"]\n",
    "\n",
    "plot_data_SA = deepcopy(plot_data_storage_base)\n",
    "for x in range(amount_of_runs):\n",
    "    problem_SA = VRP(data_model_input_single_objective)\n",
    "    problem_SA.name = \"SA\"\n",
    "    problem_SA.assignClosestEndPoint = True\n",
    "    max_evaluations = amount_of_evaluations\n",
    "\n",
    "    algorithm_SA = SimulatedAnnealing(problem=problem_SA,\n",
    "                                   mutation=PermutationSwapMutation(parameters_SA[\"mutation\"]),\n",
    "                                   termination_criterion=StoppingByTime(max_evaluation_time))\n",
    "\n",
    "    performance_observer_SA = PerformanceObserver(max_iter=max_evaluations,frequency=observer_update_interval,params=[parameters_SA])\n",
    "    performance_observer_SA.maxEpochs = amount_of_runs\n",
    "    performance_observer_SA.currentEpoch = x\n",
    "\n",
    "    algorithm_SA.observable.register(observer=performance_observer_SA)\n",
    "    algorithm_SA.run() \n",
    "\n",
    "    solutions_SA = algorithm_SA.get_result()        \n",
    "    store_plot_data(plot_data_SA,performance_observer_SA,solutions_SA)\n",
    "\n",
    "\n",
    "sa_numerical_path = get_numerical_path(solutions_SA.path,vehicles)\n"
   ]
  },
  {
   "cell_type": "code",
   "execution_count": 142,
   "metadata": {},
   "outputs": [],
   "source": [
    "pd.DataFrame(plot_data_SA).to_csv(\"{}/SA.csv\".format(logpath))"
   ]
  },
  {
   "cell_type": "markdown",
   "metadata": {},
   "source": [
    "# GA"
   ]
  },
  {
   "cell_type": "code",
   "execution_count": 143,
   "metadata": {},
   "outputs": [
    {
     "name": "stdout",
     "output_type": "stream",
     "text": [
      "Epoch:30 of 30\n",
      "Evaluations: 2400/3000\n",
      "Params: {'mutation': 0.9, 'crossover': 0.25, 'population_size': 30}\n",
      "IGD:2782.2119952373414\n",
      "Best fitness: 1273.424                          \n",
      "Best total fuel consumption:372.97 \n",
      "Best total drive time:2597.45                          \n",
      "Computing time: 4.98s\n",
      "Average computing speed: 481.87it/s                          \n",
      "Current Route:[['V0', 64, 14, 69, 53, 45], ['V1', 55, 28, 50, 5], ['V2', 44, 30, 58, 11, 48, 2], ['V5', 61, 3, 20], ['V4', 56, 71, 74, 16, 9, 62, 52, 4], ['V6', 72, 29, 39, 59, 19, 8, 32], ['V9', 37, 25, 23, 75, 34, 13, 54, 46, 5], ['V11', 38, 51, 47, 7, 24, 20], ['V12', 22, 45], ['V8', 43, 5], ['V16', 18, 42, 65, 17, 36, 41, 49, 5], ['V18', 33, 57, 70, 26, 63, 67, 73, 66, 2], ['V19', 12, 27, 45]]\n",
      "Flags: ['overload']\n",
      "Violation:-624.0\n",
      "Vehicle Amount:13\n"
     ]
    }
   ],
   "source": [
    "from jmetal.algorithm.singleobjective import GeneticAlgorithm\n",
    "from jmetal.operator.crossover import PMXCrossover\n",
    "from jmetal.operator.selection import Selection\n",
    "from jmetal.operator import SBXCrossover, RandomSolutionSelection,BestSolutionSelection\n",
    "from jmetal.operator.mutation import PermutationSwapMutation\n",
    "from jmetal.util.termination_criterion import StoppingByTime\n",
    "from jmetal.util.observer import ProgressBarObserver, VisualizerObserver,PrintObjectivesObserver,BasicObserver\n",
    "from jmetal.util.evaluator import MultiprocessEvaluator\n",
    "from datetime import datetime\n",
    "\n",
    "\n",
    "parameters_GA = optimal_parameters[\"GA\"]\n",
    "\n",
    "\n",
    "\n",
    "plot_data_GA = deepcopy(plot_data_storage_base)\n",
    "for x in range(amount_of_runs):\n",
    "    problem_GA = VRP(data_model_input_single_objective)\n",
    "    problem_GA.name = \"GA\"\n",
    "    problem_GA.assignClosestEndPoint = True\n",
    "    max_evaluations = amount_of_evaluations\n",
    "\n",
    "    algorithm_GA = GeneticAlgorithm(problem=problem_GA,\n",
    "                    population_size=parameters_GA[\"population_size\"],\n",
    "                    offspring_population_size=parameters_GA[\"population_size\"],\n",
    "                    mutation=PermutationSwapMutation(parameters_GA[\"mutation\"]),\n",
    "                    crossover=PMXCrossover(parameters_GA[\"crossover\"]),\n",
    "                    selection=BestSolutionSelection(),\n",
    "                    termination_criterion=StoppingByTime(max_evaluation_time),\n",
    "                    population_evaluator=MultiprocessEvaluator()\n",
    "                    )\n",
    "\n",
    "\n",
    "    performance_observer_GA = PerformanceObserver(max_iter=max_evaluations,frequency=observer_update_interval,params=[parameters_GA])\n",
    "    performance_observer_GA.maxEpochs= amount_of_runs\n",
    "    performance_observer_GA.currentEpoch = x\n",
    "    algorithm_GA.observable.register(observer=performance_observer_GA)\n",
    "    \n",
    "    start_time = datetime.now() \n",
    "    algorithm_GA.run()\n",
    "    run_time = datetime.now() - start_time\n",
    "    solutions_GA = algorithm_GA.get_result()\n",
    "\n",
    "\n",
    "    store_plot_data(plot_data_GA,performance_observer_GA,solutions_GA)\n",
    "    "
   ]
  },
  {
   "cell_type": "code",
   "execution_count": 144,
   "metadata": {},
   "outputs": [],
   "source": [
    "pd.DataFrame(plot_data_GA).to_csv(\"{}/GA.csv\".format(logpath))"
   ]
  },
  {
   "cell_type": "markdown",
   "metadata": {},
   "source": [
    "# NSGA-II"
   ]
  },
  {
   "cell_type": "code",
   "execution_count": 105,
   "metadata": {},
   "outputs": [
    {
     "name": "stdout",
     "output_type": "stream",
     "text": [
      "Epoch:30 of 30\n",
      "Evaluations: 3120/3000\n",
      "Params: {'mutation': 0.9, 'crossover': 0.5, 'population_size': 30} \n",
      "IGD:451.07786818407703\n",
      "Best fitness: 356.436 --- 276.45                        \n",
      "Best total fuel consumption:356.44 \n",
      "Computing time: 5.0s                        \n",
      "Average computing speed: 624.62it/s\n",
      "Current Route:[['V0', 64, 14, 8, 28, 45], ['V1', 55, 53, 45], ['V4', 58, 11, 48, 30, 61, 3, 20], ['V5', 56, 71, 74, 16, 9, 62, 52, 4], ['V6', 72, 29, 39, 59, 19, 45], ['V9', 69, 37, 25, 23, 50, 34, 13, 46, 5], ['V8', 43, 5], ['V11', 38, 51, 47, 7, 44, 24, 20], ['V12', 22, 75, 54, 5], ['V16', 18, 42, 65, 17, 36, 41, 49, 5], ['V18', 33, 57, 70, 26, 63, 67, 73, 66, 2], ['V19', 12, 27, 45]]\n",
      "Flags: ['overload']                        \n",
      "Violation:-624.0\n",
      "Vehicle amount:12\n"
     ]
    }
   ],
   "source": [
    "from jmetal.algorithm.multiobjective.nsgaiii import NSGAII, UniformReferenceDirectionFactory\n",
    "from jmetal.operator.crossover import PMXCrossover,CXCrossover\n",
    "from jmetal.operator.mutation import PermutationSwapMutation, ScrambleMutation\n",
    "from jmetal.util.termination_criterion import StoppingByTime\n",
    "from jmetal.util.evaluator import MultiprocessEvaluator\n",
    "from jmetal.operator import SBXCrossover, RandomSolutionSelection,BestSolutionSelection,RankingAndCrowdingDistanceSelection\n",
    "from jmetal.operator.selection import RouletteWheelSelection\n",
    "from jmetal.util.solution import get_non_dominated_solutions\n",
    "from datetime import datetime\n",
    "\n",
    "parameters_NSGAII = optimal_parameters[\"NSGAII\"]\n",
    "\n",
    "plot_data_NSGAII = deepcopy(plot_data_storage_base)\n",
    "for x in range(amount_of_runs):\n",
    "    problem_NSGAII = VRP(data_model_input_multi_objective)\n",
    "    problem_NSGAII.name = \"NSGA-II\"\n",
    "    problem_NSGAII.assignClosestEndPoint = True\n",
    "    max_evaluations = amount_of_evaluations\n",
    "\n",
    "    algorithm_NSGAII = NSGAII(problem=problem_NSGAII,\n",
    "                            population_size=parameters_NSGAII[\"population_size\"],\n",
    "                            offspring_population_size=parameters_NSGAII[\"population_size\"],\n",
    "                            mutation=PermutationSwapMutation(parameters_NSGAII[\"mutation\"]),\n",
    "                            crossover=PMXCrossover(parameters_NSGAII[\"crossover\"]),\n",
    "                            termination_criterion=StoppingByTime(max_evaluation_time),\n",
    "                            population_evaluator=MultiprocessEvaluator()\n",
    "\n",
    "                               )\n",
    "\n",
    "    performance_observer_NSGAII = PerformanceObserver(max_iter=max_evaluations,frequency=observer_update_interval,params=[parameters_NSGAII])\n",
    "    performance_observer_NSGAII.maxEpochs= amount_of_runs\n",
    "    performance_observer_NSGAII.currentEpoch = x\n",
    "\n",
    "\n",
    "\n",
    "    algorithm_NSGAII.observable.register(observer=performance_observer_NSGAII)\n",
    "    algorithm_NSGAII.run()\n",
    "\n",
    "    solutions_NSGAII = algorithm_NSGAII.get_result()\n",
    "    front_NSGAII = get_non_dominated_solutions(solutions_NSGAII)\n",
    "    best_sol = sorted(front_NSGAII,key=lambda solution:np.sum(solution.objectives))[0]\n",
    "    \n",
    "    \n",
    "    \n",
    "    store_plot_data(plot_data_NSGAII,performance_observer_NSGAII,best_sol)\n",
    "\n",
    "\n"
   ]
  },
  {
   "cell_type": "code",
   "execution_count": 106,
   "metadata": {},
   "outputs": [],
   "source": [
    "nsga2_log_data = pd.DataFrame(plot_data_NSGAII)\n",
    "nsga2_log_data.to_csv(\"{}/NSGA2.csv\".format(logpath))"
   ]
  },
  {
   "cell_type": "markdown",
   "metadata": {},
   "source": [
    "# NSGA-III"
   ]
  },
  {
   "cell_type": "code",
   "execution_count": 107,
   "metadata": {},
   "outputs": [
    {
     "name": "stdout",
     "output_type": "stream",
     "text": [
      "Epoch:30 of 30\n",
      "Evaluations: 3000/3000\n",
      "Params: {'mutation': 0.9, 'crossover': 0.5, 'population_size': 20} \n",
      "IGD:473.65242332505477\n",
      "Best fitness: 346.5133 --- 322.9167                        \n",
      "Best total fuel consumption:346.51 \n",
      "Computing time: 4.99s                        \n",
      "Average computing speed: 601.67it/s\n",
      "Current Route:[['V0', 64, 14, 8, 28, 45], ['V1', 55, 53, 45], ['V4', 58, 11, 30, 48, 2], ['V5', 56, 61, 3, 71, 74, 16, 9, 62, 52, 4], ['V6', 72, 39, 29, 19, 59, 45], ['V9', 69, 37, 25, 23, 50, 34, 13, 54, 75, 4], ['V13', 51, 38, 47, 7, 44, 24, 20], ['V12', 22, 45], ['V14', 43, 46, 5], ['V16', 18, 42, 65, 17, 36, 41, 49, 5], ['V18', 33, 57, 70, 26, 63, 67, 73, 66, 2], ['V19', 12, 27, 45]]\n",
      "Flags: ['overload']                        \n",
      "Violation:-624.0\n",
      "Vehicle amount:12\n"
     ]
    }
   ],
   "source": [
    "from jmetal.algorithm.multiobjective.nsgaiii import NSGAIII, UniformReferenceDirectionFactory,ReferenceDirectionFactory\n",
    "from jmetal.operator.crossover import PMXCrossover, CXCrossover\n",
    "from jmetal.operator.mutation import PermutationSwapMutation,ScrambleMutation\n",
    "from jmetal.util.termination_criterion import StoppingByTime\n",
    "from jmetal.util.evaluator import MultiprocessEvaluator\n",
    "from jmetal.util.solution import get_non_dominated_solutions\n",
    "from jmetal.util.observer import ProgressBarObserver\n",
    "from jmetal.util.density_estimator import CrowdingDistance\n",
    "from jmetal.util.ranking import FastNonDominatedRanking\n",
    "from jmetal.util.comparator import DominanceComparator, Comparator, MultiComparator\n",
    "\n",
    "parameters_NSGAIII = optimal_parameters[\"NSGAIII\"]\n",
    "\n",
    "\n",
    "plot_data_NSGAIII = deepcopy(plot_data_storage_base)\n",
    "for x in range(amount_of_runs):\n",
    "\n",
    "    problem_NSGAIII = VRP(data_model_input_multi_objective)\n",
    "    problem_NSGAIII.name = \"NSGA-III\"\n",
    "    problem_NSGAIII.assignClosestEndPoint = True\n",
    "    max_evaluations = amount_of_evaluations\n",
    "\n",
    "    algorithm_NSGAIII = NSGAIII(problem=problem_NSGAIII,\n",
    "                            population_size=parameters_NSGAIII[\"population_size\"],\n",
    "                            reference_directions=UniformReferenceDirectionFactory(2, n_points=8),\n",
    "                            mutation= PermutationSwapMutation(parameters_NSGAIII[\"mutation\"]),\n",
    "                            crossover=PMXCrossover(parameters_NSGAIII[\"crossover\"]),\n",
    "                            termination_criterion=StoppingByTime(max_evaluation_time)\n",
    "                            ,population_evaluator=MultiprocessEvaluator()\n",
    "                               )\n",
    "    performance_observer_NSGAIII = PerformanceObserver(max_iter=max_evaluations,frequency=observer_update_interval,params=[parameters_NSGAIII])\n",
    "    performance_observer_NSGAIII.maxEpochs=  amount_of_runs\n",
    "    performance_observer_NSGAIII.currentEpoch =  x\n",
    "\n",
    "    algorithm_NSGAIII.observable.register(observer=performance_observer_NSGAIII)\n",
    "    algorithm_NSGAIII.run()\n",
    "\n",
    "    solutions_NSGAIII = algorithm_NSGAIII.get_result()\n",
    "    front_NSGAIII = get_non_dominated_solutions(solutions_NSGAIII)\n",
    "    best_sol = sorted(front_NSGAIII,key=lambda solution:np.sum(solution.objectives))[0]\n",
    "    store_plot_data(plot_data_NSGAIII,performance_observer_NSGAIII,best_sol)\n",
    "\n",
    "\n",
    "\n",
    "nsga3_numerical_path = get_numerical_path(front_NSGAIII[0].path,vehicles)\n"
   ]
  },
  {
   "cell_type": "code",
   "execution_count": 108,
   "metadata": {},
   "outputs": [],
   "source": [
    "nsga3_log_data = pd.DataFrame(plot_data_NSGAIII)\n",
    "nsga3_log_data.to_csv(\"{}/NSGA3.csv\".format(logpath))"
   ]
  },
  {
   "cell_type": "markdown",
   "metadata": {},
   "source": [
    "# UNSGA-III"
   ]
  },
  {
   "cell_type": "code",
   "execution_count": 109,
   "metadata": {},
   "outputs": [
    {
     "name": "stdout",
     "output_type": "stream",
     "text": [
      "Epoch:30 of 30\n",
      "Evaluations: 2340/3000\n",
      "Params: {'mutation': 0.9, 'crossover': 0.25, 'population_size': 20} \n",
      "IGD:492.28851615817814\n",
      "Best fitness: 371.5815 --- 322.9167                        \n",
      "Best total fuel consumption:371.58 \n",
      "Computing time: 4.97s                        \n",
      "Average computing speed: 470.86it/s\n",
      "Current Route:[['V1', 64, 14, 8, 28, 45], ['V0', 55, 53, 69, 32], ['V5', 58, 11, 48, 30, 2], ['V4', 56, 61, 3, 71, 74, 16, 9, 62, 52, 4], ['V6', 29, 39, 59, 19, 72, 45], ['V8', 43, 5], ['V9', 37, 25, 23, 50, 34, 5], ['V14', 54, 46, 75, 13, 5], ['V10', 51, 38, 45], ['V11', 47, 7, 44, 24, 20], ['V12', 22, 45], ['V16', 18, 42, 65, 17, 36, 41, 49, 5], ['V18', 33, 57, 70, 26, 63, 67, 73, 66, 2], ['V19', 12, 27, 45]]\n",
      "Flags: ['overload']                        \n",
      "Violation:-624.0\n",
      "Vehicle amount:14\n"
     ]
    }
   ],
   "source": [
    "from jmetal.algorithm.multiobjective.nsgaiii import NSGAIII, UniformReferenceDirectionFactory,ReferenceDirectionFactory\n",
    "from jmetal.operator.crossover import PMXCrossover, CXCrossover\n",
    "from jmetal.operator.mutation import PermutationSwapMutation,ScrambleMutation\n",
    "from jmetal.util.termination_criterion import StoppingByTime\n",
    "from jmetal.util.evaluator import MultiprocessEvaluator\n",
    "from jmetal.util.solution import get_non_dominated_solutions\n",
    "from jmetal.util.observer import ProgressBarObserver\n",
    "from jmetal.util.density_estimator import CrowdingDistance\n",
    "from jmetal.util.ranking import FastNonDominatedRanking\n",
    "from jmetal.util.comparator import DominanceComparator, Comparator, MultiComparator\n",
    "\n",
    "parameters_UNSGAIII = optimal_parameters[\"UNSGAIII\"]\n",
    "\n",
    "plot_data_UNSGAIII = deepcopy(plot_data_storage_base)\n",
    "for x in range(amount_of_runs):\n",
    "\n",
    "    problem_UNSGAIII = VRP(data_model_input_multi_objective)\n",
    "    problem_UNSGAIII.name = \"UNSGA-III\"\n",
    "    problem_UNSGAIII.assignClosestEndPoint = True\n",
    "    max_evaluations = amount_of_evaluations\n",
    "\n",
    "    algorithm_UNSGAIII = UNSGAIII(problem=problem_UNSGAIII,\n",
    "                            population_size=parameters_UNSGAIII[\"population_size\"],\n",
    "                            reference_directions=UniformReferenceDirectionFactory(2, n_points=8),\n",
    "                            mutation= PermutationSwapMutation(parameters_UNSGAIII[\"mutation\"]),\n",
    "                            crossover=PMXCrossover(parameters_UNSGAIII[\"crossover\"]),\n",
    "                            termination_criterion=StoppingByTime(max_evaluation_time)\n",
    "                            ,population_evaluator=MultiprocessEvaluator()\n",
    "                               )\n",
    "    performance_observer_UNSGAIII = PerformanceObserver(max_iter=max_evaluations,frequency=observer_update_interval,params=[parameters_UNSGAIII])\n",
    "    performance_observer_UNSGAIII.maxEpochs= amount_of_runs\n",
    "    performance_observer_UNSGAIII.currentEpoch =  x\n",
    "\n",
    "    algorithm_UNSGAIII.observable.register(observer=performance_observer_UNSGAIII)\n",
    "    algorithm_UNSGAIII.run()\n",
    "\n",
    "    solutions_UNSGAIII = algorithm_UNSGAIII.get_result()\n",
    "    front_UNSGAIII = get_non_dominated_solutions(solutions_UNSGAIII)\n",
    "    best_sol = sorted(front_UNSGAIII,key=lambda solution:np.sum(solution.objectives))[0]\n",
    "    store_plot_data(plot_data_UNSGAIII,performance_observer_UNSGAIII,best_sol)\n",
    "\n",
    "     \n",
    "Unsga3_numerical_path = get_numerical_path(front_UNSGAIII[0].path,vehicles)"
   ]
  },
  {
   "cell_type": "code",
   "execution_count": 110,
   "metadata": {},
   "outputs": [],
   "source": [
    "unsga3_log_data = pd.DataFrame(plot_data_UNSGAIII)\n",
    "unsga3_log_data.to_csv(\"{}/UNSGA3.csv\".format(logpath))"
   ]
  },
  {
   "cell_type": "markdown",
   "metadata": {},
   "source": [
    "# IBEA"
   ]
  },
  {
   "cell_type": "code",
   "execution_count": 111,
   "metadata": {},
   "outputs": [
    {
     "name": "stdout",
     "output_type": "stream",
     "text": [
      "Epoch:30 of 30\n",
      "Evaluations: 1980/3000\n",
      "Params: {'mutation': 0.9, 'crossover': 0.75, 'population_size': 20} \n",
      "IGD:1032.8567823619842\n",
      "Best fitness: 981.08 --- 322.9167                        \n",
      "Best total fuel consumption:981.08 \n",
      "Computing time: 5.02s                        \n",
      "Average computing speed: 394.65it/s\n",
      "Current Route:[['V15', 64, 14, 8, 28, 46, 5], ['V1', 53, 45], ['V4', 58, 11, 48, 30, 2], ['V5', 56, 61, 3, 71, 74, 16, 9, 62, 52, 4], ['V7', 72, 29, 39, 59, 19, 45], ['V0', 37, 25, 23, 50, 34, 13, 54, 5], ['V9', 75, 43, 5], ['V10', 51, 38, 45], ['V11', 47, 7, 44, 24, 20], ['V12', 22, 45], ['V14', 55, 69, 32], ['V16', 18, 42, 65, 17, 36, 41, 49, 5], ['V18', 33, 57, 70, 26, 63, 67, 73, 66, 2], ['V19', 12, 27, 45]]\n",
      "Flags: ['overload']                        \n",
      "Violation:-624.0\n",
      "Vehicle amount:14\n"
     ]
    }
   ],
   "source": [
    "from jmetal.algorithm.multiobjective.ibea import IBEA\n",
    "from jmetal.operator.crossover import PMXCrossover,CXCrossover\n",
    "from jmetal.operator.mutation import PermutationSwapMutation, ScrambleMutation\n",
    "from jmetal.util.termination_criterion import StoppingByTime\n",
    "from jmetal.util.evaluator import MultiprocessEvaluator\n",
    "from jmetal.operator import SBXCrossover, RandomSolutionSelection,BestSolutionSelection,RankingAndCrowdingDistanceSelection\n",
    "from jmetal.operator.selection import   RouletteWheelSelection\n",
    "from jmetal.util.solution import get_non_dominated_solutions\n",
    "from datetime import datetime\n",
    "\n",
    "parameters_IBEA = optimal_parameters[\"IBEA\"]\n",
    "\n",
    "plot_data_IBEA = deepcopy(plot_data_storage_base)\n",
    "for x in range(amount_of_runs):\n",
    "    problem_IBEA = VRP(data_model_input_multi_objective)\n",
    "    problem_IBEA.name = \"IBEA\"\n",
    "    problem_IBEA.assignClosestEndPoint = True\n",
    "    max_evaluations = amount_of_evaluations\n",
    "\n",
    "    algorithm_IBEA = IBEA(problem=problem_IBEA,\n",
    "                            population_size=parameters_IBEA[\"population_size\"],\n",
    "                            offspring_population_size=parameters_IBEA[\"population_size\"],\n",
    "                            kappa =1,\n",
    "                            mutation=PermutationSwapMutation(parameters_IBEA[\"mutation\"]),\n",
    "                            crossover=PMXCrossover(parameters_IBEA[\"crossover\"]),\n",
    "                            termination_criterion=StoppingByTime(max_evaluation_time),\n",
    "                            population_evaluator=MultiprocessEvaluator(),\n",
    "                               )\n",
    "\n",
    "    performance_observer_IBEA = PerformanceObserver(max_iter=max_evaluations,frequency=observer_update_interval,params=[parameters_IBEA])\n",
    "    performance_observer_IBEA.maxEpochs= amount_of_runs\n",
    "    performance_observer_IBEA.currentEpoch =  x\n",
    "\n",
    "\n",
    "    algorithm_IBEA.observable.register(observer=performance_observer_IBEA)\n",
    "    algorithm_IBEA.run()\n",
    "\n",
    "    solutions_IBEA = algorithm_IBEA.get_result()\n",
    "    front_IBEA = get_non_dominated_solutions(solutions_IBEA)\n",
    "    best_sol = sorted(front_IBEA,key=lambda solution:np.sum(solution.objectives))[0]\n",
    "    store_plot_data(plot_data_IBEA,performance_observer_IBEA,best_sol)\n",
    "\n",
    "ibea_numerical_path = get_numerical_path(front_IBEA[0].path,vehicles)"
   ]
  },
  {
   "cell_type": "code",
   "execution_count": 112,
   "metadata": {},
   "outputs": [],
   "source": [
    "ibea_log_data = pd.DataFrame(plot_data_IBEA)\n",
    "ibea_log_data.to_csv(\"{}/IBEA.csv\".format(logpath))"
   ]
  },
  {
   "cell_type": "code",
   "execution_count": 147,
   "metadata": {},
   "outputs": [
    {
     "ename": "TypeError",
     "evalue": "unsupported operand type(s) for /: 'list' and 'int'",
     "output_type": "error",
     "traceback": [
      "\u001b[0;31m---------------------------------------------------------------------------\u001b[0m",
      "\u001b[0;31mTypeError\u001b[0m                                 Traceback (most recent call last)",
      "\u001b[0;32m<ipython-input-147-51eb6c4991c5>\u001b[0m in \u001b[0;36m<module>\u001b[0;34m\u001b[0m\n\u001b[0;32m----> 1\u001b[0;31m \u001b[0msa_curve\u001b[0m \u001b[0;34m=\u001b[0m \u001b[0mnp\u001b[0m\u001b[0;34m.\u001b[0m\u001b[0mmean\u001b[0m\u001b[0;34m(\u001b[0m\u001b[0mplot_data_SA\u001b[0m\u001b[0;34m[\u001b[0m\u001b[0;34m\"fuel_consumption\"\u001b[0m\u001b[0;34m]\u001b[0m\u001b[0;34m,\u001b[0m\u001b[0maxis\u001b[0m\u001b[0;34m=\u001b[0m\u001b[0;36m0\u001b[0m\u001b[0;34m)\u001b[0m\u001b[0;34m\u001b[0m\u001b[0;34m\u001b[0m\u001b[0m\n\u001b[0m\u001b[1;32m      2\u001b[0m \u001b[0mga_curve\u001b[0m \u001b[0;34m=\u001b[0m \u001b[0mnp\u001b[0m\u001b[0;34m.\u001b[0m\u001b[0mmean\u001b[0m\u001b[0;34m(\u001b[0m\u001b[0mplot_data_GA\u001b[0m\u001b[0;34m[\u001b[0m\u001b[0;34m\"fuel_consumption\"\u001b[0m\u001b[0;34m]\u001b[0m\u001b[0;34m,\u001b[0m\u001b[0maxis\u001b[0m\u001b[0;34m=\u001b[0m\u001b[0;36m0\u001b[0m\u001b[0;34m)\u001b[0m\u001b[0;34m\u001b[0m\u001b[0;34m\u001b[0m\u001b[0m\n\u001b[1;32m      3\u001b[0m \u001b[0mnsga2_curve\u001b[0m \u001b[0;34m=\u001b[0m \u001b[0mnp\u001b[0m\u001b[0;34m.\u001b[0m\u001b[0mmean\u001b[0m\u001b[0;34m(\u001b[0m\u001b[0mplot_data_NSGAII\u001b[0m\u001b[0;34m[\u001b[0m\u001b[0;34m\"fuel_consumption\"\u001b[0m\u001b[0;34m]\u001b[0m\u001b[0;34m,\u001b[0m\u001b[0maxis\u001b[0m\u001b[0;34m=\u001b[0m\u001b[0;36m0\u001b[0m\u001b[0;34m)\u001b[0m\u001b[0;34m\u001b[0m\u001b[0;34m\u001b[0m\u001b[0m\n\u001b[1;32m      4\u001b[0m \u001b[0mnsga3_curve\u001b[0m \u001b[0;34m=\u001b[0m \u001b[0mnp\u001b[0m\u001b[0;34m.\u001b[0m\u001b[0mmean\u001b[0m\u001b[0;34m(\u001b[0m\u001b[0mplot_data_NSGAIII\u001b[0m\u001b[0;34m[\u001b[0m\u001b[0;34m\"fuel_consumption\"\u001b[0m\u001b[0;34m]\u001b[0m\u001b[0;34m,\u001b[0m\u001b[0maxis\u001b[0m\u001b[0;34m=\u001b[0m\u001b[0;36m0\u001b[0m\u001b[0;34m)\u001b[0m\u001b[0;34m\u001b[0m\u001b[0;34m\u001b[0m\u001b[0m\n\u001b[1;32m      5\u001b[0m \u001b[0munsga3_curve\u001b[0m \u001b[0;34m=\u001b[0m \u001b[0mnp\u001b[0m\u001b[0;34m.\u001b[0m\u001b[0mmean\u001b[0m\u001b[0;34m(\u001b[0m\u001b[0mplot_data_UNSGAIII\u001b[0m\u001b[0;34m[\u001b[0m\u001b[0;34m\"fuel_consumption\"\u001b[0m\u001b[0;34m]\u001b[0m\u001b[0;34m,\u001b[0m\u001b[0maxis\u001b[0m\u001b[0;34m=\u001b[0m\u001b[0;36m0\u001b[0m\u001b[0;34m)\u001b[0m\u001b[0;34m\u001b[0m\u001b[0;34m\u001b[0m\u001b[0m\n",
      "\u001b[0;32m<__array_function__ internals>\u001b[0m in \u001b[0;36mmean\u001b[0;34m(*args, **kwargs)\u001b[0m\n",
      "\u001b[0;32m~/Documents/skola/Thesis/Explorer/env/lib/python3.9/site-packages/numpy/core/fromnumeric.py\u001b[0m in \u001b[0;36mmean\u001b[0;34m(a, axis, dtype, out, keepdims)\u001b[0m\n\u001b[1;32m   3370\u001b[0m             \u001b[0;32mreturn\u001b[0m \u001b[0mmean\u001b[0m\u001b[0;34m(\u001b[0m\u001b[0maxis\u001b[0m\u001b[0;34m=\u001b[0m\u001b[0maxis\u001b[0m\u001b[0;34m,\u001b[0m \u001b[0mdtype\u001b[0m\u001b[0;34m=\u001b[0m\u001b[0mdtype\u001b[0m\u001b[0;34m,\u001b[0m \u001b[0mout\u001b[0m\u001b[0;34m=\u001b[0m\u001b[0mout\u001b[0m\u001b[0;34m,\u001b[0m \u001b[0;34m**\u001b[0m\u001b[0mkwargs\u001b[0m\u001b[0;34m)\u001b[0m\u001b[0;34m\u001b[0m\u001b[0;34m\u001b[0m\u001b[0m\n\u001b[1;32m   3371\u001b[0m \u001b[0;34m\u001b[0m\u001b[0m\n\u001b[0;32m-> 3372\u001b[0;31m     return _methods._mean(a, axis=axis, dtype=dtype,\n\u001b[0m\u001b[1;32m   3373\u001b[0m                           out=out, **kwargs)\n\u001b[1;32m   3374\u001b[0m \u001b[0;34m\u001b[0m\u001b[0m\n",
      "\u001b[0;32m~/Documents/skola/Thesis/Explorer/env/lib/python3.9/site-packages/numpy/core/_methods.py\u001b[0m in \u001b[0;36m_mean\u001b[0;34m(a, axis, dtype, out, keepdims)\u001b[0m\n\u001b[1;32m    170\u001b[0m             \u001b[0mret\u001b[0m \u001b[0;34m=\u001b[0m \u001b[0mret\u001b[0m\u001b[0;34m.\u001b[0m\u001b[0mdtype\u001b[0m\u001b[0;34m.\u001b[0m\u001b[0mtype\u001b[0m\u001b[0;34m(\u001b[0m\u001b[0mret\u001b[0m \u001b[0;34m/\u001b[0m \u001b[0mrcount\u001b[0m\u001b[0;34m)\u001b[0m\u001b[0;34m\u001b[0m\u001b[0;34m\u001b[0m\u001b[0m\n\u001b[1;32m    171\u001b[0m     \u001b[0;32melse\u001b[0m\u001b[0;34m:\u001b[0m\u001b[0;34m\u001b[0m\u001b[0;34m\u001b[0m\u001b[0m\n\u001b[0;32m--> 172\u001b[0;31m         \u001b[0mret\u001b[0m \u001b[0;34m=\u001b[0m \u001b[0mret\u001b[0m \u001b[0;34m/\u001b[0m \u001b[0mrcount\u001b[0m\u001b[0;34m\u001b[0m\u001b[0;34m\u001b[0m\u001b[0m\n\u001b[0m\u001b[1;32m    173\u001b[0m \u001b[0;34m\u001b[0m\u001b[0m\n\u001b[1;32m    174\u001b[0m     \u001b[0;32mreturn\u001b[0m \u001b[0mret\u001b[0m\u001b[0;34m\u001b[0m\u001b[0;34m\u001b[0m\u001b[0m\n",
      "\u001b[0;31mTypeError\u001b[0m: unsupported operand type(s) for /: 'list' and 'int'"
     ]
    }
   ],
   "source": [
    "sa_curve = np.mean(plot_data_SA[\"fuel_consumption\"],axis=0)\n",
    "ga_curve = np.mean(plot_data_GA[\"fuel_consumption\"],axis=0)\n",
    "nsga2_curve = np.mean(plot_data_NSGAII[\"fuel_consumption\"],axis=0)\n",
    "nsga3_curve = np.mean(plot_data_NSGAIII[\"fuel_consumption\"],axis=0)\n",
    "unsga3_curve = np.mean(plot_data_UNSGAIII[\"fuel_consumption\"],axis=0)\n",
    "ibea_curve = np.mean(plot_data_IBEA[\"fuel_consumption\"],axis=0)\n",
    "curves = np.array([sa_curve,ga_curve,nsga2_curve,nsga3_curve,unsga3_curve,ibea_curve])\n",
    "lables =[\"SA\",\"GA\",\"NSGAII\",\"NSGAIII\",\"UNSGAIII\",\"IBEA\"]\n",
    "\n",
    "\n",
    "\n",
    "\n",
    "plot_conv_curves(curves,lables)"
   ]
  },
  {
   "cell_type": "code",
   "execution_count": 120,
   "metadata": {},
   "outputs": [
    {
     "data": {
      "text/plain": [
       "(<AxesSubplot:>, <Figure size 1080x1080 with 1 Axes>)"
      ]
     },
     "execution_count": 120,
     "metadata": {},
     "output_type": "execute_result"
    },
    {
     "data": {
      "image/png": "[encoded data removed]",
      "text/plain": [
       "<Figure size 1080x1080 with 1 Axes>"
      ]
     },
     "metadata": {},
     "output_type": "display_data"
    }
   ],
   "source": [
    "nsga2_curve = np.mean(plot_data_NSGAII[\"distance_to_origin\"],axis=0)[:-1]\n",
    "nsga3_curve = np.mean(plot_data_NSGAIII[\"distance_to_origin\"],axis=0)\n",
    "unsga3_curve = np.mean(plot_data_UNSGAIII[\"distance_to_origin\"],axis=0)\n",
    "ibea_curve = np.mean(plot_data_IBEA[\"distance_to_origin\"],axis=0)\n",
    "curves = np.array([nsga2_curve,nsga3_curve,unsga3_curve,ibea_curve])\n",
    "lables =[\"NSGAII\",\"NSGAIII\",\"UNSGAIII\",\"IBEA\"]\n",
    "\n",
    "\n",
    "\n",
    "\n",
    "plot_conv_curves(curves,lables)"
   ]
  }
 ],
 "metadata": {
  "kernelspec": {
   "display_name": "Python 3",
   "language": "python",
   "name": "python3"
  },
  "language_info": {
   "codemirror_mode": {
    "name": "ipython",
    "version": 3
   },
   "file_extension": ".py",
   "mimetype": "text/x-python",
   "name": "python",
   "nbconvert_exporter": "python",
   "pygments_lexer": "ipython3",
   "version": "3.9.2"
  }
 },
 "nbformat": 4,
 "nbformat_minor": 4
}
