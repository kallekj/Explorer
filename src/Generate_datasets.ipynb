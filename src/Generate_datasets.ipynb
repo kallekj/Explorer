{
 "cells": [
  {
   "cell_type": "code",
   "execution_count": 1,
   "metadata": {},
   "outputs": [],
   "source": [
    "%config Completer.use_jedi = False"
   ]
  },
  {
   "cell_type": "code",
   "execution_count": 2,
   "metadata": {},
   "outputs": [],
   "source": [
    "import numpy as np\n",
    "import pandas as pd\n",
    "from datetime import datetime\n",
    "from Problem.utils import *\n",
    "import os.path\n",
    "import matplotlib.pyplot as plt"
   ]
  },
  {
   "cell_type": "code",
   "execution_count": 3,
   "metadata": {},
   "outputs": [],
   "source": [
    "def generate_dataset(api_key, dataset_folder_path, dataset_name, location_context, overwrite=False, save_or_not=True):\n",
    "    \n",
    "    if overwrite == False:\n",
    "        if os.path.isfile(\"%s%s_coordinates.csv\" % (dataset_folder_path, dataset_name)):\n",
    "            raise Exception(\"Error: The filepath '%s%s_coordinates.csv' already exists.\" % (dataset_folder_path, dataset_name))\n",
    "        elif os.path.isfile(\"%s%s_distance_matrix_HERE.csv\" % (dataset_folder_path, dataset_name)):\n",
    "            raise Exception(\"Error: The filepath '%s%s_distance_matrix_HERE.csv' already exists.\" % (dataset_folder_path, dataset_name))\n",
    "        elif os.path.isfile(\"%s%s_time_matrix_HERE.csv\" % (dataset_folder_path, dataset_name)):\n",
    "            raise Exception(\"Error: The filepath '%s%s_time_matrix_HERE.csv' already exists.\" % (dataset_folder_path, dataset_name))\n",
    "\n",
    "    meta_data, distance_data, station_data = parse_UK_Data(\"%s%s.txt\" % (dataset_folder_path, dataset_name))\n",
    "\n",
    "    station_coordinates = generate_coordinates(station_data, location_context, to_csv=save_or_not, filename=\"%s%s.txt\" % (dataset_folder_path, dataset_name))\n",
    "\n",
    "    points_coordinate = station_coordinates[[\"lat\", \"lng\"]].to_numpy()\n",
    "\n",
    "    distance_matrix_here, time_matrix_here, _ = generate_large_distance_matrix(points_coordinate, api_key)\n",
    "    \n",
    "    if save_or_not:\n",
    "        save_here_data(dataset_folder_path, dataset_name, distance_matrix_here, time_matrix_here)\n",
    "    \n",
    "    return points_coordinate, distance_matrix_here, time_matrix_here"
   ]
  },
  {
   "cell_type": "code",
   "execution_count": 15,
   "metadata": {},
   "outputs": [
    {
     "name": "stderr",
     "output_type": "stream",
     "text": [
      "[City:  Brackley] [lat: 52.029761] [lng: -1.148458]: 100%|██████████| 76/76 [01:36<00:00,  1.26s/it]      \n",
      "  0%|          | 0/38 [00:00<?, ?it/s]"
     ]
    },
    {
     "name": "stdout",
     "output_type": "stream",
     "text": [
      "Len City Name: 76 \n",
      " Lat: 76 \n",
      " Long: 76\n",
      "Len City Name: 76 \n",
      " Lat: 76 \n",
      " Long: 76\n"
     ]
    },
    {
     "name": "stderr",
     "output_type": "stream",
     "text": [
      "[Q: 37]: 100%|██████████| 38/38 [03:53<00:00,  6.14s/it]\n"
     ]
    }
   ],
   "source": [
    "api = \"Tfmt6Sxyn-nfinSHUyUo3xmVDWdtwAUyh6C8Y3HTZhU\"\n",
    "\n",
    "dataset_folder_path = \"../datasets/UK75/\"\n",
    "datasets = [\"UK75_6\"]\n",
    "location_context = \"United Kingdom\"\n",
    "for dataset in datasets:\n",
    "    points_coordinate, distance_matrix_here, time_matrix_here = generate_dataset(api, dataset_folder_path, dataset, location_context, save_or_not=True)"
   ]
  },
  {
   "cell_type": "code",
   "execution_count": 16,
   "metadata": {},
   "outputs": [
    {
     "data": {
      "text/plain": [
       "<matplotlib.collections.PathCollection at 0x7f7a2088a7f0>"
      ]
     },
     "execution_count": 16,
     "metadata": {},
     "output_type": "execute_result"
    },
    {
     "data": {
      "image/png": "[encoded data removed]",
      "text/plain": [
       "<Figure size 432x288 with 1 Axes>"
      ]
     },
     "metadata": {
      "needs_background": "light"
     },
     "output_type": "display_data"
    }
   ],
   "source": [
    "plt.scatter(points_coordinate[:,1],points_coordinate[:,0])"
   ]
  },
  {
   "cell_type": "code",
   "execution_count": null,
   "metadata": {},
   "outputs": [],
   "source": []
  }
 ],
 "metadata": {
  "kernelspec": {
   "display_name": "Python 3",
   "language": "python",
   "name": "python3"
  },
  "language_info": {
   "codemirror_mode": {
    "name": "ipython",
    "version": 3
   },
   "file_extension": ".py",
   "mimetype": "text/x-python",
   "name": "python",
   "nbconvert_exporter": "python",
   "pygments_lexer": "ipython3",
   "version": "3.9.2"
  }
 },
 "nbformat": 4,
 "nbformat_minor": 4
}
