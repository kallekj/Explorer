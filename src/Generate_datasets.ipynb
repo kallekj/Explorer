{
 "cells": [
  {
   "cell_type": "code",
   "execution_count": 1,
   "metadata": {},
   "outputs": [],
   "source": [
    "%config Completer.use_jedi = False"
   ]
  },
  {
   "cell_type": "code",
   "execution_count": 1,
   "metadata": {},
   "outputs": [],
   "source": [
    "import numpy as np\n",
    "import pandas as pd\n",
    "from datetime import datetime\n",
    "from Problem.utils import *\n",
    "import os.path"
   ]
  },
  {
   "cell_type": "code",
   "execution_count": 2,
   "metadata": {},
   "outputs": [],
   "source": [
    "def generate_dataset(api_key, dataset_folder_path, dataset_name, location_context, overwrite=False):\n",
    "    \n",
    "    if overwrite == False:\n",
    "        if os.path.isfile(\"%s%s_coordinates.csv\" % (dataset_folder_path, dataset_name)):\n",
    "            raise Exception(\"Error: The filepath '%s%s_coordinates.csv' already exists.\" % (dataset_folder_path, dataset_name))\n",
    "        elif os.path.isfile(\"%s%s_distance_matrix_HERE.csv\" % (dataset_folder_path, dataset_name)):\n",
    "            raise Exception(\"Error: The filepath '%s%s_distance_matrix_HERE.csv' already exists.\" % (dataset_folder_path, dataset_name))\n",
    "        elif os.path.isfile(\"%s%s_time_matrix_HERE.csv\" % (dataset_folder_path, dataset_name)):\n",
    "            raise Exception(\"Error: The filepath '%s%s_time_matrix_HERE.csv' already exists.\" % (dataset_folder_path, dataset_name))\n",
    "\n",
    "    meta_data, distance_data, station_data = parse_UK_Data(\"%s%s.txt\" % (dataset_folder_path, dataset_name))\n",
    "\n",
    "    station_coordinates = generate_coordinates(station_data, location_context, to_csv=True, filename=\"%s%s.txt\" % (dataset_folder_path, dataset_name))\n",
    "\n",
    "    points_coordinate = station_coordinates[[\"lat\", \"lng\"]].to_numpy()\n",
    "\n",
    "    distance_matrix_here, time_matrix_here, _ = generate_large_distance_matrix(points_coordinate, api_key)\n",
    "\n",
    "    save_here_data(dataset_folder_path, dataset_name, distance_matrix_here, time_matrix_here)\n"
   ]
  },
  {
   "cell_type": "code",
   "execution_count": 5,
   "metadata": {},
   "outputs": [
    {
     "name": "stderr",
     "output_type": "stream",
     "text": [
      "[City:  Tonyrefail] [lat: 51.583267] [lng: -3.431174]: 100%|██████████| 76/76 [02:56<00:00,  2.32s/it]       \n",
      "[City:  Stroud] [lat: 51.745424] [lng: -2.219860]:  50%|█████     | 5/10 [00:12<00:12,  2.50s/it]  \n",
      "[City:  Clevedon] [lat: 51.436062] [lng: -2.852653]:  60%|██████    | 3/5 [00:07<00:04,  2.47s/it]  \n",
      "[City:  Kingswood] [lat: 51.462741] [lng: -2.508392]:  50%|█████     | 1/2 [00:02<00:02,  2.59s/it]\n",
      "[City:  Penarth] [lat: 51.435968] [lng: -3.173302]: 100%|██████████| 1/1 [00:02<00:00,  2.49s/it]\n",
      "[Q: 37]: 100%|██████████| 38/38 [02:40<00:00,  4.23s/it]\n",
      "[City:  Luton] [lat: 51.878439] [lng: -0.415284]: 100%|██████████| 76/76 [02:57<00:00,  2.34s/it]               \n",
      "[City:  Biggin Hill] [lat: 51.332020] [lng: 0.029026]:  50%|█████     | 5/10 [00:12<00:12,  2.46s/it]          \n",
      "[City:  Dorking] [lat: 51.232518] [lng: -0.330672]:  80%|████████  | 4/5 [00:07<00:01,  1.92s/it]\n",
      "[City:  Bognor Regis] [lat: 50.783497] [lng: -0.673072]:  67%|██████▋   | 2/3 [00:04<00:02,  2.41s/it]\n",
      "[City:  Lewes] [lat: 50.874614] [lng: 0.005115]: 100%|██████████| 1/1 [00:02<00:00,  2.56s/it]\n",
      "[Q: 37]: 100%|██████████| 38/38 [02:47<00:00,  4.41s/it]\n"
     ]
    }
   ],
   "source": [
    "api = \"Tfmt6Sxyn-nfinSHUyUo3xmVDWdtwAUyh6C8Y3HTZhU\"\n",
    "\n",
    "dataset_folder_path = \"../datasets/\"\n",
    "datasets = [\"UK75_2\", \"UK75_3\"]\n",
    "location_context = \"United Kingdom\"\n",
    "for dataset in datasets:\n",
    "    generate_dataset(api, dataset_folder_path, dataset, location_context)"
   ]
  },
  {
   "cell_type": "code",
   "execution_count": null,
   "metadata": {},
   "outputs": [],
   "source": []
  }
 ],
 "metadata": {
  "kernelspec": {
   "display_name": "Python 3",
   "language": "python",
   "name": "python3"
  },
  "language_info": {
   "codemirror_mode": {
    "name": "ipython",
    "version": 3
   },
   "file_extension": ".py",
   "mimetype": "text/x-python",
   "name": "python",
   "nbconvert_exporter": "python",
   "pygments_lexer": "ipython3",
   "version": "3.9.2"
  }
 },
 "nbformat": 4,
 "nbformat_minor": 4
}
