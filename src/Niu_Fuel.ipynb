{
 "cells": [
  {
   "cell_type": "markdown",
   "metadata": {},
   "source": [
    "## Fuel consumption function from \"*A Hybrid Tabu Search Algorithm for a Real-World Open Vehicle Routing Problem Involving Fuel Consumption Constraints\" by Niu et al.*\"\n",
    "\n",
    "### $F^{h} = \\lambda(\\frac{k^{h}N^{h}V^{h}d}{v} + M^{h}\\gamma^{h}\\alpha d + \\beta^{h}\\gamma^{h}dv^{2})$\n",
    "### Where for vehicle $h$:\n",
    "* $F$ = Fuel consumption\n",
    "* $\\lambda = \\frac{\\xi}{\\kappa\\psi}$\n",
    "* $\\gamma = \\frac{1}{1000n_{tf}\\eta}$\n",
    "* $\\alpha = \\tau+g sin\\theta + gC_{r}cos\\theta$\n",
    "    * $\\theta$ = Angle between vehile and road, assumed to be 0 in this case \n",
    "* $\\beta = 0.5C_{d}A\\rho$\n",
    "* $M$ = total vehicle weight\n",
    "* $d$ = distance\n",
    "* $v$ = vehicle speed\n",
    "\n",
    "\n"
   ]
  },
  {
   "cell_type": "markdown",
   "metadata": {},
   "source": [
    "| Notation   |      Description      |  Typical values |\n",
    "|----------|:-------------:|:------:|\n",
    "| $\\xi$ |  Fuel-to-air mass ratio | 1  |\n",
    "| $g$ |    Gravitational constant ($m/s^2$)|    9.81 |\n",
    "| $\\rho $| Air density ($kg/m^3$) |  1.2041 |\n",
    "| $\\eta$ | Efficiency parameter for diesel engines | 0.45 |\n",
    "| $C^h_r$ | Coefficient of rolling resistance | 0.01 |\n",
    "| $\\kappa$ | Heating value of a typical diesel fuel (kj/g) | 44 |\n",
    "| $\\psi$ | Conversion factor (g/s to L/s) | 737 |\n",
    "| $n_{tf}$ | Vehicle drive train efficiency | 0.45 |\n",
    "| $\\tau$ | Acceleration ($m/s^2$) | 0 |\n",
    "\n",
    "\n",
    "| Notation   |      Description      |  Light duty |  Medium duty |  Heavy duty |\n",
    "|----------|:-------------:|:------:|:------:|:------:|\n",
    "|$\\omega$ | Curb weight (kg) | 3500 | 5500 | 14000|\n",
    "|$Q$ | Maximum payload (kg) | 4000 | 12500 | 26000 |\n",
    "| $k$ | Engine friction factor (kj/rev/liter) | 0.25 | 0.20 | 0.15 |\n",
    "| $N$ | Engine speed (rev/s) | 38.34 | 36.67 | 30.0 |\n",
    "| $V$ | Engine displacement (liter) | 4.5 | 6.9 | 10.5 |\n",
    "| $C_d$ | Coefficient of aerodynamics drag | 0.6 | 0.7 | 0.9 |\n",
    "| $A$ | Frontal surface area ($m^2$) | 7.0 | 8.0 | 10.0 |"
   ]
  },
  {
   "cell_type": "code",
   "execution_count": 1,
   "metadata": {},
   "outputs": [],
   "source": [
    "niu_constants_light_vehicle = {\n",
    "    \"fuel_to_air_ratio\":1,\n",
    "    \"g\":9.81,\n",
    "    \"air_density\": 1.2041,\n",
    "    \"frontal_surface_area\": 7,\n",
    "    \"rolling_resistance\": 0.01,\n",
    "    \"aerodynamics_drag\": 0.6,\n",
    "    \"conversion_factor\":737,\n",
    "    \"heating_value\":44,\n",
    "    \"vehicle_drive_train\": 0.45,\n",
    "    \"efficiency_diesel\":0.45,\n",
    "    \"engine_friction\": 0.25,\n",
    "    \"engine_speed\": 38.34,\n",
    "    \"engine_displacement\": 4.5\n",
    "    \n",
    "}\n",
    "# Angle to ground is constantly assumed to be 0\n",
    "niu_constants_light_vehicle[\"alpha\"] = niu_constants_light_vehicle[\"g\"] * niu_constants_light_vehicle[\"rolling_resistance\"]\n",
    "\n",
    "niu_constants_light_vehicle[\"lambda\"] = niu_constants_light_vehicle[\"fuel_to_air_ratio\"]/(niu_constants_light_vehicle[\"heating_value\"]*niu_constants_light_vehicle[\"conversion_factor\"])\n",
    "\n",
    "niu_constants_light_vehicle[\"gamma\"] = niu_constants_light_vehicle[\"efficiency_diesel\"]/(1000*niu_constants_light_vehicle[\"vehicle_drive_train\"])\n",
    "\n",
    "niu_constants_light_vehicle[\"beta\"] = 0.5* niu_constants_light_vehicle[\"aerodynamics_drag\"]  * niu_constants_light_vehicle[\"frontal_surface_area\"]  * niu_constants_light_vehicle[\"air_density\"] "
   ]
  },
  {
   "cell_type": "code",
   "execution_count": null,
   "metadata": {},
   "outputs": [],
   "source": [
    "def fuel_consumption_niu(from_node,to_node,distance_matrix,time_matrix,demands,vehicle_weight):\n",
    "    distance = distance_matrix[from_node][to_node]\n",
    "    \n",
    "    demand = demands[from_node]\n",
    "    \n",
    "    current_speed = distance/time_matrix[from_node][to_node]\n",
    "    curb_weight =  demand + vehicle_weight\n",
    "\n",
    "    first_term = (niu_constants_light_vehicle[\"engine_friction\"] * niu_constants_light_vehicle[\"engine_speed\"] * niu_constants_light_vehicle[\"engine_displacement\"] * distance)/current_speed\n",
    "\n",
    "    second_term = curb_weight * niu_constants_light_vehicle[\"gamma\"] * niu_constants_light_vehicle[\"alpha\"]*distance\n",
    "    \n",
    "    third_term = niu_constants_light_vehicle[\"beta\"] * niu_constants_light_vehicle[\"gamma\"] * distance * (current_speed**2)\n",
    "    \n",
    "    fuel_consumption = niu_constants_light_vehicle[\"lambda\"] * (first_term + second_term + third_term)\n",
    "    \n",
    "    print(first_term * niu_constants_light_vehicle[\"lambda\"])\n",
    "    print(second_term * niu_constants_light_vehicle[\"lambda\"])\n",
    "    print(third_term * niu_constants_light_vehicle[\"lambda\"])\n",
    "    \n",
    "    \n",
    "    return fuel_consumption"
   ]
  }
 ],
 "metadata": {
  "kernelspec": {
   "display_name": "Python 3",
   "language": "python",
   "name": "python3"
  },
  "language_info": {
   "codemirror_mode": {
    "name": "ipython",
    "version": 3
   },
   "file_extension": ".py",
   "mimetype": "text/x-python",
   "name": "python",
   "nbconvert_exporter": "python",
   "pygments_lexer": "ipython3",
   "version": "3.9.1"
  }
 },
 "nbformat": 4,
 "nbformat_minor": 4
}
