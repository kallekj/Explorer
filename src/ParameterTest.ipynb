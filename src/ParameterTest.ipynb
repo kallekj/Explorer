{
 "cells": [
  {
   "cell_type": "code",
   "execution_count": 1,
   "metadata": {},
   "outputs": [],
   "source": [
    "%config Completer.use_jedi = False"
   ]
  },
  {
   "cell_type": "code",
   "execution_count": 2,
   "metadata": {},
   "outputs": [
    {
     "name": "stderr",
     "output_type": "stream",
     "text": [
      "/home/kj/Documents/Skola/Master_Thesis/Explorer/env/lib/python3.9/site-packages/jmetal/util/comparator.py:107: SyntaxWarning: \"is\" with a literal. Did you mean \"==\"?\n",
      "  if result is 0:\n",
      "/home/kj/Documents/Skola/Master_Thesis/Explorer/env/lib/python3.9/site-packages/jmetal/util/comparator.py:120: SyntaxWarning: \"is\" with a literal. Did you mean \"==\"?\n",
      "  if result is 0:\n",
      "/home/kj/Documents/Skola/Master_Thesis/Explorer/env/lib/python3.9/site-packages/jmetal/util/density_estimator.py:55: SyntaxWarning: \"is\" with a literal. Did you mean \"==\"?\n",
      "  if size is 0:\n",
      "/home/kj/Documents/Skola/Master_Thesis/Explorer/env/lib/python3.9/site-packages/jmetal/util/density_estimator.py:57: SyntaxWarning: \"is\" with a literal. Did you mean \"==\"?\n",
      "  elif size is 1:\n",
      "/home/kj/Documents/Skola/Master_Thesis/Explorer/env/lib/python3.9/site-packages/jmetal/util/density_estimator.py:60: SyntaxWarning: \"is\" with a literal. Did you mean \"==\"?\n",
      "  elif size is 2:\n",
      "/home/kj/Documents/Skola/Master_Thesis/Explorer/env/lib/python3.9/site-packages/jmetal/util/ranking.py:66: SyntaxWarning: \"is\" with a literal. Did you mean \"==\"?\n",
      "  elif dominance_test_result is 1:\n",
      "/home/kj/Documents/Skola/Master_Thesis/Explorer/env/lib/python3.9/site-packages/jmetal/util/ranking.py:71: SyntaxWarning: \"is\" with a literal. Did you mean \"==\"?\n",
      "  if dominating_ith[i] is 0:\n",
      "/home/kj/Documents/Skola/Master_Thesis/Explorer/env/lib/python3.9/site-packages/jmetal/util/ranking.py:82: SyntaxWarning: \"is\" with a literal. Did you mean \"==\"?\n",
      "  if dominating_ith[q] is 0:\n",
      "/home/kj/Documents/Skola/Master_Thesis/Explorer/env/lib/python3.9/site-packages/jmetal/util/archive.py:70: SyntaxWarning:\n",
      "\n",
      "\"is\" with a literal. Did you mean \"==\"?\n",
      "\n"
     ]
    }
   ],
   "source": [
    "import numpy as np\n",
    "import pandas as pd\n",
    "from datetime import datetime\n",
    "#import matplotlib.pyplot as plt\n",
    "#import geoplot as gplt\n",
    "#import geopandas as gpd\n",
    "import os\n",
    "import copy\n",
    "from copy import deepcopy\n",
    "from shapely.geometry import Point, Polygon\n",
    "from jmetal.util.constraint_handling import overall_constraint_violation_degree\n",
    "from scipy.spatial.distance import squareform \n",
    "from scipy.spatial.distance import pdist\n",
    "from jmetal.util.observer import ProgressBarObserver\n",
    "\n",
    "from jmetal.util.constraint_handling import *\n",
    "from Problem.JMetalPy_modified import *\n",
    "from Problem.ConstraintEvaluation import *\n",
    "from Problem.PerformanceObserver import *\n",
    "from Problem.InitialSolution import *\n",
    "from Problem.FitnessEvaluation import *\n",
    "from Problem.PlotFunctions import *\n",
    "from Problem.RoutingContext import *\n",
    "from Problem.VehicleFunctions import *\n",
    "from Problem.VRP import *\n",
    "from Problem.utils import *\n",
    "# https://stackoverflow.com/questions/40536560/ipython-and-jupyter-autocomplete-not-working#40544668\n",
    "api = \"Tfmt6Sxyn-nfinSHUyUo3xmVDWdtwAUyh6C8Y3HTZhU\"\n",
    "\n",
    "dataset = \"UK50_4\"\n",
    "meta_data, distance_data, station_data = parse_UK_Data(\"../datasets/{}/{}.txt\".format(dataset[:-2],dataset))\n",
    "\n",
    "#station_coordinates = generate_coordinates(station_data, to_csv=True, filename=dataset)\n",
    "location_context = \"United Kingdom\"\n",
    "#station_coordinates = generate_coordinates(station_data,location_context,to_csv=True,filename=dataset)\n",
    "station_coordinates = pd.read_csv('../datasets/{}/{}_coordinates.csv'.format(dataset[:-2],dataset), encoding='utf-8')\n",
    "points_coordinate = station_coordinates[[\"lat\", \"lng\"]].to_numpy()\n",
    "\n",
    "# #UK = gpd.read_file(\"../datasets/united_kingdom_european_regions/Regions__December_2019__Boundaries_EN_BFC-shp/Regions__December_2019__Boundaries_EN_BFC.shp\")\n",
    "# dbf = gpd.GeoDataFrame.from_file(u\"../datasets/united_kingdom_european_regions/european_region_region.dbf\")\n",
    "# dbf = dbf.to_crs(\"EPSG:4326\")\n",
    "meta_data[\"F-C Empty (l/100km)\"] = 12.5\n",
    "meta_data[\"F-C Full (l/100km)\"] = 15\n",
    "meta_data[\"Vehicle Weight\"] = 3000\n",
    "# #distance_matrix_here,time_matrix_here,_ = generate_large_distance_matrix(points_coordinate,api)\n",
    "\n",
    "distance_matrix_here,time_matrix_here = load_saved_here_data(\"../datasets/{}/\".format(dataset[:-2]),dataset)\n",
    "\n",
    "distance_matrix_here = distance_matrix_here.to_numpy()\n",
    "time_matrix_here = time_matrix_here.to_numpy()\n",
    "\n",
    "routingContext = RoutingContext(distance_matrix=distance_matrix_here,time_matrix=time_matrix_here,station_coordinates=station_coordinates,station_data=station_data,meta_data=meta_data)\n",
    "startNodes = {\"UK20_1\":[0,6,10,15],\"UK25\":[0,6,10,15],\"UK50\":[0,6,10,15,21,35,40],\"UK75\":[0,6,10,15,21,35,40,60,31,68]}\n",
    "endNodes = {\"UK20_1\":[4,20,2,5],\"UK25\":[4,20,2,5,22],\"UK50\":[4,20,2,5,32,45,1],\"UK75\":[4,20,2,5,32,45,1]}\n",
    "\n"
   ]
  },
  {
   "cell_type": "code",
   "execution_count": 3,
   "metadata": {},
   "outputs": [
    {
     "data": {
      "text/plain": [
       "<matplotlib.collections.PathCollection at 0x7f5f5ad59e20>"
      ]
     },
     "execution_count": 3,
     "metadata": {},
     "output_type": "execute_result"
    },
    {
     "data": {
      "image/png": "[encoded data removed]",
      "text/plain": [
       "<Figure size 432x288 with 1 Axes>"
      ]
     },
     "metadata": {
      "needs_background": "light"
     },
     "output_type": "display_data"
    }
   ],
   "source": [
    "plt.scatter(points_coordinate[:,1],points_coordinate[:,0])"
   ]
  },
  {
   "cell_type": "code",
   "execution_count": 4,
   "metadata": {},
   "outputs": [],
   "source": [
    "startNodeIndeces = startNodes[dataset[:-2]]\n",
    "endNodeIndeces = endNodes[dataset[:-2]]\n",
    "locationNodeIndeces = list((set(range(len(points_coordinate))) - set(startNodeIndeces)) - set(endNodeIndeces))\n",
    "\n",
    "vehicleData = {\"emptyWeights\":[3000,5500],\"maxLoads\":[3650,8500],\"fuelEmpty\":[12,22.5],\"fuelFull\":[15,27.5]}\n",
    "\n",
    "\n",
    "vehicles = initializeVehicles(startIndices=startNodeIndeces,vehicleData=vehicleData,\n",
    "                                                            routingContext=routingContext,heterogeneousFleet=True)\n",
    "\n",
    "customer_demands = station_data.T.loc[\"Demand(kg)\"].astype(int).to_numpy()\n",
    "customer_demands[startNodeIndeces+endNodeIndeces] = 0\n",
    "station_data[\"Demand(kg)\"] = customer_demands\n",
    "\n",
    "translate_dict = {}\n",
    "for i,x in enumerate(endNodeIndeces):\n",
    "    translate_dict[x] = 100+i\n",
    "initial_solution = cheapest_insertion_dict(locationNodeIndeces,vehicles,endNodeIndeces,routingContext)\n",
    "\n",
    "\n",
    "\n",
    "cost_function_dict = {\"distance_matrix\":distance_matrix_here,\"time_matrix\":time_matrix_here,\n",
    "                              \"demands\":customer_demands,\"vehicle_weight\":3000,\"start_positions\":startNodeIndeces,\"meta_data\":meta_data}\n",
    "\n",
    "\n",
    "min_allowed_drivetime_hours = 0\n",
    "\n",
    "\n",
    "data_model_input_multi_objective = {'routing_context':routingContext,'vehicles':vehicles,'end_points':endNodeIndeces,'pickup_points':locationNodeIndeces,\n",
    "                                    'initial_solution':initial_solution,\n",
    "                                    'objective_amount':2,'objective_labels':['Total Fuel','Total Drive Time'],\n",
    "                                    'constraint_amount':6,'number_of_cities':routingContext.distance_matrix.shape[0],\n",
    "                                    'min_drivetime':min_allowed_drivetime_hours}\n",
    "\n",
    "data_model_input_single_objective = {'routing_context':routingContext,'vehicles':vehicles,'end_points':endNodeIndeces,'pickup_points':locationNodeIndeces,\n",
    "                                    'initial_solution':initial_solution,\n",
    "                                    'objective_amount':1,'objective_labels':['Total Fuel'],\n",
    "                                    'constraint_amount':6,'number_of_cities':routingContext.distance_matrix.shape[0],\n",
    "                                    'min_drivetime':min_allowed_drivetime_hours}\n",
    "\n",
    "problem = VRP(data_model_input_multi_objective)\n",
    "\n",
    "plot_data_storage_base = {'fitness':[], 'route_distance':[],'fuel_consumption':[],'vehicle_loads':[],'computation_times':[],'vehicle_route_time':[],'violation':[],'paths':[]}\n",
    "\n",
    "\n",
    "amount_of_runs = 30\n",
    "amount_of_evaluations = 5000\n",
    "logpath = \"parameter_data/{}/\".format(dataset)\n",
    "mutation_arange = np.arange(0.1,1,0.2)\n",
    "crossover_arange = np.arange(0.25,0.8,0.25)\n",
    "population_size_arange = np.arange(10,40,10)\n",
    "\n",
    "\n",
    "genetic_algorithms_parameters = []\n",
    "\n",
    "for x in mutation_arange:\n",
    "    for y in crossover_arange:\n",
    "        for z in population_size_arange:\n",
    "            genetic_algorithms_parameters.append({\"mutation\":np.round(x,2),\"crossover\":np.round(y,2),\"population_size\":np.round(z,2)})\n"
   ]
  },
  {
   "cell_type": "code",
   "execution_count": 5,
   "metadata": {},
   "outputs": [
    {
     "data": {
      "text/plain": [
       "'parameter_data/UK50_4/'"
      ]
     },
     "execution_count": 5,
     "metadata": {},
     "output_type": "execute_result"
    }
   ],
   "source": [
    "logpath"
   ]
  },
  {
   "cell_type": "markdown",
   "metadata": {},
   "source": [
    "# Paremeter Test "
   ]
  },
  {
   "cell_type": "markdown",
   "metadata": {},
   "source": [
    "# Simulated Annealing"
   ]
  },
  {
   "cell_type": "code",
   "execution_count": 6,
   "metadata": {},
   "outputs": [
    {
     "name": "stdout",
     "output_type": "stream",
     "text": [
      "Epoch:150 of 150\n",
      "Evaluations: 5000/5000\n",
      "Params: {'mutation': 0.9}\n",
      "IGD:1423.0199097081347\n",
      "Best fitness: 419.0743                          \n",
      "Best total fuel consumption:168.99 \n",
      "Best total drive time:1412.95                          \n",
      "Computing time: 7.27s\n",
      "Average computing speed: 687.32it/s                          \n",
      "Current Route:[['V3', 8, 39, 32], ['V2', 22, 33, 25, 47, 9, 32], ['V4', 12, 28, 36, 41, 42, 20], ['V6', 46, 27, 44, 43, 31, 30, 5], ['V7', 16, 3, 37, 11, 13, 1], ['V10', 48, 24, 38, 14, 50, 34, 19, 20], ['V12', 29, 32], ['V13', 23, 17, 26, 18, 49, 7, 1]]\n",
      "Flags: []\n",
      "Violation:0\n",
      "Vehicle Amount:8\n"
     ]
    }
   ],
   "source": [
    "from jmetal.algorithm.singleobjective import SimulatedAnnealing\n",
    "from jmetal.operator.mutation import PermutationSwapMutation,ScrambleMutation,SimpleRandomMutation\n",
    "from jmetal.util.termination_criterion import StoppingByEvaluations\n",
    "from jmetal.util.comparator import DominanceComparator\n",
    "from datetime import datetime\n",
    "parameter_list_SA = []\n",
    "for x in mutation_arange:\n",
    "    parameter_list_SA.append({\"mutation\":np.round(x,2)})\n",
    "\n",
    "\n",
    "\n",
    "parameter_data_SA = []\n",
    "computation_times_SA = []\n",
    "results_SA = []\n",
    "sa_log_data_DF = pd.DataFrame(columns=list(plot_data_storage_base.keys()))\n",
    "for index,param in enumerate(parameter_list_SA):\n",
    "    plot_data_SA = deepcopy(plot_data_storage_base)\n",
    "    for x in range(amount_of_runs):\n",
    "        problem_SA = VRP(data_model_input_single_objective)\n",
    "        problem_SA.name = \"SA\"\n",
    "        problem_SA.assignClosestEndPoint = True\n",
    "        max_evaluations = amount_of_evaluations\n",
    "\n",
    "        algorithm_SA = SimulatedAnnealing(problem=problem_SA,\n",
    "                                       mutation=PermutationSwapMutation(param[\"mutation\"]),\n",
    "                                       termination_criterion=StoppingByEvaluations(max_evaluations))\n",
    "       \n",
    "        performance_observer_SA = PerformanceObserver(max_iter=max_evaluations,frequency=10,params=parameter_list_SA)\n",
    "        performance_observer_SA.maxEpochs= len(parameter_list_SA) * amount_of_runs\n",
    "        performance_observer_SA.currentEpoch = (index*amount_of_runs) + x\n",
    "\n",
    "        algorithm_SA.observable.register(observer=performance_observer_SA)\n",
    "        algorithm_SA.run() \n",
    "        \n",
    "        solutions_SA = algorithm_SA.get_result()        \n",
    "        store_plot_data(plot_data_SA,performance_observer_SA,solutions_SA)\n",
    "        \n",
    "    new_Row = pd.DataFrame.from_dict(plot_data_SA,orient=\"columns\")\n",
    "    new_Row.insert(0,\"Parameters\",[list(param.items())]*amount_of_runs)#[\"Parameters\"] = param\n",
    "    new_Row.insert(0,\"Parameter Group\",[index]*amount_of_runs)\n",
    "    \n",
    "    \n",
    "    \n",
    "    sa_log_data_DF = pd.concat([sa_log_data_DF,new_Row])\n",
    "    \n",
    "    parameter_data_SA.append({\"parameters\":param,\"results\":plot_data_SA})\n",
    "\n",
    "sa_numerical_path = get_numerical_path(solutions_SA.path,vehicles)\n"
   ]
  },
  {
   "cell_type": "markdown",
   "metadata": {},
   "source": [
    "# Genetic Algorithm"
   ]
  },
  {
   "cell_type": "code",
   "execution_count": 7,
   "metadata": {},
   "outputs": [
    {
     "name": "stdout",
     "output_type": "stream",
     "text": [
      "Epoch:1350 of 1350\n",
      "Evaluations: 5010/5000\n",
      "Params: {'mutation': 0.9, 'crossover': 0.75, 'population_size': 30}\n",
      "IGD:1529.8675817400886\n",
      "Best fitness: 409.1152                          \n",
      "Best total fuel consumption:191.12 \n",
      "Best total drive time:1517.88                          \n",
      "Computing time: 8.13s\n",
      "Average computing speed: 616.57it/s                          \n",
      "Current Route:[['V3', 39, 8, 22, 33, 32], ['V2', 25, 47, 9, 32], ['V4', 28, 36, 41, 20], ['V5', 12, 42, 20], ['V6', 46, 27, 44, 43, 31, 30, 5], ['V7', 16, 3, 37, 11, 13, 1], ['V10', 48, 24, 38, 14, 50, 34, 19, 20], ['V12', 29, 32], ['V13', 23, 17, 26, 18, 49, 7, 1]]\n",
      "Flags: []\n",
      "Violation:0\n",
      "Vehicle Amount:9\n"
     ]
    }
   ],
   "source": [
    "from jmetal.algorithm.singleobjective import GeneticAlgorithm\n",
    "from jmetal.operator.crossover import PMXCrossover\n",
    "from jmetal.operator.selection import Selection\n",
    "from jmetal.operator import SBXCrossover, RandomSolutionSelection,BestSolutionSelection\n",
    "from jmetal.operator.mutation import PermutationSwapMutation\n",
    "from jmetal.util.termination_criterion import StoppingByEvaluations\n",
    "from jmetal.util.observer import ProgressBarObserver, VisualizerObserver,PrintObjectivesObserver,BasicObserver\n",
    "from jmetal.util.evaluator import MultiprocessEvaluator\n",
    "from datetime import datetime\n",
    "\n",
    "\n",
    "parameter_list_GA = genetic_algorithms_parameters\n",
    "\n",
    "GA_log_data_DF = pd.DataFrame(columns=list(plot_data_storage_base.keys()))\n",
    "\n",
    "for index,param in enumerate(parameter_list_GA):\n",
    "    plot_data_GA = deepcopy(plot_data_storage_base)\n",
    "    for x in range(amount_of_runs):\n",
    "        problem_GA = VRP(data_model_input_single_objective)\n",
    "        problem_GA.name = \"GA\"\n",
    "        problem_GA.assignClosestEndPoint = True\n",
    "        max_evaluations = amount_of_evaluations\n",
    "\n",
    "        algorithm_GA = GeneticAlgorithm(problem=problem_GA,\n",
    "                        population_size=param[\"population_size\"],\n",
    "                        offspring_population_size=param[\"population_size\"],\n",
    "                        mutation=PermutationSwapMutation(param[\"mutation\"]),\n",
    "                        crossover=PMXCrossover(param[\"crossover\"]),\n",
    "                        selection=BestSolutionSelection(),\n",
    "                        termination_criterion=StoppingByEvaluations(max_evaluations=max_evaluations)\n",
    "                        ,population_evaluator=MultiprocessEvaluator()\n",
    "                        )\n",
    "\n",
    "\n",
    "        performance_observer_GA = PerformanceObserver(max_iter=max_evaluations,frequency=1,params=parameter_list_GA)\n",
    "        performance_observer_GA.maxEpochs= len(parameter_list_GA) * amount_of_runs\n",
    "        performance_observer_GA.currentEpoch = (index*amount_of_runs) + x\n",
    "        algorithm_GA.observable.register(observer=performance_observer_GA)\n",
    "        start_time = datetime.now() \n",
    "        algorithm_GA.run()\n",
    "        run_time = datetime.now() - start_time\n",
    "        solutions_GA = algorithm_GA.get_result()\n",
    "        \n",
    "\n",
    "        store_plot_data(plot_data_GA,performance_observer_GA,solutions_GA)\n",
    "        \n",
    "    new_Row = pd.DataFrame.from_dict(plot_data_GA,orient=\"columns\")\n",
    "    new_Row.insert(0,\"Parameters\",[list(param.items())]*amount_of_runs)\n",
    "    new_Row.insert(0,\"Parameter Group\",[index]*amount_of_runs)\n",
    "    \n",
    "    \n",
    "    \n",
    "    GA_log_data_DF = pd.concat([GA_log_data_DF,new_Row])\n",
    "    \n",
    "\n",
    "#saveParameterData(logPath,\"GA_data_10_pop\",parameter_data_GA)"
   ]
  },
  {
   "cell_type": "code",
   "execution_count": 8,
   "metadata": {},
   "outputs": [],
   "source": [
    "GA_log_data_DF.to_csv(\"{}/GA.csv\".format(logpath))"
   ]
  },
  {
   "cell_type": "markdown",
   "metadata": {},
   "source": [
    "# NSGA-II"
   ]
  },
  {
   "cell_type": "code",
   "execution_count": 9,
   "metadata": {},
   "outputs": [
    {
     "name": "stdout",
     "output_type": "stream",
     "text": [
      "Epoch:1350 of 1350\n",
      "Evaluations: 5010/5000\n",
      "Params: {'mutation': 0.9, 'crossover': 0.75, 'population_size': 30} \n",
      "IGD:291.4989552224949\n",
      "Best fitness: 201.2245 --- 218.0                        \n",
      "Best total fuel consumption:201.22 \n",
      "Computing time: 9.37s                        \n",
      "Average computing speed: 534.56it/s\n",
      "Current Route:[['V0', 33, 22, 32], ['V3', 8, 39, 32], ['V2', 25, 47, 9, 32], ['V4', 12, 28, 20], ['V5', 36, 41, 42, 20], ['V6', 46, 27, 44, 43, 31, 30, 5], ['V7', 16, 3, 37, 11, 13, 1], ['V10', 48, 24, 14, 38, 50, 34, 19, 20], ['V12', 29, 32], ['V13', 23, 17, 26, 18, 49, 7, 1]]\n",
      "Flags: []                        \n",
      "Violation:0\n",
      "Vehicle amount:10\n"
     ]
    }
   ],
   "source": [
    "from jmetal.algorithm.multiobjective.nsgaiii import NSGAII, UniformReferenceDirectionFactory\n",
    "from jmetal.operator.crossover import PMXCrossover,CXCrossover\n",
    "from jmetal.operator.mutation import PermutationSwapMutation, ScrambleMutation\n",
    "from jmetal.util.termination_criterion import StoppingByEvaluations\n",
    "from jmetal.util.evaluator import MultiprocessEvaluator\n",
    "from jmetal.operator import SBXCrossover, RandomSolutionSelection,BestSolutionSelection,RankingAndCrowdingDistanceSelection\n",
    "from jmetal.operator.selection import   RouletteWheelSelection\n",
    "from jmetal.util.solution import get_non_dominated_solutions\n",
    "from datetime import datetime\n",
    "\n",
    "parameter_list_NSGAII = genetic_algorithms_parameters# [{\"mutation\":0.8,\"crossover\":0.5,\"population_size\":20}]#,{\"mutation\":0.8,\"crossover\":0.5}]\n",
    "# for x in mutation_arange:\n",
    "#     for y in crossover_arange:\n",
    "#         parameter_list_NSGAII.append({\"mutation\":round(x,2),\"crossover\":round(y,2)})\n",
    "\n",
    "\n",
    "NSGA2_log_data_DF = pd.DataFrame(columns=list(plot_data_storage_base.keys()))\n",
    "for index,param in enumerate(parameter_list_NSGAII):\n",
    "    plot_data_NSGAII = deepcopy(plot_data_storage_base)\n",
    "    for x in range(amount_of_runs):\n",
    "        problem_NSGAII = VRP(data_model_input_multi_objective)\n",
    "        problem_NSGAII.name = \"NSGA-II\"\n",
    "        problem_NSGAII.assignClosestEndPoint = True\n",
    "        max_evaluations = amount_of_evaluations\n",
    "\n",
    "        algorithm_NSGAII = NSGAII(problem=problem_NSGAII,\n",
    "                                population_size=param[\"population_size\"],\n",
    "                                offspring_population_size=param[\"population_size\"],\n",
    "                                mutation=PermutationSwapMutation(param[\"mutation\"]),\n",
    "                                crossover=PMXCrossover(param[\"crossover\"]),\n",
    "                                termination_criterion=StoppingByEvaluations(max_evaluations),\n",
    "                                population_evaluator=MultiprocessEvaluator()\n",
    "\n",
    "                                   )\n",
    "\n",
    "        performance_observer_NSGAII = PerformanceObserver(max_iter=max_evaluations,frequency=1,params=parameter_list_NSGAII)\n",
    "        performance_observer_NSGAII.maxEpochs= len(parameter_list_NSGAII) * amount_of_runs\n",
    "        performance_observer_NSGAII.currentEpoch = (index*amount_of_runs) + x\n",
    "        algorithm_NSGAII.observable.register(observer=performance_observer_NSGAII)\n",
    "        algorithm_NSGAII.run()\n",
    "        \n",
    "        solutions_NSGAII = algorithm_NSGAII.get_result()\n",
    "        front_NSGAII = get_non_dominated_solutions(solutions_NSGAII)\n",
    "        \n",
    "        store_plot_data(plot_data_NSGAII,performance_observer_NSGAII,front_NSGAII[0])\n",
    "        \n",
    "    new_Row = pd.DataFrame.from_dict(plot_data_NSGAII,orient=\"columns\")\n",
    "    new_Row.insert(0,\"Parameters\",[list(param.items())]*amount_of_runs)\n",
    "    new_Row.insert(0,\"Parameter Group\",[index]*amount_of_runs)\n",
    "    \n",
    "    NSGA2_log_data_DF = pd.concat([NSGA2_log_data_DF,new_Row])\n",
    "\n"
   ]
  },
  {
   "cell_type": "code",
   "execution_count": 10,
   "metadata": {},
   "outputs": [],
   "source": [
    "NSGA2_log_data_DF.to_csv(\"{}/NSGA2.csv\".format(logpath))"
   ]
  },
  {
   "cell_type": "markdown",
   "metadata": {},
   "source": [
    "# NSGA-III"
   ]
  },
  {
   "cell_type": "code",
   "execution_count": 11,
   "metadata": {},
   "outputs": [
    {
     "name": "stdout",
     "output_type": "stream",
     "text": [
      "Epoch:1350 of 1350\n",
      "Evaluations: 5010/5000\n",
      "Params: {'mutation': 0.9, 'crossover': 0.75, 'population_size': 30} \n",
      "IGD:290.00816485074716\n",
      "Best fitness: 169.7163 --- 246.9833                        \n",
      "Best total fuel consumption:169.72 \n",
      "Computing time: 9.33s                        \n",
      "Average computing speed: 537.07it/s\n",
      "Current Route:[['V3', 22, 8, 39, 32], ['V2', 33, 9, 47, 25, 32], ['V4', 12, 28, 36, 41, 42, 20], ['V6', 46, 27, 44, 43, 31, 30, 5], ['V7', 16, 3, 37, 11, 13, 1], ['V10', 48, 24, 38, 14, 50, 34, 19, 20], ['V12', 29, 32], ['V13', 23, 17, 26, 18, 49, 7, 1]]\n",
      "Flags: []                        \n",
      "Violation:0\n",
      "Vehicle amount:8\n"
     ]
    }
   ],
   "source": [
    "from jmetal.algorithm.multiobjective.nsgaiii import NSGAIII, UniformReferenceDirectionFactory,ReferenceDirectionFactory\n",
    "from jmetal.operator.crossover import PMXCrossover, CXCrossover\n",
    "from jmetal.operator.mutation import PermutationSwapMutation,ScrambleMutation\n",
    "from jmetal.util.termination_criterion import StoppingByEvaluations\n",
    "from jmetal.util.evaluator import MultiprocessEvaluator\n",
    "from jmetal.util.solution import get_non_dominated_solutions\n",
    "from jmetal.util.observer import ProgressBarObserver\n",
    "from jmetal.util.density_estimator import CrowdingDistance\n",
    "from jmetal.util.ranking import FastNonDominatedRanking\n",
    "from jmetal.util.comparator import DominanceComparator, Comparator, MultiComparator\n",
    "\n",
    "parameter_list_NSGAIII = genetic_algorithms_parameters#[{\"mutation\":0.6,\"crossover\":0.2,\"population_size\":20}]#{\"mutation\":0.6,\"crossover\":0.5},{\"mutation\":0.6,\"crossover\":0.8}]\n",
    "\n",
    "NSGA3_log_data_DF = pd.DataFrame(columns=list(plot_data_storage_base.keys()))\n",
    "for index,param in enumerate(parameter_list_NSGAIII):\n",
    "    plot_data_NSGAIII = deepcopy(plot_data_storage_base)\n",
    "    for x in range(amount_of_runs):\n",
    "        \n",
    "        problem_NSGAIII = VRP(data_model_input_multi_objective)\n",
    "        problem_NSGAIII.name = \"NSGA-III\"\n",
    "        problem_NSGAIII.assignClosestEndPoint = True\n",
    "        max_evaluations = amount_of_evaluations\n",
    "        \n",
    "        algorithm_NSGAIII = NSGAIII(problem=problem_NSGAIII,\n",
    "                                population_size=param[\"population_size\"],\n",
    "                                reference_directions=UniformReferenceDirectionFactory(2, n_points=8),\n",
    "                                mutation= PermutationSwapMutation(param[\"mutation\"]),\n",
    "                                crossover=PMXCrossover(param[\"crossover\"]),\n",
    "                                termination_criterion=StoppingByEvaluations(max_evaluations)\n",
    "                                ,population_evaluator=MultiprocessEvaluator()\n",
    "                                   )\n",
    "        performance_observer_NSGAIII = PerformanceObserver(max_iter=max_evaluations,frequency=1,params=parameter_list_NSGAIII)\n",
    "        performance_observer_NSGAIII.maxEpochs= len(parameter_list_NSGAIII) * amount_of_runs\n",
    "        performance_observer_NSGAIII.currentEpoch = (index*amount_of_runs) + x\n",
    "\n",
    "        algorithm_NSGAIII.observable.register(observer=performance_observer_NSGAIII)\n",
    "        algorithm_NSGAIII.run()\n",
    "        \n",
    "        solutions_NSGAIII = algorithm_NSGAIII.get_result()\n",
    "        front_NSGAIII = get_non_dominated_solutions(solutions_NSGAIII)\n",
    "        \n",
    "        store_plot_data(plot_data_NSGAIII,performance_observer_NSGAIII,front_NSGAIII[0])\n",
    "        \n",
    "        \n",
    "    new_Row = pd.DataFrame.from_dict(plot_data_NSGAIII,orient=\"columns\")\n",
    "    new_Row.insert(0,\"Parameters\",[list(param.items())]*amount_of_runs)\n",
    "    new_Row.insert(0,\"Parameter Group\",[index]*amount_of_runs)\n",
    "    \n",
    "    NSGA3_log_data_DF = pd.concat([NSGA3_log_data_DF,new_Row])\n",
    "        \n",
    "nsga3_numerical_path = get_numerical_path(front_NSGAIII[0].path,vehicles)\n"
   ]
  },
  {
   "cell_type": "code",
   "execution_count": 12,
   "metadata": {},
   "outputs": [],
   "source": [
    "NSGA3_log_data_DF.to_csv(\"{}/NSGA3.csv\".format(logpath))"
   ]
  },
  {
   "cell_type": "markdown",
   "metadata": {},
   "source": [
    "# UNSGA-III"
   ]
  },
  {
   "cell_type": "code",
   "execution_count": 13,
   "metadata": {},
   "outputs": [
    {
     "name": "stdout",
     "output_type": "stream",
     "text": [
      "Epoch:1350 of 1350\n",
      "Evaluations: 5010/5000\n",
      "Params: {'mutation': 0.9, 'crossover': 0.75, 'population_size': 30} \n",
      "IGD:296.1881397330449\n",
      "Best fitness: 169.5097 --- 346.05                        \n",
      "Best total fuel consumption:169.51 \n",
      "Computing time: 9.69s                        \n",
      "Average computing speed: 516.95it/s\n",
      "Current Route:[['V3', 39, 8, 22, 33, 9, 47, 25, 32], ['V4', 12, 28, 36, 41, 42, 20], ['V6', 46, 27, 44, 43, 31, 30, 5], ['V7', 16, 3, 37, 11, 13, 1], ['V10', 48, 24, 38, 14, 50, 34, 19, 20], ['V12', 29, 32], ['V13', 23, 17, 26, 18, 49, 7, 1]]\n",
      "Flags: []                        \n",
      "Violation:0\n",
      "Vehicle amount:7\n"
     ]
    }
   ],
   "source": [
    "from jmetal.algorithm.multiobjective.nsgaiii import NSGAIII, UniformReferenceDirectionFactory,ReferenceDirectionFactory\n",
    "from jmetal.operator.crossover import PMXCrossover, CXCrossover\n",
    "from jmetal.operator.mutation import PermutationSwapMutation,ScrambleMutation\n",
    "from jmetal.util.termination_criterion import StoppingByEvaluations\n",
    "from jmetal.util.evaluator import MultiprocessEvaluator\n",
    "from jmetal.util.solution import get_non_dominated_solutions\n",
    "from jmetal.util.observer import ProgressBarObserver\n",
    "from jmetal.util.density_estimator import CrowdingDistance\n",
    "from jmetal.util.ranking import FastNonDominatedRanking\n",
    "from jmetal.util.comparator import DominanceComparator, Comparator, MultiComparator\n",
    "\n",
    "parameter_list_UNSGAIII = genetic_algorithms_parameters\n",
    "UNSGA3_log_data_DF = pd.DataFrame(columns=list(plot_data_storage_base.keys()))\n",
    "for index,param in enumerate(parameter_list_UNSGAIII):\n",
    "    plot_data_UNSGAIII = deepcopy(plot_data_storage_base)\n",
    "    for x in range(amount_of_runs):\n",
    "        \n",
    "        problem_UNSGAIII = VRP(data_model_input_multi_objective)\n",
    "        problem_UNSGAIII.name = \"NSGA-III\"\n",
    "        problem_UNSGAIII.assignClosestEndPoint = True\n",
    "        max_evaluations = amount_of_evaluations\n",
    "        \n",
    "        algorithm_UNSGAIII = UNSGAIII(problem=problem_UNSGAIII,\n",
    "                                population_size=param[\"population_size\"],\n",
    "                                reference_directions=UniformReferenceDirectionFactory(2, n_points=8),\n",
    "                                mutation= PermutationSwapMutation(param[\"mutation\"]),\n",
    "                                crossover=PMXCrossover(param[\"crossover\"]),\n",
    "                                termination_criterion=StoppingByEvaluations(max_evaluations)\n",
    "                                ,population_evaluator=MultiprocessEvaluator()\n",
    "                                   )\n",
    "        performance_observer_UNSGAIII = PerformanceObserver(max_iter=max_evaluations,frequency=1,params=parameter_list_UNSGAIII)\n",
    "        performance_observer_UNSGAIII.maxEpochs= len(parameter_list_UNSGAIII) * amount_of_runs\n",
    "        performance_observer_UNSGAIII.currentEpoch = (index*amount_of_runs) + x\n",
    "\n",
    "        algorithm_UNSGAIII.observable.register(observer=performance_observer_UNSGAIII)\n",
    "        algorithm_UNSGAIII.run()\n",
    "        \n",
    "        solutions_UNSGAIII = algorithm_UNSGAIII.get_result()\n",
    "        front_UNSGAIII = get_non_dominated_solutions(solutions_UNSGAIII)\n",
    "        \n",
    "        store_plot_data(plot_data_UNSGAIII,performance_observer_UNSGAIII,front_UNSGAIII[0])\n",
    "        \n",
    "        \n",
    "    new_Row = pd.DataFrame.from_dict(plot_data_UNSGAIII,orient=\"columns\")\n",
    "    new_Row.insert(0,\"Parameters\",[list(param.items())]*amount_of_runs)\n",
    "    new_Row.insert(0,\"Parameter Group\",[index]*amount_of_runs)\n",
    "    \n",
    "    UNSGA3_log_data_DF = pd.concat([UNSGA3_log_data_DF,new_Row])\n",
    "        \n",
    "Unsga3_numerical_path = get_numerical_path(front_UNSGAIII[0].path,vehicles)"
   ]
  },
  {
   "cell_type": "code",
   "execution_count": 14,
   "metadata": {},
   "outputs": [],
   "source": [
    "UNSGA3_log_data_DF.to_csv(\"{}/UNSGA3.csv\".format(logpath))"
   ]
  },
  {
   "cell_type": "markdown",
   "metadata": {},
   "source": [
    "# IBEA"
   ]
  },
  {
   "cell_type": "code",
   "execution_count": 15,
   "metadata": {},
   "outputs": [
    {
     "name": "stdout",
     "output_type": "stream",
     "text": [
      "Epoch:1350 of 1350\n",
      "Evaluations: 5010/5000\n",
      "Params: {'mutation': 0.9, 'crossover': 0.75, 'population_size': 30} \n",
      "IGD:287.598456841237\n",
      "Best fitness: 187.587 --- 218.0                        \n",
      "Best total fuel consumption:187.59 \n",
      "Computing time: 21.08s                        \n",
      "Average computing speed: 237.69it/s\n",
      "Current Route:[['V2', 33, 22, 8, 39, 32], ['V3', 9, 47, 25, 32], ['V4', 12, 28, 20], ['V5', 36, 41, 42, 20], ['V6', 27, 44, 43, 31, 30, 5], ['V7', 46, 16, 3, 37, 11, 13, 1], ['V10', 48, 24, 38, 14, 50, 34, 19, 20], ['V12', 29, 32], ['V13', 23, 17, 26, 18, 49, 7, 1]]\n",
      "Flags: []                        \n",
      "Violation:0\n",
      "Vehicle amount:9\n"
     ]
    }
   ],
   "source": [
    "from jmetal.algorithm.multiobjective.ibea import IBEA\n",
    "from jmetal.operator.crossover import PMXCrossover,CXCrossover\n",
    "from jmetal.operator.mutation import PermutationSwapMutation, ScrambleMutation\n",
    "from jmetal.util.termination_criterion import StoppingByEvaluations\n",
    "from jmetal.util.evaluator import MultiprocessEvaluator\n",
    "from jmetal.operator import SBXCrossover, RandomSolutionSelection,BestSolutionSelection,RankingAndCrowdingDistanceSelection\n",
    "from jmetal.operator.selection import   RouletteWheelSelection\n",
    "from jmetal.util.solution import get_non_dominated_solutions\n",
    "from datetime import datetime\n",
    "\n",
    "parameter_list_IBEA =genetic_algorithms_parameters\n",
    "\n",
    "IBEA_log_data_DF = pd.DataFrame(columns=list(plot_data_storage_base.keys()))\n",
    "for index,param in enumerate(parameter_list_IBEA):\n",
    "    plot_data_IBEA = deepcopy(plot_data_storage_base)\n",
    "    for x in range(amount_of_runs):\n",
    "        problem_IBEA = VRP(data_model_input_multi_objective)\n",
    "        problem_IBEA.name = \"IBEA\"\n",
    "        problem_IBEA.assignClosestEndPoint = True\n",
    "        max_evaluations = amount_of_evaluations\n",
    "\n",
    "        algorithm_IBEA = IBEA(problem=problem_IBEA,\n",
    "                                population_size=param[\"population_size\"],\n",
    "                                offspring_population_size=param[\"population_size\"],\n",
    "                                kappa =1,\n",
    "                                mutation=PermutationSwapMutation(param[\"mutation\"]),\n",
    "                                crossover=PMXCrossover(param[\"crossover\"]),\n",
    "                                termination_criterion=StoppingByEvaluations(max_evaluations),\n",
    "                                population_evaluator=MultiprocessEvaluator(),\n",
    "                                   )\n",
    "        \n",
    "        performance_observer_IBEA = PerformanceObserver(max_iter=max_evaluations,frequency=10,params=parameter_list_IBEA)\n",
    "        performance_observer_IBEA.maxEpochs= len(parameter_list_IBEA) * amount_of_runs\n",
    "        performance_observer_IBEA.currentEpoch = (index*amount_of_runs) + x\n",
    "         \n",
    "        \n",
    "        algorithm_IBEA.observable.register(observer=performance_observer_IBEA)\n",
    "        algorithm_IBEA.run()\n",
    "        \n",
    "        solutions_IBEA = algorithm_IBEA.get_result()\n",
    "        front_IBEA = get_non_dominated_solutions(solutions_IBEA)\n",
    "        store_plot_data(plot_data_IBEA,performance_observer_IBEA,front_IBEA[0])\n",
    "    \n",
    "    new_Row = pd.DataFrame.from_dict(plot_data_IBEA,orient=\"columns\")\n",
    "    new_Row.insert(0,\"Parameters\",[list(param.items())]*amount_of_runs)\n",
    "    new_Row.insert(0,\"Parameter Group\",[index]*amount_of_runs)\n",
    "    \n",
    "    IBEA_log_data_DF = pd.concat([IBEA_log_data_DF,new_Row])\n",
    "    \n",
    "    \n",
    "ibea_numerical_path = get_numerical_path(front_IBEA[0].path,vehicles)"
   ]
  },
  {
   "cell_type": "code",
   "execution_count": 16,
   "metadata": {},
   "outputs": [],
   "source": [
    "IBEA_log_data_DF.to_csv(\"{}/IBEA.csv\".format(logpath))"
   ]
  },
  {
   "cell_type": "code",
   "execution_count": 17,
   "metadata": {},
   "outputs": [],
   "source": [
    "sa_log_data_DF.to_csv(\"{}/SA.csv\".format(logpath))"
   ]
  },
  {
   "cell_type": "code",
   "execution_count": null,
   "metadata": {},
   "outputs": [],
   "source": []
  }
 ],
 "metadata": {
  "kernelspec": {
   "display_name": "Python 3",
   "language": "python",
   "name": "python3"
  },
  "language_info": {
   "codemirror_mode": {
    "name": "ipython",
    "version": 3
   },
   "file_extension": ".py",
   "mimetype": "text/x-python",
   "name": "python",
   "nbconvert_exporter": "python",
   "pygments_lexer": "ipython3",
   "version": "3.9.2"
  }
 },
 "nbformat": 4,
 "nbformat_minor": 4
}
