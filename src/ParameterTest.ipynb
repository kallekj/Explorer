{
 "cells": [
  {
   "cell_type": "code",
   "execution_count": 1,
   "metadata": {},
   "outputs": [],
   "source": [
    "%config Completer.use_jedi = False"
   ]
  },
  {
   "cell_type": "code",
   "execution_count": 19,
   "metadata": {},
   "outputs": [],
   "source": [
    "import numpy as np\n",
    "import pandas as pd\n",
    "from datetime import datetime\n",
    "import matplotlib.pyplot as plt\n",
    "#import geoplot as gplt\n",
    "#import geopandas as gpd\n",
    "import os\n",
    "import copy\n",
    "from copy import deepcopy\n",
    "from shapely.geometry import Point, Polygon\n",
    "from jmetal.util.constraint_handling import overall_constraint_violation_degree\n",
    "from scipy.spatial.distance import squareform \n",
    "from scipy.spatial.distance import pdist\n",
    "from jmetal.util.observer import ProgressBarObserver\n",
    "\n",
    "from jmetal.util.constraint_handling import *\n",
    "from Problem.JMetalPy_modified import *\n",
    "from Problem.ConstraintEvaluation import *\n",
    "from Problem.PerformanceObserver import *\n",
    "from Problem.InitialSolution import *\n",
    "from Problem.FitnessEvaluation import *\n",
    "from Problem.PlotFunctions import *\n",
    "from Problem.RoutingContext import *\n",
    "from Problem.VehicleFunctions import *\n",
    "from Problem.VRP import *\n",
    "from Problem.utils import *\n",
    "from Problem.VRPGini import * \n",
    "# https://stackoverflow.com/questions/40536560/ipython-and-jupyter-autocomplete-not-working#40544668\n",
    "api = \"Tfmt6Sxyn-nfinSHUyUo3xmVDWdtwAUyh6C8Y3HTZhU\"\n",
    "\n",
    "dataset = \"UK25_8\"\n",
    "meta_data, distance_data, station_data = parse_UK_Data(\"../datasets/{}/{}.txt\".format(dataset[:-2],dataset))\n",
    "\n",
    "station_coordinates = pd.read_csv('../datasets/{}/{}_coordinates.csv'.format(dataset[:-2],dataset), encoding='utf-8')\n",
    "points_coordinate = station_coordinates[[\"lat\", \"lng\"]].to_numpy()\n",
    "\n",
    "meta_data[\"F-C Empty (l/100km)\"] = 12.5\n",
    "meta_data[\"F-C Full (l/100km)\"] = 15\n",
    "meta_data[\"Vehicle Weight\"] = 3000\n",
    "\n",
    "distance_matrix_here,time_matrix_here = load_saved_here_data(\"../datasets/{}/\".format(dataset[:-2]),dataset)\n",
    "\n",
    "distance_matrix_here = distance_matrix_here.to_numpy()\n",
    "time_matrix_here = time_matrix_here.to_numpy()\n",
    "\n",
    "routingContext = RoutingContext(distance_matrix=distance_matrix_here,time_matrix=time_matrix_here,station_coordinates=station_coordinates,station_data=station_data,meta_data=meta_data)\n",
    "startNodes = {\"UK20_1\":[0,6,10,15],\"UK25\":[0,6,10,15],\"UK50\":[0,6,10,15,21,35,40],\"UK75\":[0,6,10,15,21,35,40,60,31,68]}\n",
    "endNodes = {\"UK20_1\":[4,20,2,5],\"UK25\":[4,20,2,5,22],\"UK50\":[4,20,2,5,32,45,1],\"UK75\":[4,20,2,5,32,45,1]}\n",
    "\n"
   ]
  },
  {
   "cell_type": "code",
   "execution_count": 20,
   "metadata": {},
   "outputs": [
    {
     "data": {
      "text/plain": [
       "<matplotlib.collections.PathCollection at 0x7f124cecc640>"
      ]
     },
     "execution_count": 20,
     "metadata": {},
     "output_type": "execute_result"
    },
    {
     "data": {
      "image/png": "[encoded data removed]",
      "text/plain": [
       "<Figure size 432x288 with 1 Axes>"
      ]
     },
     "metadata": {
      "needs_background": "light"
     },
     "output_type": "display_data"
    }
   ],
   "source": [
    "plt.scatter(points_coordinate[:,1],points_coordinate[:,0])"
   ]
  },
  {
   "cell_type": "code",
   "execution_count": 21,
   "metadata": {},
   "outputs": [],
   "source": [
    "startNodeIndeces = startNodes[dataset[:-2]]\n",
    "endNodeIndeces = endNodes[dataset[:-2]]\n",
    "locationNodeIndeces = list((set(range(len(points_coordinate))) - set(startNodeIndeces)) - set(endNodeIndeces))\n",
    "\n",
    "vehicleData = {\"emptyWeights\":[3000,5500],\"maxLoads\":[3650,8500],\"fuelEmpty\":[12,22.5],\"fuelFull\":[15,27.5]}\n",
    "evaluation_amount = {\"UK25\":3000,\"UK50\":5000,\"UK75\":10000}\n",
    "\n",
    "vehicles = initializeVehicles(startIndices=startNodeIndeces,vehicleData=vehicleData,heterogeneousFleet=True)\n",
    "\n",
    "customer_demands = station_data.T.loc[\"Demand(kg)\"].astype(int).to_numpy()\n",
    "customer_demands[startNodeIndeces+endNodeIndeces] = 0\n",
    "station_data[\"Demand(kg)\"] = customer_demands\n",
    "\n",
    "translate_dict = {}\n",
    "for i,x in enumerate(endNodeIndeces):\n",
    "    translate_dict[x] = 100+i\n",
    "initial_solution = cheapest_insertion_dict(locationNodeIndeces,vehicles,endNodeIndeces,routingContext)\n",
    "\n",
    "\n",
    "\n",
    "cost_function_dict = {\"distance_matrix\":distance_matrix_here,\"time_matrix\":time_matrix_here,\n",
    "                              \"demands\":customer_demands,\"vehicle_weight\":3000,\"start_positions\":startNodeIndeces,\"meta_data\":meta_data}\n",
    "\n",
    "\n",
    "min_allowed_drivetime_hours = 0\n",
    "\n",
    "\n",
    "data_model_input_multi_objective = {'routing_context':routingContext,'vehicles':vehicles,'end_points':endNodeIndeces,'pickup_points':locationNodeIndeces,\n",
    "                                    'initial_solution':initial_solution,\n",
    "                                    'objective_amount':3,'objective_labels':['Total Fuel','Total Drive Time'],\n",
    "                                    'constraint_amount':6,'number_of_cities':routingContext.distance_matrix.shape[0],\n",
    "                                    'min_drivetime':min_allowed_drivetime_hours}\n",
    "\n",
    "data_model_input_single_objective = {'routing_context':routingContext,'vehicles':vehicles,'end_points':endNodeIndeces,'pickup_points':locationNodeIndeces,\n",
    "                                    'initial_solution':initial_solution,\n",
    "                                    'objective_amount':1,'objective_labels':['Total Fuel'],\n",
    "                                    'constraint_amount':6,'number_of_cities':routingContext.distance_matrix.shape[0],\n",
    "                                    'min_drivetime':min_allowed_drivetime_hours}\n",
    "\n",
    "problem = VRP(data_model_input_multi_objective)\n",
    "\n",
    "plot_data_storage_base = {'fitness':[], 'route_distance':[],'fuel_consumption':[],'vehicle_loads':[],'computation_times':[],'vehicle_route_time':[],'violation':[],'paths':[],'distance_to_origin':[]}\n",
    "\n",
    "\n",
    "amount_of_runs = 30\n",
    "amount_of_evaluations = evaluation_amount[dataset[:-2]]\n",
    "logpath = \"parameter_data/Multi_Objective_Results/{}\".format(dataset)\n",
    "try: \n",
    "    os.mkdir(logpath) \n",
    "except OSError as error: \n",
    "    print(error) \n",
    "mutation_arange = np.arange(0.1,1,0.2)\n",
    "crossover_arange = np.arange(0.25,0.8,0.25)\n",
    "population_size_arange = np.arange(10,40,10)\n",
    "\n",
    "\n",
    "genetic_algorithms_parameters = []\n",
    "\n",
    "for x in mutation_arange:\n",
    "    for y in crossover_arange:\n",
    "        for z in population_size_arange:\n",
    "            genetic_algorithms_parameters.append({\"mutation\":np.round(x,2),\"crossover\":np.round(y,2),\"population_size\":np.round(z,2)})\n"
   ]
  },
  {
   "cell_type": "markdown",
   "metadata": {},
   "source": [
    "# Paremeter Test "
   ]
  },
  {
   "cell_type": "markdown",
   "metadata": {},
   "source": [
    "# Simulated Annealing"
   ]
  },
  {
   "cell_type": "code",
   "execution_count": 17,
   "metadata": {
    "collapsed": true,
    "jupyter": {
     "outputs_hidden": true,
     "source_hidden": true
    }
   },
   "outputs": [
    {
     "name": "stdout",
     "output_type": "stream",
     "text": [
      "Epoch:5 of 5\n",
      "Evaluations: 5000/5000\n",
      "Params: {'mutation': 0.9}\n",
      "Best fitness: 115.55                          \n",
      "Best total fuel consumption:96.22 \n",
      "Best total drive time:11.34                          \n",
      "Computing time: 3.46s\n",
      "Average computing speed: 1443.02it/s                          \n",
      "Current Route:[['V0', 14, 9, 11, 2], ['V3', 13, 7, 23, 22], ['V2', 18, 1, 21, 24, 2], ['V4', 25, 8, 19, 20], ['V5', 3, 17, 12, 16, 4]]\n",
      "Flags: []\n",
      "Violation:0\n",
      "Vehicle Amount:5\n"
     ]
    }
   ],
   "source": [
    "from jmetal.algorithm.singleobjective import SimulatedAnnealing\n",
    "from jmetal.operator.mutation import PermutationSwapMutation,ScrambleMutation,SimpleRandomMutation\n",
    "from jmetal.util.termination_criterion import StoppingByEvaluations\n",
    "from jmetal.util.comparator import DominanceComparator\n",
    "from datetime import datetime\n",
    "parameter_list_SA = []\n",
    "for x in mutation_arange:\n",
    "    parameter_list_SA.append({\"mutation\":np.round(x,2)})\n",
    "\n",
    "\n",
    "\n",
    "parameter_data_SA = []\n",
    "computation_times_SA = []\n",
    "results_SA = []\n",
    "sa_log_data_DF = pd.DataFrame(columns=list(plot_data_storage_base.keys()))\n",
    "for index,param in enumerate(parameter_list_SA):\n",
    "    plot_data_SA = deepcopy(plot_data_storage_base)\n",
    "    for x in range(amount_of_runs):\n",
    "        problem_SA = VRPGini(data_model_input_single_objective)\n",
    "        problem_SA.name = \"SA\"\n",
    "        problem_SA.assignClosestEndPoint = True\n",
    "        max_evaluations = amount_of_evaluations\n",
    "\n",
    "        algorithm_SA = SimulatedAnnealing(problem=problem_SA,\n",
    "                                       mutation=PermutationSwapMutation(param[\"mutation\"]),\n",
    "                                       termination_criterion=StoppingByEvaluations(max_evaluations))\n",
    "       \n",
    "        performance_observer_SA = PerformanceObserver(max_iter=max_evaluations,frequency=10,params=parameter_list_SA)\n",
    "        performance_observer_SA.maxEpochs= len(parameter_list_SA) * amount_of_runs\n",
    "        performance_observer_SA.currentEpoch = (index*amount_of_runs) + x\n",
    "\n",
    "        algorithm_SA.observable.register(observer=performance_observer_SA)\n",
    "        algorithm_SA.run() \n",
    "        \n",
    "        solutions_SA = algorithm_SA.get_result()        \n",
    "        store_plot_data(plot_data_SA,performance_observer_SA,solutions_SA)\n",
    "        \n",
    "    new_Row = pd.DataFrame.from_dict(plot_data_SA,orient=\"columns\")\n",
    "    new_Row.insert(0,\"Parameters\",[list(param.items())]*amount_of_runs)#[\"Parameters\"] = param\n",
    "    new_Row.insert(0,\"Parameter Group\",[index]*amount_of_runs)\n",
    "    \n",
    "    \n",
    "    \n",
    "    sa_log_data_DF = pd.concat([sa_log_data_DF,new_Row])\n",
    "    \n",
    "    parameter_data_SA.append({\"parameters\":param,\"results\":plot_data_SA})\n",
    "\n",
    "sa_numerical_path = get_numerical_path(solutions_SA.path,vehicles)\n"
   ]
  },
  {
   "cell_type": "code",
   "execution_count": 18,
   "metadata": {
    "jupyter": {
     "source_hidden": true
    }
   },
   "outputs": [],
   "source": [
    "sa_log_data_DF.to_csv(\"{}/SA.csv\".format(logpath))"
   ]
  },
  {
   "cell_type": "markdown",
   "metadata": {},
   "source": [
    "# Genetic Algorithm"
   ]
  },
  {
   "cell_type": "code",
   "execution_count": 19,
   "metadata": {
    "collapsed": true,
    "jupyter": {
     "outputs_hidden": true,
     "source_hidden": true
    }
   },
   "outputs": [
    {
     "name": "stdout",
     "output_type": "stream",
     "text": [
      "Epoch:45 of 45\n",
      "Evaluations: 5010/5000\n",
      "Params: {'mutation': 0.9, 'crossover': 0.75, 'population_size': 30}\n",
      "Best fitness: 106.8851                          \n",
      "Best total fuel consumption:88.91 \n",
      "Best total drive time:11.06                          \n",
      "Computing time: 3.62s\n",
      "Average computing speed: 1383.85it/s                          \n",
      "Current Route:[['V0', 14, 9, 13, 7, 23, 22], ['V5', 25, 11, 1, 2], ['V4', 8, 19, 20], ['V2', 3, 24, 21, 2], ['V3', 18, 17, 12, 16, 4]]\n",
      "Flags: []\n",
      "Violation:0\n",
      "Vehicle Amount:5\n"
     ]
    }
   ],
   "source": [
    "from jmetal.algorithm.singleobjective import GeneticAlgorithm\n",
    "from jmetal.operator.crossover import PMXCrossover\n",
    "from jmetal.operator.selection import Selection\n",
    "from jmetal.operator import SBXCrossover, RandomSolutionSelection,BestSolutionSelection\n",
    "from jmetal.operator.mutation import PermutationSwapMutation\n",
    "from jmetal.util.termination_criterion import StoppingByEvaluations\n",
    "from jmetal.util.observer import ProgressBarObserver, VisualizerObserver,PrintObjectivesObserver,BasicObserver\n",
    "from jmetal.util.evaluator import MultiprocessEvaluator\n",
    "from datetime import datetime\n",
    "\n",
    "\n",
    "parameter_list_GA = genetic_algorithms_parameters\n",
    "\n",
    "GA_log_data_DF = pd.DataFrame(columns=list(plot_data_storage_base.keys()))\n",
    "\n",
    "for index,param in enumerate(parameter_list_GA):\n",
    "    plot_data_GA = deepcopy(plot_data_storage_base)\n",
    "    for x in range(amount_of_runs):\n",
    "        problem_GA = VRPGini(data_model_input_single_objective)\n",
    "        problem_GA.name = \"GA\"\n",
    "        problem_GA.assignClosestEndPoint = True\n",
    "        max_evaluations = amount_of_evaluations\n",
    "\n",
    "        algorithm_GA = GeneticAlgorithm(problem=problem_GA,\n",
    "                        population_size=param[\"population_size\"],\n",
    "                        offspring_population_size=param[\"population_size\"],\n",
    "                        mutation=PermutationSwapMutation(param[\"mutation\"]),\n",
    "                        crossover=PMXCrossover(param[\"crossover\"]),\n",
    "                        selection=BestSolutionSelection(),\n",
    "                        termination_criterion=StoppingByEvaluations(max_evaluations=max_evaluations)\n",
    "                        ,population_evaluator=MultiprocessEvaluator()\n",
    "                        )\n",
    "\n",
    "\n",
    "        performance_observer_GA = PerformanceObserver(max_iter=max_evaluations,frequency=1,params=parameter_list_GA)\n",
    "        performance_observer_GA.maxEpochs= len(parameter_list_GA) * amount_of_runs\n",
    "        performance_observer_GA.currentEpoch = (index*amount_of_runs) + x\n",
    "        algorithm_GA.observable.register(observer=performance_observer_GA)\n",
    "        start_time = datetime.now() \n",
    "        algorithm_GA.run()\n",
    "        run_time = datetime.now() - start_time\n",
    "        solutions_GA = algorithm_GA.get_result()\n",
    "        \n",
    "\n",
    "        store_plot_data(plot_data_GA,performance_observer_GA,solutions_GA)\n",
    "        \n",
    "    new_Row = pd.DataFrame.from_dict(plot_data_GA,orient=\"columns\")\n",
    "    new_Row.insert(0,\"Parameters\",[list(param.items())]*amount_of_runs)\n",
    "    new_Row.insert(0,\"Parameter Group\",[index]*amount_of_runs)\n",
    "    \n",
    "    \n",
    "    \n",
    "    GA_log_data_DF = pd.concat([GA_log_data_DF,new_Row])\n",
    "    \n",
    "\n",
    "#saveParameterData(logPath,\"GA_data_10_pop\",parameter_data_GA)"
   ]
  },
  {
   "cell_type": "code",
   "execution_count": 20,
   "metadata": {
    "jupyter": {
     "source_hidden": true
    }
   },
   "outputs": [],
   "source": [
    "GA_log_data_DF.to_csv(\"{}/GA.csv\".format(logpath))"
   ]
  },
  {
   "cell_type": "code",
   "execution_count": 17,
   "metadata": {
    "jupyter": {
     "source_hidden": true
    }
   },
   "outputs": [],
   "source": [
    "def euclidean_distance_to_origin(x):\n",
    "        return (x[0]**2 + x[1]**2)**0.5"
   ]
  },
  {
   "cell_type": "markdown",
   "metadata": {},
   "source": [
    "# NSGA-II"
   ]
  },
  {
   "cell_type": "code",
   "execution_count": 22,
   "metadata": {},
   "outputs": [
    {
     "name": "stdout",
     "output_type": "stream",
     "text": [
      "Epoch:1350 of 1350\n",
      "Evaluations: 3000/3000\n",
      "Params: {'mutation': 0.9, 'crossover': 0.75, 'population_size': 30}\n",
      "Best fitness: 117.609 --- 14.8644 --- 4.442                        \n",
      "Best total fuel consumption:117.61 \n",
      "Computing time: 4.84s                        \n",
      "Average computing speed: 620.26it/s\n",
      "Current Route:[['V1', 16, 11, 9, 12, 25, 21, 20], ['V0', 19, 14, 8, 2], ['V2', 1, 3, 13, 2], ['V4', 24, 23, 7, 17, 18, 4]]\n",
      "Flags: []                        \n",
      "Violation:0\n",
      "Vehicle amount:4\n"
     ]
    }
   ],
   "source": [
    "from jmetal.algorithm.multiobjective.nsgaiii import NSGAII, UniformReferenceDirectionFactory\n",
    "from jmetal.operator.crossover import PMXCrossover,CXCrossover\n",
    "from jmetal.operator.mutation import PermutationSwapMutation, ScrambleMutation\n",
    "from jmetal.util.termination_criterion import StoppingByEvaluations\n",
    "from jmetal.util.evaluator import MultiprocessEvaluator\n",
    "from jmetal.operator import SBXCrossover, RandomSolutionSelection,BestSolutionSelection,RankingAndCrowdingDistanceSelection\n",
    "from jmetal.operator.selection import   RouletteWheelSelection\n",
    "from jmetal.util.solution import get_non_dominated_solutions\n",
    "from datetime import datetime\n",
    "\n",
    "parameter_list_NSGAII = genetic_algorithms_parameters#[{\"mutation\":0.8,\"crossover\":0.5,\"population_size\":30}]#,{\"mutation\":0.8,\"crossover\":0.5}]\n",
    "# for x in mutation_arange:\n",
    "#     for y in crossover_arange:\n",
    "#         parameter_list_NSGAII.append({\"mutation\":round(x,2),\"crossover\":round(y,2)})\n",
    "\n",
    "\n",
    "NSGA2_log_data_DF = pd.DataFrame(columns=list(plot_data_storage_base.keys()))\n",
    "for index,param in enumerate(parameter_list_NSGAII):\n",
    "    plot_data_NSGAII = deepcopy(plot_data_storage_base)\n",
    "    for x in range(amount_of_runs):\n",
    "        problem_NSGAII = VRPGini(data_model_input_multi_objective)\n",
    "        problem_NSGAII.name = \"NSGA-II\"\n",
    "        problem_NSGAII.assignClosestEndPoint = True\n",
    "        max_evaluations = amount_of_evaluations\n",
    "        \n",
    "        algorithm_NSGAII = NSGAII(problem=problem_NSGAII,\n",
    "                                population_size=param[\"population_size\"],\n",
    "                                offspring_population_size=param[\"population_size\"],\n",
    "                                mutation=PermutationSwapMutation(param[\"mutation\"]),\n",
    "                                crossover=PMXCrossover(param[\"crossover\"]),\n",
    "                                termination_criterion=StoppingByEvaluations(max_evaluations),\n",
    "                                population_evaluator=MultiprocessEvaluator()\n",
    "                                   )\n",
    "\n",
    "        performance_observer_NSGAII = PerformanceObserver(max_iter=max_evaluations,frequency=10,params=parameter_list_NSGAII)\n",
    "        performance_observer_NSGAII.maxEpochs= len(parameter_list_NSGAII) * amount_of_runs\n",
    "        performance_observer_NSGAII.currentEpoch = (index*amount_of_runs) + x\n",
    "        \n",
    "        \n",
    "        \n",
    "        algorithm_NSGAII.observable.register(observer=performance_observer_NSGAII)\n",
    "        algorithm_NSGAII.run()\n",
    "        \n",
    "        solutions_NSGAII = algorithm_NSGAII.get_result()\n",
    "        front_NSGAII = get_non_dominated_solutions(solutions_NSGAII)\n",
    "        best_sol = sorted(front_NSGAII,key=lambda solution:np.sum(solution.objectives))[0]\n",
    "        store_plot_data(plot_data_NSGAII,performance_observer_NSGAII,best_sol)\n",
    "\n",
    "        \n",
    "    new_Row = pd.DataFrame.from_dict(plot_data_NSGAII,orient=\"columns\")\n",
    "    new_Row.insert(0,\"Parameters\",[list(param.items())]*amount_of_runs)\n",
    "    new_Row.insert(0,\"Parameter Group\",[index]*amount_of_runs)\n",
    "    \n",
    "    NSGA2_log_data_DF = pd.concat([NSGA2_log_data_DF,new_Row])\n",
    "\n"
   ]
  },
  {
   "cell_type": "code",
   "execution_count": 23,
   "metadata": {},
   "outputs": [],
   "source": [
    "NSGA2_log_data_DF.to_csv(\"{}/NSGA2.csv\".format(logpath))"
   ]
  },
  {
   "cell_type": "markdown",
   "metadata": {},
   "source": [
    "# NSGA-III"
   ]
  },
  {
   "cell_type": "code",
   "execution_count": 24,
   "metadata": {},
   "outputs": [
    {
     "name": "stdout",
     "output_type": "stream",
     "text": [
      "Epoch:1350 of 1350\n",
      "Evaluations: 3000/3000\n",
      "Params: {'mutation': 0.9, 'crossover': 0.75, 'population_size': 30}\n",
      "Best fitness: 123.4211 --- 15.1606 --- 6.0006                        \n",
      "Best total fuel consumption:123.42 \n",
      "Computing time: 5.51s                        \n",
      "Average computing speed: 544.44it/s\n",
      "Current Route:[['V1', 9, 11, 12, 19, 25, 21, 20], ['V0', 16, 8, 14, 17, 4], ['V2', 1, 3, 13, 2], ['V4', 24, 23, 7, 18, 4]]\n",
      "Flags: []                        \n",
      "Violation:0\n",
      "Vehicle amount:4\n"
     ]
    }
   ],
   "source": [
    "from jmetal.algorithm.multiobjective.nsgaiii import NSGAIII, UniformReferenceDirectionFactory,ReferenceDirectionFactory\n",
    "from jmetal.operator.crossover import PMXCrossover, CXCrossover\n",
    "from jmetal.operator.mutation import PermutationSwapMutation,ScrambleMutation\n",
    "from jmetal.util.termination_criterion import StoppingByEvaluations\n",
    "from jmetal.util.evaluator import MultiprocessEvaluator\n",
    "from jmetal.util.solution import get_non_dominated_solutions\n",
    "from jmetal.util.observer import ProgressBarObserver\n",
    "from jmetal.util.density_estimator import CrowdingDistance\n",
    "from jmetal.util.ranking import FastNonDominatedRanking\n",
    "from jmetal.util.comparator import DominanceComparator, Comparator, MultiComparator\n",
    "\n",
    "parameter_list_NSGAIII = genetic_algorithms_parameters\n",
    "\n",
    "NSGA3_log_data_DF = pd.DataFrame(columns=list(plot_data_storage_base.keys()))\n",
    "for index,param in enumerate(parameter_list_NSGAIII):\n",
    "    plot_data_NSGAIII = deepcopy(plot_data_storage_base)\n",
    "    for x in range(amount_of_runs):\n",
    "        \n",
    "        problem_NSGAIII = VRPGini(data_model_input_multi_objective)\n",
    "        problem_NSGAIII.name = \"NSGA-III\"\n",
    "        problem_NSGAIII.assignClosestEndPoint = True\n",
    "        max_evaluations = amount_of_evaluations\n",
    "        \n",
    "        algorithm_NSGAIII = NSGAIII(problem=problem_NSGAIII,\n",
    "                                population_size=param[\"population_size\"],\n",
    "                                reference_directions=UniformReferenceDirectionFactory(3, n_points=8),\n",
    "                                mutation= PermutationSwapMutation(param[\"mutation\"]),\n",
    "                                crossover=PMXCrossover(param[\"crossover\"]),\n",
    "                                termination_criterion=StoppingByEvaluations(max_evaluations)\n",
    "                                ,population_evaluator=MultiprocessEvaluator()\n",
    "                                   )\n",
    "        performance_observer_NSGAIII = PerformanceObserver(max_iter=max_evaluations,frequency=10,params=parameter_list_NSGAIII)\n",
    "        performance_observer_NSGAIII.maxEpochs= len(parameter_list_NSGAIII) * amount_of_runs\n",
    "        performance_observer_NSGAIII.currentEpoch = (index*amount_of_runs) + x\n",
    "\n",
    "        algorithm_NSGAIII.observable.register(observer=performance_observer_NSGAIII)\n",
    "        algorithm_NSGAIII.run()\n",
    "        \n",
    "        solutions_NSGAIII = algorithm_NSGAIII.get_result()\n",
    "        front_NSGAIII = get_non_dominated_solutions(solutions_NSGAIII)\n",
    "        best_sol = sorted(front_NSGAIII,key=lambda solution:np.sum(solution.objectives))[0]\n",
    "        store_plot_data(plot_data_NSGAIII,performance_observer_NSGAIII,best_sol)\n",
    "        \n",
    "        \n",
    "    new_Row = pd.DataFrame.from_dict(plot_data_NSGAIII,orient=\"columns\")\n",
    "    new_Row.insert(0,\"Parameters\",[list(param.items())]*amount_of_runs)\n",
    "    new_Row.insert(0,\"Parameter Group\",[index]*amount_of_runs)\n",
    "    \n",
    "    NSGA3_log_data_DF = pd.concat([NSGA3_log_data_DF,new_Row])\n",
    "        \n",
    "#nsga3_numerical_path = get_numerical_path(front_NSGAIII[0].path,vehicles)\n"
   ]
  },
  {
   "cell_type": "code",
   "execution_count": 25,
   "metadata": {},
   "outputs": [],
   "source": [
    "NSGA3_log_data_DF.to_csv(\"{}/NSGA3.csv\".format(logpath))"
   ]
  },
  {
   "cell_type": "markdown",
   "metadata": {},
   "source": [
    "# UNSGA-III"
   ]
  },
  {
   "cell_type": "code",
   "execution_count": 26,
   "metadata": {},
   "outputs": [
    {
     "name": "stdout",
     "output_type": "stream",
     "text": [
      "Epoch:1350 of 1350\n",
      "Evaluations: 3000/3000\n",
      "Params: {'mutation': 0.9, 'crossover': 0.75, 'population_size': 30}\n",
      "Best fitness: 110.5137 --- 13.6928 --- 21.1547                        \n",
      "Best total fuel consumption:110.51 \n",
      "Computing time: 5.2s                        \n",
      "Average computing speed: 576.65it/s\n",
      "Current Route:[['V0', 16, 11, 9, 12, 19, 25, 21, 20], ['V1', 8, 14, 2], ['V3', 1, 3, 13, 2], ['V2', 24, 23, 7, 17, 18, 4]]\n",
      "Flags: []                        \n",
      "Violation:0\n",
      "Vehicle amount:4\n"
     ]
    }
   ],
   "source": [
    "from jmetal.algorithm.multiobjective.nsgaiii import NSGAIII, UniformReferenceDirectionFactory,ReferenceDirectionFactory\n",
    "from jmetal.operator.crossover import PMXCrossover, CXCrossover\n",
    "from jmetal.operator.mutation import PermutationSwapMutation,ScrambleMutation\n",
    "from jmetal.util.termination_criterion import StoppingByEvaluations\n",
    "from jmetal.util.evaluator import MultiprocessEvaluator\n",
    "from jmetal.util.solution import get_non_dominated_solutions\n",
    "from jmetal.util.observer import ProgressBarObserver\n",
    "from jmetal.util.density_estimator import CrowdingDistance\n",
    "from jmetal.util.ranking import FastNonDominatedRanking\n",
    "from jmetal.util.comparator import DominanceComparator, Comparator, MultiComparator\n",
    "\n",
    "parameter_list_UNSGAIII = genetic_algorithms_parameters#\n",
    "UNSGA3_log_data_DF = pd.DataFrame(columns=list(plot_data_storage_base.keys()))\n",
    "for index,param in enumerate(parameter_list_UNSGAIII):\n",
    "    plot_data_UNSGAIII = deepcopy(plot_data_storage_base)\n",
    "    for x in range(amount_of_runs):\n",
    "        \n",
    "        problem_UNSGAIII = VRPGini(data_model_input_multi_objective)\n",
    "        problem_UNSGAIII.name = \"NSGA-III\"\n",
    "        problem_UNSGAIII.assignClosestEndPoint = True\n",
    "        max_evaluations = amount_of_evaluations\n",
    "        \n",
    "        algorithm_UNSGAIII = UNSGAIII(problem=problem_UNSGAIII,\n",
    "                                population_size=param[\"population_size\"],\n",
    "                                reference_directions=UniformReferenceDirectionFactory(3, n_points=8),\n",
    "                                mutation= PermutationSwapMutation(param[\"mutation\"]),\n",
    "                                crossover=PMXCrossover(param[\"crossover\"]),\n",
    "                                termination_criterion=StoppingByEvaluations(max_evaluations)\n",
    "                                ,population_evaluator=MultiprocessEvaluator()\n",
    "                                   )\n",
    "        performance_observer_UNSGAIII = PerformanceObserver(max_iter=max_evaluations,frequency=10,params=parameter_list_UNSGAIII)\n",
    "        performance_observer_UNSGAIII.maxEpochs= len(parameter_list_UNSGAIII) * amount_of_runs\n",
    "        performance_observer_UNSGAIII.currentEpoch = (index*amount_of_runs) + x\n",
    "\n",
    "        algorithm_UNSGAIII.observable.register(observer=performance_observer_UNSGAIII)\n",
    "        algorithm_UNSGAIII.run()\n",
    "        \n",
    "        solutions_UNSGAIII = algorithm_UNSGAIII.get_result()\n",
    "        front_UNSGAIII = get_non_dominated_solutions(solutions_UNSGAIII)\n",
    "        best_sol = sorted(front_UNSGAIII,key=lambda solution:np.sum(solution.objectives))[0]\n",
    "        store_plot_data(plot_data_UNSGAIII,performance_observer_UNSGAIII,best_sol)\n",
    "        \n",
    "        \n",
    "    new_Row = pd.DataFrame.from_dict(plot_data_UNSGAIII,orient=\"columns\")\n",
    "    new_Row.insert(0,\"Parameters\",[list(param.items())]*amount_of_runs)\n",
    "    new_Row.insert(0,\"Parameter Group\",[index]*amount_of_runs)\n",
    "    \n",
    "    UNSGA3_log_data_DF = pd.concat([UNSGA3_log_data_DF,new_Row])\n",
    "        \n",
    "Unsga3_numerical_path = get_numerical_path(front_UNSGAIII[0].path,vehicles)"
   ]
  },
  {
   "cell_type": "code",
   "execution_count": 27,
   "metadata": {},
   "outputs": [],
   "source": [
    "UNSGA3_log_data_DF.to_csv(\"{}/UNSGA3.csv\".format(logpath))"
   ]
  },
  {
   "cell_type": "markdown",
   "metadata": {},
   "source": [
    "# IBEA"
   ]
  },
  {
   "cell_type": "code",
   "execution_count": 28,
   "metadata": {},
   "outputs": [
    {
     "name": "stdout",
     "output_type": "stream",
     "text": [
      "Epoch:1350 of 1350\n",
      "Evaluations: 3000/3000\n",
      "Params: {'mutation': 0.9, 'crossover': 0.75, 'population_size': 30}\n",
      "Best fitness: 110.7695 --- 14.1839 --- 7.3714                        \n",
      "Best total fuel consumption:110.77 \n",
      "Computing time: 7.14s                        \n",
      "Average computing speed: 419.98it/s\n",
      "Current Route:[['V0', 11, 9, 12, 25, 21, 20], ['V1', 16, 14, 8, 19, 5], ['V2', 1, 3, 13, 2], ['V3', 24, 7, 23, 17, 18, 4]]\n",
      "Flags: []                        \n",
      "Violation:0\n",
      "Vehicle amount:4\n"
     ]
    }
   ],
   "source": [
    "from jmetal.algorithm.multiobjective.ibea import IBEA\n",
    "from jmetal.operator.crossover import PMXCrossover,CXCrossover\n",
    "from jmetal.operator.mutation import PermutationSwapMutation, ScrambleMutation\n",
    "from jmetal.util.termination_criterion import StoppingByEvaluations\n",
    "from jmetal.util.evaluator import MultiprocessEvaluator\n",
    "from jmetal.operator import SBXCrossover, RandomSolutionSelection,BestSolutionSelection,RankingAndCrowdingDistanceSelection\n",
    "from jmetal.operator.selection import   RouletteWheelSelection\n",
    "from jmetal.util.solution import get_non_dominated_solutions\n",
    "from datetime import datetime\n",
    "\n",
    "parameter_list_IBEA =genetic_algorithms_parameters\n",
    "\n",
    "IBEA_log_data_DF = pd.DataFrame(columns=list(plot_data_storage_base.keys()))\n",
    "for index,param in enumerate(parameter_list_IBEA):\n",
    "    plot_data_IBEA = deepcopy(plot_data_storage_base)\n",
    "    for x in range(amount_of_runs):\n",
    "        problem_IBEA = VRPGini(data_model_input_multi_objective)\n",
    "        problem_IBEA.name = \"IBEA\"\n",
    "        problem_IBEA.assignClosestEndPoint = True\n",
    "        max_evaluations = amount_of_evaluations\n",
    "\n",
    "        algorithm_IBEA = IBEA(problem=problem_IBEA,\n",
    "                                population_size=param[\"population_size\"],\n",
    "                                offspring_population_size=param[\"population_size\"],\n",
    "                                kappa =1,\n",
    "                                mutation=PermutationSwapMutation(param[\"mutation\"]),\n",
    "                                crossover=PMXCrossover(param[\"crossover\"]),\n",
    "                                termination_criterion=StoppingByEvaluations(max_evaluations),\n",
    "                                population_evaluator=MultiprocessEvaluator(),\n",
    "                                   )\n",
    "        \n",
    "        performance_observer_IBEA = PerformanceObserver(max_iter=max_evaluations,frequency=10,params=parameter_list_IBEA)\n",
    "        performance_observer_IBEA.maxEpochs= len(parameter_list_IBEA) * amount_of_runs\n",
    "        performance_observer_IBEA.currentEpoch = (index*amount_of_runs) + x\n",
    "         \n",
    "        \n",
    "        algorithm_IBEA.observable.register(observer=performance_observer_IBEA)\n",
    "        algorithm_IBEA.run()\n",
    "        \n",
    "        solutions_IBEA = algorithm_IBEA.get_result()\n",
    "        front_IBEA = get_non_dominated_solutions(solutions_IBEA)\n",
    "        best_sol = sorted(front_IBEA,key=lambda solution:np.sum(solution.objectives))[0]\n",
    "        store_plot_data(plot_data_IBEA,performance_observer_IBEA,best_sol)\n",
    "    \n",
    "    new_Row = pd.DataFrame.from_dict(plot_data_IBEA,orient=\"columns\")\n",
    "    new_Row.insert(0,\"Parameters\",[list(param.items())]*amount_of_runs)\n",
    "    new_Row.insert(0,\"Parameter Group\",[index]*amount_of_runs)\n",
    "    \n",
    "    IBEA_log_data_DF = pd.concat([IBEA_log_data_DF,new_Row])\n",
    "    \n",
    "    \n",
    "ibea_numerical_path = get_numerical_path(front_IBEA[0].path,vehicles)"
   ]
  },
  {
   "cell_type": "code",
   "execution_count": 29,
   "metadata": {},
   "outputs": [],
   "source": [
    "IBEA_log_data_DF.to_csv(\"{}/IBEA.csv\".format(logpath))"
   ]
  },
  {
   "cell_type": "code",
   "execution_count": 17,
   "metadata": {},
   "outputs": [],
   "source": [
    "#sa_log_data_DF.to_csv(\"{}/SA.csv\".format(logpath))"
   ]
  },
  {
   "cell_type": "code",
   "execution_count": null,
   "metadata": {},
   "outputs": [],
   "source": [
    "#sa_log_data_DF.to_csv(\"{}/SA.csv\".format(logpath))"
   ]
  },
  {
   "cell_type": "code",
   "execution_count": null,
   "metadata": {},
   "outputs": [],
   "source": []
  }
 ],
 "metadata": {
  "kernelspec": {
   "display_name": "Python 3",
   "language": "python",
   "name": "python3"
  },
  "language_info": {
   "codemirror_mode": {
    "name": "ipython",
    "version": 3
   },
   "file_extension": ".py",
   "mimetype": "text/x-python",
   "name": "python",
   "nbconvert_exporter": "python",
   "pygments_lexer": "ipython3",
   "version": "3.9.5"
  }
 },
 "nbformat": 4,
 "nbformat_minor": 4
}
