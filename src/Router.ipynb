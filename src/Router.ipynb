{
 "cells": [
  {
   "cell_type": "code",
   "execution_count": 1,
   "metadata": {},
   "outputs": [],
   "source": [
    "%config Completer.use_jedi = False"
   ]
  },
  {
   "cell_type": "code",
   "execution_count": 2,
   "metadata": {},
   "outputs": [],
   "source": [
    "from ortools.constraint_solver import routing_enums_pb2\n",
    "from ortools.constraint_solver import pywrapcp , routing_parameters_pb2\n",
    "from utils import *\n",
    "import numpy as np\n",
    "import pandas as pd\n",
    "import matplotlib.pyplot as plt\n",
    "import geoplot as gplt\n",
    "import geopandas as gpd\n",
    "from shapely.geometry import Point, Polygon\n",
    "import matplotlib.pyplot as plt\n",
    "from Route_Optimizer import RouteOptimizer\n",
    "from scipy.spatial.distance import squareform \n",
    "from scipy.spatial.distance import pdist\n",
    "# https://stackoverflow.com/questions/40536560/ipython-and-jupyter-autocomplete-not-working#40544668\n",
    "api = \"Tfmt6Sxyn-nfinSHUyUo3xmVDWdtwAUyh6C8Y3HTZhU\"\n",
    "\n",
    "dataset = \"../datasets/UK10_1.txt\"\n",
    "meta_data, distance_data, station_data = parse_UK_Data(dataset)\n",
    "\n",
    "#station_coordinates = generate_coordinates(station_data, to_csv=True, filename=dataset)\n",
    "#station_coordinates = generate_coordinates(station_data)\n",
    "station_coordinates = pd.read_csv('../datasets/UK10_1_coordinates.csv', encoding='utf-8')\n",
    "points_coordinate = station_coordinates[[\"lat\", \"long\"]].to_numpy()\n",
    "\n",
    "#UK = gpd.read_file(\"../datasets/united_kingdom_european_regions/Regions__December_2019__Boundaries_EN_BFC-shp/Regions__December_2019__Boundaries_EN_BFC.shp\")\n",
    "dbf = gpd.GeoDataFrame.from_file(u\"../datasets/united_kingdom_european_regions/european_region_region.dbf\")\n",
    "dbf = dbf.to_crs(\"EPSG:4326\")"
   ]
  },
  {
   "cell_type": "code",
   "execution_count": 3,
   "metadata": {
    "jupyter": {
     "source_hidden": true
    }
   },
   "outputs": [],
   "source": [
    "# Temporary printer function. Should be remade to be more diverse but works for now\n",
    "def print_solution(data, manager, routing, solution):\n",
    "    \"\"\"Prints solution on console.\"\"\"\n",
    "    vehicle_solutions = {}\n",
    "    route_data = {\"Distances\":[],\"Loads\":[]}\n",
    "    max_route_distance = 0\n",
    "    for vehicle_id in range(data['num_vehicles']):\n",
    "        index = routing.Start(vehicle_id)\n",
    "        vehicle_solutions[vehicle_id] = []\n",
    "        plan_output = 'Route for vehicle {}:\\n'.format(vehicle_id)\n",
    "        route_distance = 0\n",
    "        route_load = 0\n",
    "        while not routing.IsEnd(index):\n",
    "            if index > distance_data.shape[0]-1:\n",
    "                vehicle_solutions[vehicle_id].append(0)\n",
    "            else:\n",
    "                vehicle_solutions[vehicle_id].append(index)\n",
    "            plan_output += ' {} -> '.format(manager.IndexToNode(index))\n",
    "            previous_index = index\n",
    "            index = solution.Value(routing.NextVar(index))\n",
    "            \n",
    "            previos_id = previous_index if previous_index <= 10 else 0\n",
    "            idx = index if index <= 10 else 0\n",
    "            route_distance += data['distance_matrix'][previos_id][idx]\n",
    "            route_load += data['demands'][idx]\n",
    "            \n",
    "\n",
    "        plan_output += '{}\\n'.format(manager.IndexToNode(index))\n",
    "        plan_output += 'Distance of the route: {}m\\n'.format(route_distance)\n",
    "        plan_output += 'Load of the route: {}kg\\n'.format(route_load)\n",
    "        print(plan_output)\n",
    "        max_route_distance = max(route_distance, max_route_distance)\n",
    "        route_data[\"Distances\"].append(route_distance)\n",
    "        route_data[\"Loads\"].append(route_load)\n",
    "    print('Maximum of the route distances: {}m'.format(max_route_distance))\n",
    "    print('Sum of the route distances: {}m'.format(sum(route_data[\"Distances\"])))"
   ]
  },
  {
   "cell_type": "markdown",
   "metadata": {},
   "source": [
    "## Construct data model parameters"
   ]
  },
  {
   "cell_type": "code",
   "execution_count": 4,
   "metadata": {},
   "outputs": [],
   "source": [
    "\n",
    "distance_matrix = make_open_problem(squareform(pdist(points_coordinate)))\n",
    "\n",
    "vehicle_amount = 2\n",
    "\n",
    "customer_demands = station_data.T.loc[\"Demand(kg)\"].astype(int).to_numpy().tolist()\n",
    "\n",
    "vehicle_capacities = [meta_data['Max Load(kg)'].astype(int)[0] for x in range(vehicle_amount)]\n",
    "\n",
    "depot = 0\n",
    "\n",
    "data_model_input = {'distance_matrix':distance_matrix,'vehicle_amount':vehicle_amount,\n",
    "                   'customer_demands':customer_demands,'vehicle_capacities':vehicle_capacities,'depot':depot}\n"
   ]
  },
  {
   "cell_type": "markdown",
   "metadata": {},
   "source": [
    "## Create data model"
   ]
  },
  {
   "cell_type": "code",
   "execution_count": 5,
   "metadata": {},
   "outputs": [],
   "source": [
    "\n",
    "data = create_data_model_depot(**data_model_input)\n"
   ]
  },
  {
   "cell_type": "markdown",
   "metadata": {},
   "source": [
    "## Construct Simulated Annealing class"
   ]
  },
  {
   "cell_type": "code",
   "execution_count": 6,
   "metadata": {},
   "outputs": [],
   "source": [
    "class Optimizer_SA(RouteOptimizer):\n",
    "    \n",
    "    def __init__(self,data={}):\n",
    "        super().__init__(data)\n",
    "        \n",
    "    def init_search_parameters(self):\n",
    "        search_parameters = pywrapcp.DefaultRoutingSearchParameters()\n",
    "        search_parameters.log_search = True\n",
    "        search_parameters.time_limit.seconds = 1\n",
    "        search_parameters.first_solution_strategy = (\n",
    "            routing_enums_pb2.FirstSolutionStrategy.LOCAL_CHEAPEST_INSERTION)\n",
    "        search_parameters.local_search_metaheuristic =(routing_enums_pb2.LocalSearchMetaheuristic.SIMULATED_ANNEALING)\n",
    "        return search_parameters"
   ]
  },
  {
   "cell_type": "markdown",
   "metadata": {},
   "source": [
    "## Set up constraints"
   ]
  },
  {
   "cell_type": "code",
   "execution_count": 7,
   "metadata": {},
   "outputs": [],
   "source": [
    "\n",
    "def demand_callback(from_index):\n",
    "    \"\"\"Returns the demand of the node.\"\"\"\n",
    "    # Convert from routing variable Index to demands NodeIndex.\n",
    "    from_node = manager.IndexToNode(from_index)\n",
    "    return data['demands'][from_node]\n",
    "\n",
    "# Create and register a transit callback.\n",
    "def distance_callback(from_index, to_index):\n",
    "    \"\"\"Returns the distance between the two nodes.\"\"\"\n",
    "    # Convert from routing variable Index to distance matrix NodeIndex.\n",
    "    from_node = manager.IndexToNode(from_index)\n",
    "    to_node = manager.IndexToNode(to_index)\n",
    "    return data['distance_matrix'][from_node][to_node]\n"
   ]
  },
  {
   "cell_type": "markdown",
   "metadata": {},
   "source": [
    "## Add constraints and weights. This should be turned in to functions in the future"
   ]
  },
  {
   "cell_type": "code",
   "execution_count": 8,
   "metadata": {},
   "outputs": [],
   "source": [
    "# Create the routing index manager.\n",
    "manager = create_routing_index_manager(data)\n",
    "\n",
    "# Create Routing Model.\n",
    "routing = pywrapcp.RoutingModel(manager)\n",
    "\n",
    "\n",
    "# ========== Add capacity cost & constraint to routing model ==========\n",
    "demand_callback_index = routing.RegisterUnaryTransitCallback(demand_callback)\n",
    "dimension_name = 'Capacity'\n",
    "routing.AddDimensionWithVehicleCapacity(\n",
    "    demand_callback_index,\n",
    "    0,  # null capacity slack\n",
    "    data['vehicle_capacities'],  # vehicle maximum capacities\n",
    "    True,  # start cumul to zero\n",
    "    dimension_name)\n",
    "distance_dimension = routing.GetDimensionOrDie(dimension_name)\n",
    "distance_dimension.SetGlobalSpanCostCoefficient(1)\n",
    "\n",
    "# =====================================================================\n",
    "\n",
    "\n",
    "# ========== Add distance cost & constraint to routing model ==========\n",
    "transit_callback_index = routing.RegisterTransitCallback(distance_callback)\n",
    "# Define cost of each arc.\n",
    "routing.SetArcCostEvaluatorOfAllVehicles(transit_callback_index)\n",
    "\n",
    "# Add Distance constraint.\n",
    "dimension_name = 'Distance'\n",
    "routing.AddDimension(\n",
    "    transit_callback_index,\n",
    "    0,  # no slack\n",
    "    2500000,  # vehicle maximum travel distance\n",
    "    True,  # start cumul to zero\n",
    "    dimension_name)\n",
    "distance_dimension = routing.GetDimensionOrDie(dimension_name)\n",
    "# Set distance weight to a high number since using coordinates\n",
    "distance_dimension.SetGlobalSpanCostCoefficient(10000)\n",
    "# =====================================================================\n",
    "\n",
    "# Create callback object for storing cost values\n",
    "callback = Callback(routing)\n"
   ]
  },
  {
   "cell_type": "markdown",
   "metadata": {},
   "source": [
    "## Create optimizer and set parameters"
   ]
  },
  {
   "cell_type": "code",
   "execution_count": 9,
   "metadata": {},
   "outputs": [],
   "source": [
    "optimizerSA = Optimizer_SA(data)\n",
    "\n",
    "optimizerSA.set_manager(manager)\n",
    "optimizerSA.set_routing(routing)\n",
    "optimizerSA.set_solution_callback(callback)"
   ]
  },
  {
   "cell_type": "markdown",
   "metadata": {},
   "source": [
    "## Solve problem"
   ]
  },
  {
   "cell_type": "code",
   "execution_count": 10,
   "metadata": {},
   "outputs": [],
   "source": [
    "optimizerSA.solve_with_parameters()"
   ]
  },
  {
   "cell_type": "markdown",
   "metadata": {},
   "source": [
    "## Plot learning curve"
   ]
  },
  {
   "cell_type": "code",
   "execution_count": 11,
   "metadata": {},
   "outputs": [
    {
     "data": {
      "text/plain": [
       "[<matplotlib.lines.Line2D at 0x7f2b6a27ef40>]"
      ]
     },
     "execution_count": 11,
     "metadata": {},
     "output_type": "execute_result"
    },
    {
     "data": {
      "image/png": "[encoded data removed]",
      "text/plain": [
       "<Figure size 432x288 with 1 Axes>"
      ]
     },
     "metadata": {
      "needs_background": "light"
     },
     "output_type": "display_data"
    }
   ],
   "source": [
    "plt.plot(optimizerSA.solutionCallback.costs)"
   ]
  },
  {
   "cell_type": "code",
   "execution_count": 12,
   "metadata": {},
   "outputs": [
    {
     "data": {
      "text/plain": [
       "(11, 2)"
      ]
     },
     "execution_count": 12,
     "metadata": {},
     "output_type": "execute_result"
    }
   ],
   "source": [
    "points_coordinate.shape"
   ]
  },
  {
   "cell_type": "markdown",
   "metadata": {},
   "source": [
    "## Plot generated routes on map"
   ]
  },
  {
   "cell_type": "code",
   "execution_count": 13,
   "metadata": {},
   "outputs": [
    {
     "ename": "NameError",
     "evalue": "name 'plot_routes' is not defined",
     "output_type": "error",
     "traceback": [
      "\u001b[0;31m---------------------------------------------------------------------------\u001b[0m",
      "\u001b[0;31mNameError\u001b[0m                                 Traceback (most recent call last)",
      "\u001b[0;32m<ipython-input-13-c0bf46b1ecee>\u001b[0m in \u001b[0;36m<module>\u001b[0;34m\u001b[0m\n\u001b[0;32m----> 1\u001b[0;31m \u001b[0mplot_routes\u001b[0m\u001b[0;34m(\u001b[0m\u001b[0moptimizerSA\u001b[0m\u001b[0;34m.\u001b[0m\u001b[0mget_routes\u001b[0m\u001b[0;34m(\u001b[0m\u001b[0;34m)\u001b[0m\u001b[0;34m,\u001b[0m\u001b[0mpoints_coordinate\u001b[0m\u001b[0;34m,\u001b[0m\u001b[0mdbf\u001b[0m\u001b[0;34m,\u001b[0m\u001b[0mstation_ids\u001b[0m \u001b[0;34m=\u001b[0m \u001b[0;32mFalse\u001b[0m\u001b[0;34m,\u001b[0m \u001b[0mhere_api\u001b[0m\u001b[0;34m=\u001b[0m\u001b[0;32mTrue\u001b[0m\u001b[0;34m,\u001b[0m \u001b[0mapi_key\u001b[0m\u001b[0;34m=\u001b[0m\u001b[0mapi\u001b[0m\u001b[0;34m)\u001b[0m\u001b[0;34m\u001b[0m\u001b[0;34m\u001b[0m\u001b[0m\n\u001b[0m",
      "\u001b[0;31mNameError\u001b[0m: name 'plot_routes' is not defined"
     ]
    }
   ],
   "source": [
    "plot_routes(optimizerSA.get_routes(),points_coordinate,dbf,station_ids = False, here_api=True, api_key=api)"
   ]
  },
  {
   "cell_type": "code",
   "execution_count": null,
   "metadata": {},
   "outputs": [],
   "source": []
  }
 ],
 "metadata": {
  "kernelspec": {
   "display_name": "Python 3",
   "language": "python",
   "name": "python3"
  },
  "language_info": {
   "codemirror_mode": {
    "name": "ipython",
    "version": 3
   },
   "file_extension": ".py",
   "mimetype": "text/x-python",
   "name": "python",
   "nbconvert_exporter": "python",
   "pygments_lexer": "ipython3",
   "version": "3.9.1"
  }
 },
 "nbformat": 4,
 "nbformat_minor": 4
}
