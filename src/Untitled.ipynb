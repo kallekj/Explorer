{
 "cells": [
  {
   "cell_type": "code",
   "execution_count": 8,
   "metadata": {},
   "outputs": [
    {
     "name": "stdout",
     "output_type": "stream",
     "text": [
      "151\n"
     ]
    }
   ],
   "source": [
    "import numpy as np\n",
    "import pandas as pd\n",
    "from sko.GA import GA_TSP\n",
    "from utils import parse_UK_Data\n",
    "import matplotlib.pyplot as plt\n",
    "from scipy import spatial\n",
    "dataset_path = \"../datasets/UK150_20.txt\"\n",
    "\n",
    "meta_data, distance_data, station_data = parse_UK_Data(dataset_path)\n",
    "print(len(station_data))"
   ]
  },
  {
   "cell_type": "code",
   "execution_count": 9,
   "metadata": {},
   "outputs": [],
   "source": [
    "num_points = 50\n",
    "points_coordinate = np.random.rand(num_points, 2)  # generate coordinate of points\n",
    "distance_matrix = spatial.distance.cdist(points_coordinate, points_coordinate, metric='euclidean')\n",
    "\n",
    "#distance_matrix = distance_data.to_numpy()\n",
    "\n",
    "def cal_total_distance(routine):\n",
    "    '''The objective function. input routine, return total distance.\n",
    "    cal_total_distance(np.arange(num_points))\n",
    "    '''\n",
    "    num_points, = routine.shape\n",
    "    return sum([distance_matrix[routine[i % num_points], routine[(i + 1) % num_points]] for i in range(num_points)])"
   ]
  },
  {
   "cell_type": "code",
   "execution_count": 10,
   "metadata": {},
   "outputs": [],
   "source": [
    "\n",
    "ga_tsp = GA_TSP(func=cal_total_distance, n_dim=11, size_pop=50, max_iter=500, prob_mut=1)\n",
    "best_points, best_distance = ga_tsp.run()"
   ]
  },
  {
   "cell_type": "code",
   "execution_count": 11,
   "metadata": {},
   "outputs": [
    {
     "data": {
      "image/png": "[encoded data removed]",
      "text/plain": [
       "<Figure size 432x288 with 2 Axes>"
      ]
     },
     "metadata": {
      "needs_background": "light"
     },
     "output_type": "display_data"
    }
   ],
   "source": [
    "fig, ax = plt.subplots(1, 2)\n",
    "best_points_ = np.concatenate([best_points, [best_points[0]]])\n",
    "best_points_coordinate = points_coordinate[best_points_, :]\n",
    "ax[0].plot(best_points_coordinate[:, 0], best_points_coordinate[:, 1], 'o-r')\n",
    "ax[1].plot(ga_tsp.generation_best_Y)\n",
    "plt.show()"
   ]
  },
  {
   "cell_type": "code",
   "execution_count": 43,
   "metadata": {},
   "outputs": [
    {
     "name": "stdout",
     "output_type": "stream",
     "text": [
      "Halmstad Återvinningscentral, Olofsdalsvägen, Kristineberg, Halmstad, Halmstads kommun, Hallands län, 302 41, Sverige\n",
      "(56.6759572, 12.7972323)\n"
     ]
    }
   ],
   "source": [
    "from geopy.geocoders import Nominatim\n",
    "address='{}'.format(\"Halmstad Återvinningscentral\")\n",
    "geolocator = Nominatim(user_agent=\"exjobbHalmstad\")\n",
    "location = geolocator.geocode(address)\n",
    "print(location.address)\n",
    "print((location.latitude, location.longitude))"
   ]
  },
  {
   "cell_type": "code",
   "execution_count": null,
   "metadata": {},
   "outputs": [],
   "source": []
  }
 ],
 "metadata": {
  "kernelspec": {
   "display_name": "Python 3",
   "language": "python",
   "name": "python3"
  },
  "language_info": {
   "codemirror_mode": {
    "name": "ipython",
    "version": 3
   },
   "file_extension": ".py",
   "mimetype": "text/x-python",
   "name": "python",
   "nbconvert_exporter": "python",
   "pygments_lexer": "ipython3",
   "version": "3.9.1"
  }
 },
 "nbformat": 4,
 "nbformat_minor": 4
}
