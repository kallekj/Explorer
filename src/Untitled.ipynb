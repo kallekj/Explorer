{
 "cells": [
  {
   "cell_type": "code",
   "execution_count": 1,
   "metadata": {},
   "outputs": [],
   "source": [
    "%config Completer.use_jedi = False"
   ]
  },
  {
   "cell_type": "code",
   "execution_count": 2,
   "metadata": {},
   "outputs": [],
   "source": [
    "import math\n",
    "import random\n",
    "import re\n",
    "\n",
    "from jmetal.core.problem import PermutationProblem\n",
    "from jmetal.core.solution import PermutationSolution\n",
    "\n",
    "class VRP(PermutationProblem):\n",
    "    \n",
    "\n",
    "    def __init__(self, instance: str = None):\n",
    "        super(VRP, self).__init__()\n",
    "\n",
    "        distance_matrix, demand, number_of_cities, max_no_of_vehicle ,vehicle_capacity= self.__read_from_file(instance)\n",
    "\n",
    "        self.distance_matrix = distance_matrix\n",
    "        self.demand = demand\n",
    "        self.max_no_of_vehicle = max_no_of_vehicle\n",
    "        self.vehicle_capacity=vehicle_capacity\n",
    "        self.number_of_objectives = 1\n",
    "        self.obj_directions = [self.MINIMIZE]#,self.MINIMIZE]\n",
    "        self.number_of_variables = number_of_cities\n",
    "        self.obj_labels = ['no of vehicles', 'distance']\n",
    "        self.number_of_constraints = 0\n",
    "        self.test = 0\n",
    "\n",
    "    def __read_from_file(self, filename: str):\n",
    "        file=open(filename) \n",
    "        xcoordinate=[]\n",
    "        ycoordinate=[]\n",
    "        demand=[]\n",
    "        while True:\n",
    "            try:\n",
    "                line=file.readline().split()\n",
    "                if(line!=[]):\n",
    "                    if((len(line)==2)&(line[0].isdigit())):\n",
    "                        max_no_of_vehicle=int(line[0])              \n",
    "                        vehicle_capacity=int(line[1])\n",
    "                \n",
    "                    elif((len(line)>=2)&(line[0].isdigit())):\n",
    "                        xcoordinate.append(int(line[1]))\n",
    "                        ycoordinate.append(int(line[2]))\n",
    "                        demand.append(int(line[3]))\n",
    "                if((xcoordinate!=[])&(len(line)==0)):\n",
    "                            break\n",
    "            except EOFError:\n",
    "                pass\n",
    "        file.close()\n",
    "        #print(max_no_of_vehicle)\n",
    "        #print(vehicle_capacity)\n",
    "        #print(xcoordinate)\n",
    "       # print(ycoordinate)\n",
    "        #print(demand)\n",
    "        dimension=len(demand)-1\n",
    "       # print (dimension)\n",
    "        matrix = [[-1] * (dimension+1) for _ in range(dimension+1)]\n",
    "        for k in range(dimension+1):\n",
    "            for j in range(dimension+1):\n",
    "                dist = math.sqrt((xcoordinate[k]-xcoordinate[j]) ** 2 + (ycoordinate[k]-ycoordinate[j]) ** 2)\n",
    "                dist = round(dist)\n",
    "                matrix[k][j] = dist\n",
    "        \n",
    "        #print(matrix)\n",
    "\n",
    "        return matrix,demand, dimension , max_no_of_vehicle,vehicle_capacity\n",
    "\n",
    "    def evaluate(self, solution: PermutationSolution) -> PermutationSolution:\n",
    "        fitness = 0\n",
    "        nov=1\n",
    "        perm=solution.variables\n",
    "        crm=[0]\n",
    "        cap=0\n",
    "        dem=self.demand\n",
    "        capacity=self.vehicle_capacity\n",
    "        for i in perm:\n",
    "            s=cap+dem[i+1]\n",
    "            if(s <=capacity):\n",
    "                crm.append(i+1)\n",
    "                cap =s\n",
    "            else:\n",
    "                crm.append(0)\n",
    "                nov+=1\n",
    "                cap=0\n",
    "                crm.append(i+1)\n",
    "        crm.append(0)\n",
    "        for i in range(len(crm)-1):\n",
    "            x = crm[i]\n",
    "            y = crm[i + 1]\n",
    "            fitness += self.distance_matrix[x][y]\n",
    "        solution.objectives[0] = fitness#nov\n",
    "        #solution.objectives[1] =fitness\n",
    "        return solution\n",
    "    def get_route(self, solution: PermutationSolution) -> PermutationSolution:\n",
    "        perm=solution.variables\n",
    "        crm=[0]\n",
    "        cap=0\n",
    "        j=0\n",
    "        dem=self.demand\n",
    "        capacity=self.vehicle_capacity\n",
    "        for i in perm:\n",
    "            s=cap+dem[i+1]\n",
    "            if(s <=capacity):\n",
    "                crm.append(i+1)\n",
    "                cap =s\n",
    "            else:\n",
    "                crm.append(0)\n",
    "                \n",
    "                cap=0\n",
    "                crm.append(i+1)\n",
    "        crm.append(0)\n",
    "        for i in range(len(crm)-1):\n",
    "            if(crm[i]==0):\n",
    "                j=j+1\n",
    "                print(\"route \",j,\"->\",\"Depot\", end=' ')\n",
    "                \n",
    "            else:\n",
    "                print(\"city\",crm[i], end=' ')\n",
    "                if(crm[i+1]==0):\n",
    "                    print(\"Depot\")\n",
    "        return  \n",
    "         \n",
    "\n",
    "    def create_solution(self) -> PermutationSolution:\n",
    "        new_solution = PermutationSolution(number_of_variables=self.number_of_variables,number_of_objectives=self.number_of_objectives)\n",
    "        new_solution.variables = random.sample(range(self.number_of_variables), k=self.number_of_variables)\n",
    "        #print(new_solution.variables)\n",
    "        return new_solution\n",
    "\n",
    "\n",
    "    def number_of_cities(self):\n",
    "        return self.number_of_variables\n",
    "\n",
    "    def get_name(self):\n",
    "        return 'VRP'"
   ]
  },
  {
   "cell_type": "code",
   "execution_count": 12,
   "metadata": {},
   "outputs": [],
   "source": [
    "from jmetal.algorithm.multiobjective.nsgaii import NSGAII\n",
    "#from jmetal.algorithm.multiobjective.\n",
    "from jmetal.operator.crossover import PMXCrossover\n",
    "from jmetal.operator.mutation import PermutationSwapMutation\n",
    "from jmetal.util.termination_criterion import StoppingByEvaluations\n",
    "\n",
    "problem = VRP('./Input.txt')\n",
    "max_evaluations = 1000\n",
    "algorithm = NSGAII(problem=problem,population_size=100,\n",
    "                   offspring_population_size=100,\n",
    "                   mutation=PermutationSwapMutation(0.1),\n",
    "                   crossover=PMXCrossover(0.9),\n",
    "                   termination_criterion=StoppingByEvaluations(max_evaluations)\n",
    ")\n",
    "algorithm.run()\n",
    "solutions = algorithm.get_result()"
   ]
  },
  {
   "cell_type": "code",
   "execution_count": 13,
   "metadata": {},
   "outputs": [],
   "source": [
    "distances = []\n",
    "for sol in solutions:\n",
    "    distances.append(sol.objectives[0])\n"
   ]
  },
  {
   "cell_type": "code",
   "execution_count": 15,
   "metadata": {},
   "outputs": [
    {
     "data": {
      "text/plain": [
       "[<matplotlib.lines.Line2D at 0x7f141da6b370>]"
      ]
     },
     "execution_count": 15,
     "metadata": {},
     "output_type": "execute_result"
    },
    {
     "data": {
      "image/png": "[encoded data removed]",
      "text/plain": [
       "<Figure size 432x288 with 1 Axes>"
      ]
     },
     "metadata": {
      "needs_background": "light"
     },
     "output_type": "display_data"
    }
   ],
   "source": [
    "\n",
    "from jmetal.lab.visualization.plotting import Plot\n",
    "from jmetal.util.solution import get_non_dominated_solutions\n",
    "import matplotlib.pyplot as plt\n",
    "front = get_non_dominated_solutions(solutions)\n",
    "\n",
    "#plot_front = Plot('Pareto front approximation')#, axis_labels=[ 'Distance'])\n",
    "#plot_front.plot(distances, label='NSGAII-VRP')\n",
    "plt.plot(distances)"
   ]
  },
  {
   "cell_type": "code",
   "execution_count": 16,
   "metadata": {},
   "outputs": [
    {
     "data": {
      "text/plain": [
       "[437]"
      ]
     },
     "execution_count": 16,
     "metadata": {},
     "output_type": "execute_result"
    }
   ],
   "source": [
    "k = solutions[1]\n",
    "k.objectives"
   ]
  },
  {
   "cell_type": "code",
   "execution_count": 18,
   "metadata": {},
   "outputs": [
    {
     "name": "stdout",
     "output_type": "stream",
     "text": [
      "route  1 -> Depot city 23 city 24 city 11 city 7 city 9 Depot\n",
      "route  2 -> Depot city 12 city 15 city 13 Depot\n",
      "route  3 -> Depot city 18 city 14 city 19 city 16 city 5 Depot\n",
      "route  4 -> Depot city 1 city 6 city 4 city 2 city 3 Depot\n",
      "route  5 -> Depot city 20 city 21 city 25 Depot\n",
      "route  6 -> Depot city 22 city 8 city 17 city 10 Depot\n"
     ]
    }
   ],
   "source": [
    "for i in range(len(front)):\n",
    "    #print(\"Solution\" ,i+1,\"no of vehicle=\",front[i].objectives[0],\"distance=\",front[i].objectives[1])  \n",
    "    problem.get_route(front[i])"
   ]
  },
  {
   "cell_type": "code",
   "execution_count": 18,
   "metadata": {},
   "outputs": [
    {
     "name": "stdout",
     "output_type": "stream",
     "text": [
      "Cities:  100\n",
      "Algorithm: Genetic algorithm\n",
      "Problem: Symmetric TSP\n",
      "Solution: [23, 25, 68, 60, 85, 54, 19, 56, 81, 94, 36, 12, 24, 37, 71, 31, 10, 5, 78, 93, 17, 15, 3, 87, 92, 61, 8, 72, 49, 4, 95, 77, 70, 38, 32, 51, 82, 2, 1, 16, 14, 98, 35, 28, 45, 42, 22, 90, 46, 18, 30, 55, 89, 62, 0, 84, 6, 97, 39, 53, 50, 13, 99, 40, 29, 80, 66, 57, 26, 86, 63, 33, 67, 43, 27, 75, 47, 34, 76, 69, 52, 48, 65, 21, 20, 9, 44, 58, 73, 83, 59, 11, 41, 96, 74, 64, 79, 88, 91, 7]\n",
      "Fitness: 83338\n",
      "Computing time: 5.068510055541992\n"
     ]
    }
   ],
   "source": [
    "from jmetal.algorithm.singleobjective.genetic_algorithm import GeneticAlgorithm\n",
    "from jmetal.operator import BinaryTournamentSelection\n",
    "from jmetal.operator.crossover import PMXCrossover\n",
    "from jmetal.operator.mutation import PermutationSwapMutation\n",
    "from jmetal.problem.singleobjective.tsp import TSP\n",
    "from jmetal.util.comparator import MultiComparator\n",
    "from jmetal.util.density_estimator import CrowdingDistance\n",
    "from jmetal.util.ranking import FastNonDominatedRanking\n",
    "from jmetal.util.termination_criterion import StoppingByEvaluations\n",
    "\n",
    "if __name__ == '__main__':\n",
    "    problem = TSP(instance='kroA100.tsp')\n",
    "\n",
    "    print('Cities: ', problem.number_of_variables)\n",
    "\n",
    "    algorithm = GeneticAlgorithm(\n",
    "        problem=problem,\n",
    "        population_size=100,\n",
    "        offspring_population_size=100,\n",
    "        mutation=PermutationSwapMutation(1.0 / problem.number_of_variables),\n",
    "        crossover=PMXCrossover(0.8),\n",
    "        selection=BinaryTournamentSelection(\n",
    "            MultiComparator([FastNonDominatedRanking.get_comparator(),\n",
    "                             CrowdingDistance.get_comparator()])),\n",
    "        termination_criterion=StoppingByEvaluations(max_evaluations=25000)\n",
    "    )\n",
    "\n",
    "    algorithm.run()\n",
    "    result = algorithm.get_result()\n",
    "    \n",
    "    print('Algorithm: {}'.format(algorithm.get_name()))\n",
    "    print('Problem: {}'.format(problem.get_name()))\n",
    "    print('Solution: {}'.format(result.variables))\n",
    "    print('Fitness: {}'.format(result.objectives[0]))\n",
    "    print('Computing time: {}'.format(algorithm.total_computing_time))"
   ]
  },
  {
   "cell_type": "code",
   "execution_count": 2,
   "metadata": {},
   "outputs": [
    {
     "name": "stdout",
     "output_type": "stream",
     "text": [
      "[[1. 0. 0.]\n",
      " [0. 0. 1.]]\n"
     ]
    },
    {
     "name": "stderr",
     "output_type": "stream",
     "text": [
      "/home/andreash/Documents/School/Master_Thesis/Explorer/env/lib/python3.8/site-packages/sklearn/cluster/_kmeans.py:984: RuntimeWarning: Explicit initial center position passed: performing only one init in KMeans instead of n_init=10.\n",
      "  self._check_params(X)\n"
     ]
    },
    {
     "data": {
      "text/plain": [
       "array([0, 0, 1, 1, 0], dtype=int32)"
      ]
     },
     "execution_count": 2,
     "metadata": {},
     "output_type": "execute_result"
    }
   ],
   "source": [
    "import numpy as np\n",
    "from sklearn.cluster import KMeans\n",
    "from scipy.spatial import distance_matrix\n",
    "\n",
    "# 5 datapoints with 3 features\n",
    "data = [[1, 0, 0],\n",
    "        [1, 0.2, 0],\n",
    "        [0, 0, 1],\n",
    "        [0, 0, 0.9],\n",
    "        [1, 0, 0.1]]\n",
    "\n",
    "X = np.array(data)\n",
    "\n",
    "distance_matrix(X,X)\n",
    "\n",
    "centroid_idx = [0,2] # let data point 0 and 2 be our centroids\n",
    "centroids = X[centroid_idx,:]\n",
    "print(centroids) # [[1. 0. 0.]\n",
    "                 # [0. 0. 1.]]\n",
    "\n",
    "kmeans = KMeans(n_clusters=2, init=centroids, max_iter=1) # just run one k-Means iteration so that the centroids are not updated\n",
    "\n",
    "kmeans.fit(X)\n",
    "kmeans.labels_\n"
   ]
  },
  {
   "cell_type": "code",
   "execution_count": null,
   "metadata": {},
   "outputs": [],
   "source": []
  }
 ],
 "metadata": {
  "kernelspec": {
   "display_name": "Python 3",
   "language": "python",
   "name": "python3"
  },
  "language_info": {
   "codemirror_mode": {
    "name": "ipython",
    "version": 3
   },
   "file_extension": ".py",
   "mimetype": "text/x-python",
   "name": "python",
   "nbconvert_exporter": "python",
   "pygments_lexer": "ipython3",
   "version": "3.8.7"
  }
 },
 "nbformat": 4,
 "nbformat_minor": 4
}
