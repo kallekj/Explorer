{
 "cells": [
  {
   "cell_type": "code",
   "execution_count": 45,
   "metadata": {},
   "outputs": [],
   "source": [
    "%config Completer.use_jedi = False"
   ]
  },
  {
   "cell_type": "code",
   "execution_count": 50,
   "metadata": {},
   "outputs": [],
   "source": [
    "from utils import *\n",
    "import numpy as np\n",
    "import pandas as pd\n",
    "from datetime import datetime\n",
    "import matplotlib.pyplot as plt\n",
    "import geoplot as gplt\n",
    "import geopandas as gpd\n",
    "from shapely.geometry import Point, Polygon\n",
    "import matplotlib.pyplot as plt\n",
    "from scipy.spatial.distance import squareform \n",
    "from scipy.spatial.distance import pdist\n",
    "# https://stackoverflow.com/questions/40536560/ipython-and-jupyter-autocomplete-not-working#40544668\n",
    "api = \"Tfmt6Sxyn-nfinSHUyUo3xmVDWdtwAUyh6C8Y3HTZhU\"\n",
    "\n",
    "dataset = \"../datasets/UK20_1.txt\"\n",
    "meta_data, distance_data, station_data = parse_UK_Data(dataset)\n",
    "\n",
    "#station_coordinates = generate_coordinates(station_data, to_csv=True, filename=dataset)\n",
    "location_context = \"United Kingdom\"\n",
    "#station_coordinates = generate_coordinates(station_data,location_context,to_csv=True,filename=dataset)\n",
    "station_coordinates = pd.read_csv('../datasets/UK20_1_coordinates.csv', encoding='utf-8')\n",
    "points_coordinate = station_coordinates[[\"lat\", \"lng\"]].to_numpy()\n",
    "\n",
    "#UK = gpd.read_file(\"../datasets/united_kingdom_european_regions/Regions__December_2019__Boundaries_EN_BFC-shp/Regions__December_2019__Boundaries_EN_BFC.shp\")\n",
    "dbf = gpd.GeoDataFrame.from_file(u\"../datasets/united_kingdom_european_regions/european_region_region.dbf\")\n",
    "dbf = dbf.to_crs(\"EPSG:4326\")"
   ]
  },
  {
   "cell_type": "code",
   "execution_count": 51,
   "metadata": {},
   "outputs": [],
   "source": [
    "meta_data[\"F-C Empty (l/100km)\"] = 12.5\n",
    "meta_data[\"F-C Full (l/100km)\"] = 15\n",
    "distance_matrix_here,time_matrix_here,_ = generate_large_distance_matrix(points_coordinate,api)"
   ]
  },
  {
   "cell_type": "code",
   "execution_count": 57,
   "metadata": {},
   "outputs": [],
   "source": [
    "starts =[0,4,15]\n",
    "vehicle_amount = len(starts)\n",
    "\n",
    "customer_demands = station_data.T.loc[\"Demand(kg)\"].astype(int).to_numpy()\n",
    "customer_demands[starts] = 0\n",
    "#customer_demands[ends] = 0\n",
    "customer_demands = customer_demands.tolist()\n",
    "\n",
    "vehicle_capacities = [meta_data['Max Load(kg)'].astype(int)[0] for x in range(vehicle_amount)]\n",
    "\n",
    "\n",
    "distance_matrix = distance_matrix_here#make_open_problem(distance_matrix_here,starts)\n",
    "\n",
    "#distance_matrix = make_open_problem(squareform(pdist(points_coordinate)),starts)\n",
    "\n",
    "#depot = 0\n",
    "\n",
    "\n",
    "data_model_input = {'distance_matrix':distance_matrix,'time_matrix':time_matrix_here,'vehicle_amount':vehicle_amount,\n",
    "                   'demands':customer_demands,'vehicle_capacities':vehicle_capacities,\n",
    "                    'objective_amount':1,'objective_labels':['Fuel'],'constraint_amount':1,\n",
    "                    'objective_functions':[],'constraint_functions':[],\n",
    "                    'number_of_cities':distance_matrix.shape[0],\n",
    "                    'start_points':starts,'end_points':[0]}"
   ]
  },
  {
   "cell_type": "code",
   "execution_count": 58,
   "metadata": {},
   "outputs": [
    {
     "name": "stdout",
     "output_type": "stream",
     "text": [
      "[0, 1, 3, 6, 8, 9, 17, 18, 20, 2, 4, 10, 11, 5, 7, 12, 13, 14, 15, 16, 19]\n"
     ]
    },
    {
     "name": "stderr",
     "output_type": "stream",
     "text": [
      "/home/andreash/Documents/School/Master_Thesis/Explorer/env/lib/python3.8/site-packages/sklearn/cluster/_kmeans.py:984: RuntimeWarning: Explicit initial center position passed: performing only one init in KMeans instead of n_init=10.\n",
      "  self._check_params(X)\n"
     ]
    },
    {
     "data": {
      "image/png": "[encoded data removed]",
      "text/plain": [
       "<Figure size 720x720 with 1 Axes>"
      ]
     },
     "metadata": {
      "needs_background": "light"
     },
     "output_type": "display_data"
    }
   ],
   "source": [
    "import time\n",
    "\n",
    "import numpy as np\n",
    "import matplotlib.pyplot as plt\n",
    "\n",
    "from sklearn.cluster import MiniBatchKMeans, KMeans\n",
    "from sklearn.metrics.pairwise import pairwise_distances_argmin\n",
    "from sklearn.datasets import make_blobs\n",
    "\n",
    "# #############################################################################\n",
    "# Generate sample data\n",
    "np.random.seed(0)\n",
    "\n",
    "centers = points_coordinate[data_model_input[\"start_points\"]]#[[1, 1], [-1, -1], [1, -1]]\n",
    "\n",
    "n_clusters = len(centers)\n",
    "X = points_coordinate\n",
    "#X = np.delete(X,data_model_input[\"start_points\"],0)\n",
    "\n",
    "#X, labels_true = make_blobs(n_samples=3000, centers=centers, cluster_std=0.7)\n",
    "\n",
    "# #############################################################################\n",
    "# Compute clustering with Means\n",
    "\n",
    "k_means = KMeans(init=centers, n_clusters=n_clusters, max_iter=1)\n",
    "t0 = time.time()\n",
    "k_means.fit(X)\n",
    "t_batch = time.time() - t0\n",
    "\n",
    "# #############################################################################\n",
    "# Plot result\n",
    "\n",
    "fig = plt.figure(figsize=(10, 10))\n",
    "fig.subplots_adjust(left=0.02, right=0.98, bottom=0.05, top=0.9)\n",
    "colors = ['#4EACC5', '#FF9C34', '#4E9A06']\n",
    "\n",
    "# We want to have the same colors for the same cluster from the\n",
    "# MiniBatchKMeans and the KMeans algorithm. Let's pair the cluster centers per\n",
    "# closest one.\n",
    "k_means_cluster_centers = k_means.cluster_centers_\n",
    "\n",
    "#order = pairwise_distances_argmin(k_means.cluster_centers_,\n",
    "#                                  mbk.cluster_centers_)\n",
    "#mbk_means_cluster_centers = mbk.cluster_centers_[order]\n",
    "\n",
    "k_means_labels = pairwise_distances_argmin(X, k_means_cluster_centers)\n",
    "#mbk_means_labels = pairwise_distances_argmin(X, mbk_means_cluster_centers)\n",
    "init_permutation = []\n",
    "# KMeans\n",
    "for k, col in zip(range(n_clusters), colors):\n",
    "    my_members = k_means_labels == k\n",
    "    cluster_center = k_means_cluster_centers[k]\n",
    "    plt.plot(X[my_members, 1],X[my_members, 0] , 'w',\n",
    "            markerfacecolor=col, marker='.',markersize=20)\n",
    "    plt.plot( cluster_center[1],cluster_center[0], 'o', markerfacecolor=col,\n",
    "            markeredgecolor='k', markersize=18)\n",
    "    init_permutation.extend(np.arange(21)[my_members])\n",
    "    #print(np.arange(11)[my_members])\n",
    "print(init_permutation)\n",
    "plt.show()"
   ]
  },
  {
   "cell_type": "code",
   "execution_count": 33,
   "metadata": {},
   "outputs": [
    {
     "data": {
      "text/plain": [
       "array([0, 0, 0, 0, 1, 0, 0, 1, 1, 0, 0])"
      ]
     },
     "execution_count": 33,
     "metadata": {},
     "output_type": "execute_result"
    }
   ],
   "source": [
    "k_means_labels"
   ]
  },
  {
   "cell_type": "code",
   "execution_count": null,
   "metadata": {},
   "outputs": [],
   "source": []
  }
 ],
 "metadata": {
  "kernelspec": {
   "display_name": "Python 3",
   "language": "python",
   "name": "python3"
  },
  "language_info": {
   "codemirror_mode": {
    "name": "ipython",
    "version": 3
   },
   "file_extension": ".py",
   "mimetype": "text/x-python",
   "name": "python",
   "nbconvert_exporter": "python",
   "pygments_lexer": "ipython3",
   "version": "3.8.7"
  }
 },
 "nbformat": 4,
 "nbformat_minor": 4
}
